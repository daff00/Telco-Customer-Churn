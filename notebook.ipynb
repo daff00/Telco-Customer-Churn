{
 "cells": [
  {
   "cell_type": "markdown",
   "id": "07a7add8",
   "metadata": {},
   "source": [
    "# Telco Customer Churn - Python Analysis\n",
    "### Main Objective:\n",
    "1. Exploratory Data Anlaysis\n",
    "2. Data Pre-processing\n",
    "3. Model Building\n",
    "4. Model Evaluation\n",
    "---\n",
    "\n",
    "### Import Libraries"
   ]
  },
  {
   "cell_type": "code",
   "execution_count": 1,
   "id": "e9e5b7c8",
   "metadata": {},
   "outputs": [
    {
     "name": "stderr",
     "output_type": "stream",
     "text": [
      "e:\\Program\\Anaconda\\envs\\kaggle\\Lib\\site-packages\\tqdm\\auto.py:21: TqdmWarning: IProgress not found. Please update jupyter and ipywidgets. See https://ipywidgets.readthedocs.io/en/stable/user_install.html\n",
      "  from .autonotebook import tqdm as notebook_tqdm\n"
     ]
    }
   ],
   "source": [
    "# Base library\n",
    "import pandas as pd\n",
    "import numpy as np\n",
    "\n",
    "# MySQL Connector\n",
    "import mysql.connector\n",
    "from mysql.connector import Error\n",
    "\n",
    "# Visualization\n",
    "import seaborn as sns\n",
    "import matplotlib.pyplot as plt\n",
    "%matplotlib inline\n",
    "\n",
    "# Data Selection, cross-validation\n",
    "from sklearn.model_selection import train_test_split, cross_val_score\n",
    "\n",
    "# Data pre-processing\n",
    "from sklearn.preprocessing import OneHotEncoder, StandardScaler\n",
    "from imblearn.pipeline import Pipeline\n",
    "from imblearn.over_sampling import SMOTE\n",
    "\n",
    "# Model\n",
    "import optuna\n",
    "optuna.logging.set_verbosity(optuna.logging.WARNING)\n",
    "from functools import partial\n",
    "from tqdm import tqdm\n",
    "from sklearn.linear_model import LogisticRegression\n",
    "from sklearn.tree import DecisionTreeClassifier\n",
    "from sklearn.ensemble import RandomForestClassifier\n",
    "from xgboost import XGBClassifier\n",
    "\n",
    "# Evaluation metrics\n",
    "from sklearn.metrics import classification_report, roc_auc_score, confusion_matrix, accuracy_score"
   ]
  },
  {
   "cell_type": "markdown",
   "id": "f9fc1eb6",
   "metadata": {},
   "source": [
    "#### Load the data"
   ]
  },
  {
   "cell_type": "code",
   "execution_count": 2,
   "id": "c440b6ff",
   "metadata": {},
   "outputs": [],
   "source": [
    "# DB Config\n",
    "db_config = {\n",
    "    'host': 'localhost',\n",
    "    'user': 'root',\n",
    "    'password': 'root',\n",
    "    'database': 'telco_churn'\n",
    "}"
   ]
  },
  {
   "cell_type": "code",
   "execution_count": 3,
   "id": "a045276e",
   "metadata": {},
   "outputs": [
    {
     "name": "stdout",
     "output_type": "stream",
     "text": [
      "Successfully connected to the MySQL database.\n",
      "Data successfully loaded into a pandas DataFrame.\n",
      "MySQL connection is closed.\n"
     ]
    },
    {
     "name": "stderr",
     "output_type": "stream",
     "text": [
      "C:\\Users\\dkpc2\\AppData\\Local\\Temp\\ipykernel_22780\\3995519853.py:48: UserWarning: pandas only supports SQLAlchemy connectable (engine/connection) or database string URI or sqlite3 DBAPI2 connection. Other DBAPI2 objects are not tested. Please consider using SQLAlchemy.\n",
      "  df = pd.read_sql(sql_query, conn)\n"
     ]
    }
   ],
   "source": [
    "# SQL Query to load the data\n",
    "sql_query = \"\"\"\n",
    "SELECT\n",
    "    c.customerID,\n",
    "    c.gender,\n",
    "    c.SeniorCitizen,\n",
    "    c.Partner,\n",
    "    c.Dependents,\n",
    "    a.tenure,\n",
    "    a.Contract,\n",
    "    a.PaperlessBilling,\n",
    "    a.PaymentMethod,\n",
    "    a.MonthlyCharges,\n",
    "    a.TotalCharges,\n",
    "    s.PhoneService,\n",
    "    s.MultipleLines,\n",
    "    s.InternetService,\n",
    "    s.OnlineSecurity,\n",
    "    s.OnlineBackup,\n",
    "    s.DeviceProtection,\n",
    "    s.TechSupport,\n",
    "    s.StreamingTV,\n",
    "    s.StreamingMovies,\n",
    "    ch.Churn\n",
    "FROM\n",
    "    customers c\n",
    "JOIN\n",
    "    account_info a ON c.customerID = a.customerID\n",
    "JOIN\n",
    "    services s ON c.customerID = s.customerID\n",
    "JOIN\n",
    "    churn_data ch ON c.customerID = ch.customerID;\n",
    "\"\"\"\n",
    "\n",
    "# Connect to the database and load the data\n",
    "# Create a variable 'df' to hold the data\n",
    "df = None\n",
    "conn = None # Initialize connection to None\n",
    "\n",
    "try:\n",
    "    # Establish the connection\n",
    "    conn = mysql.connector.connect(**db_config)\n",
    "    \n",
    "    if conn.is_connected():\n",
    "        print(\"Successfully connected to the MySQL database.\")\n",
    "        \n",
    "        # Use pandas to execute the query and load data into a DataFrame\n",
    "        df = pd.read_sql(sql_query, conn)\n",
    "        \n",
    "        print(\"Data successfully loaded into a pandas DataFrame.\")\n",
    "\n",
    "except Error as e:\n",
    "    print(f\"Error connecting to MySQL or fetching data: {e}\")\n",
    "\n",
    "finally:\n",
    "    # Make sure to close the connection\n",
    "    if conn and conn.is_connected():\n",
    "        conn.close()\n",
    "        print(\"MySQL connection is closed.\")"
   ]
  },
  {
   "cell_type": "code",
   "execution_count": 4,
   "id": "27080d6f",
   "metadata": {},
   "outputs": [
    {
     "name": "stdout",
     "output_type": "stream",
     "text": [
      "\n",
      "--- Data Verification ---\n",
      "The DataFrame has 7043 rows and 21 columns.\n",
      "\n",
      "First 5 rows of the dataset:\n"
     ]
    },
    {
     "data": {
      "application/vnd.microsoft.datawrangler.viewer.v0+json": {
       "columns": [
        {
         "name": "index",
         "rawType": "int64",
         "type": "integer"
        },
        {
         "name": "customerID",
         "rawType": "object",
         "type": "string"
        },
        {
         "name": "gender",
         "rawType": "object",
         "type": "string"
        },
        {
         "name": "SeniorCitizen",
         "rawType": "int64",
         "type": "integer"
        },
        {
         "name": "Partner",
         "rawType": "object",
         "type": "string"
        },
        {
         "name": "Dependents",
         "rawType": "object",
         "type": "string"
        },
        {
         "name": "tenure",
         "rawType": "int64",
         "type": "integer"
        },
        {
         "name": "Contract",
         "rawType": "object",
         "type": "string"
        },
        {
         "name": "PaperlessBilling",
         "rawType": "object",
         "type": "string"
        },
        {
         "name": "PaymentMethod",
         "rawType": "object",
         "type": "string"
        },
        {
         "name": "MonthlyCharges",
         "rawType": "float64",
         "type": "float"
        },
        {
         "name": "TotalCharges",
         "rawType": "float64",
         "type": "float"
        },
        {
         "name": "PhoneService",
         "rawType": "object",
         "type": "string"
        },
        {
         "name": "MultipleLines",
         "rawType": "object",
         "type": "string"
        },
        {
         "name": "InternetService",
         "rawType": "object",
         "type": "string"
        },
        {
         "name": "OnlineSecurity",
         "rawType": "object",
         "type": "string"
        },
        {
         "name": "OnlineBackup",
         "rawType": "object",
         "type": "string"
        },
        {
         "name": "DeviceProtection",
         "rawType": "object",
         "type": "string"
        },
        {
         "name": "TechSupport",
         "rawType": "object",
         "type": "string"
        },
        {
         "name": "StreamingTV",
         "rawType": "object",
         "type": "string"
        },
        {
         "name": "StreamingMovies",
         "rawType": "object",
         "type": "string"
        },
        {
         "name": "Churn",
         "rawType": "object",
         "type": "string"
        }
       ],
       "ref": "ca1b54b7-3c21-4719-9b31-ee021aa5a18b",
       "rows": [
        [
         "0",
         "0002-ORFBO",
         "Female",
         "0",
         "Yes",
         "Yes",
         "9",
         "One year",
         "Yes",
         "Mailed check",
         "65.6",
         "593.3",
         "Yes",
         "No",
         "DSL",
         "No",
         "Yes",
         "No",
         "Yes",
         "Yes",
         "No",
         "No\r"
        ],
        [
         "1",
         "0003-MKNFE",
         "Male",
         "0",
         "No",
         "No",
         "9",
         "Month-to-month",
         "No",
         "Mailed check",
         "59.9",
         "542.4",
         "Yes",
         "Yes",
         "DSL",
         "No",
         "No",
         "No",
         "No",
         "No",
         "Yes",
         "No\r"
        ],
        [
         "2",
         "0004-TLHLJ",
         "Male",
         "0",
         "No",
         "No",
         "4",
         "Month-to-month",
         "Yes",
         "Electronic check",
         "73.9",
         "280.85",
         "Yes",
         "No",
         "Fiber optic",
         "No",
         "No",
         "Yes",
         "No",
         "No",
         "No",
         "Yes"
        ],
        [
         "3",
         "0011-IGKFF",
         "Male",
         "1",
         "Yes",
         "No",
         "13",
         "Month-to-month",
         "Yes",
         "Electronic check",
         "98.0",
         "1237.85",
         "Yes",
         "No",
         "Fiber optic",
         "No",
         "Yes",
         "Yes",
         "No",
         "Yes",
         "Yes",
         "Yes"
        ],
        [
         "4",
         "0013-EXCHZ",
         "Female",
         "1",
         "Yes",
         "No",
         "3",
         "Month-to-month",
         "Yes",
         "Mailed check",
         "83.9",
         "267.4",
         "Yes",
         "No",
         "Fiber optic",
         "No",
         "No",
         "No",
         "Yes",
         "Yes",
         "No",
         "Yes"
        ]
       ],
       "shape": {
        "columns": 21,
        "rows": 5
       }
      },
      "text/html": [
       "<div>\n",
       "<style scoped>\n",
       "    .dataframe tbody tr th:only-of-type {\n",
       "        vertical-align: middle;\n",
       "    }\n",
       "\n",
       "    .dataframe tbody tr th {\n",
       "        vertical-align: top;\n",
       "    }\n",
       "\n",
       "    .dataframe thead th {\n",
       "        text-align: right;\n",
       "    }\n",
       "</style>\n",
       "<table border=\"1\" class=\"dataframe\">\n",
       "  <thead>\n",
       "    <tr style=\"text-align: right;\">\n",
       "      <th></th>\n",
       "      <th>customerID</th>\n",
       "      <th>gender</th>\n",
       "      <th>SeniorCitizen</th>\n",
       "      <th>Partner</th>\n",
       "      <th>Dependents</th>\n",
       "      <th>tenure</th>\n",
       "      <th>Contract</th>\n",
       "      <th>PaperlessBilling</th>\n",
       "      <th>PaymentMethod</th>\n",
       "      <th>MonthlyCharges</th>\n",
       "      <th>...</th>\n",
       "      <th>PhoneService</th>\n",
       "      <th>MultipleLines</th>\n",
       "      <th>InternetService</th>\n",
       "      <th>OnlineSecurity</th>\n",
       "      <th>OnlineBackup</th>\n",
       "      <th>DeviceProtection</th>\n",
       "      <th>TechSupport</th>\n",
       "      <th>StreamingTV</th>\n",
       "      <th>StreamingMovies</th>\n",
       "      <th>Churn</th>\n",
       "    </tr>\n",
       "  </thead>\n",
       "  <tbody>\n",
       "    <tr>\n",
       "      <th>0</th>\n",
       "      <td>0002-ORFBO</td>\n",
       "      <td>Female</td>\n",
       "      <td>0</td>\n",
       "      <td>Yes</td>\n",
       "      <td>Yes</td>\n",
       "      <td>9</td>\n",
       "      <td>One year</td>\n",
       "      <td>Yes</td>\n",
       "      <td>Mailed check</td>\n",
       "      <td>65.6</td>\n",
       "      <td>...</td>\n",
       "      <td>Yes</td>\n",
       "      <td>No</td>\n",
       "      <td>DSL</td>\n",
       "      <td>No</td>\n",
       "      <td>Yes</td>\n",
       "      <td>No</td>\n",
       "      <td>Yes</td>\n",
       "      <td>Yes</td>\n",
       "      <td>No</td>\n",
       "      <td>No\\r</td>\n",
       "    </tr>\n",
       "    <tr>\n",
       "      <th>1</th>\n",
       "      <td>0003-MKNFE</td>\n",
       "      <td>Male</td>\n",
       "      <td>0</td>\n",
       "      <td>No</td>\n",
       "      <td>No</td>\n",
       "      <td>9</td>\n",
       "      <td>Month-to-month</td>\n",
       "      <td>No</td>\n",
       "      <td>Mailed check</td>\n",
       "      <td>59.9</td>\n",
       "      <td>...</td>\n",
       "      <td>Yes</td>\n",
       "      <td>Yes</td>\n",
       "      <td>DSL</td>\n",
       "      <td>No</td>\n",
       "      <td>No</td>\n",
       "      <td>No</td>\n",
       "      <td>No</td>\n",
       "      <td>No</td>\n",
       "      <td>Yes</td>\n",
       "      <td>No\\r</td>\n",
       "    </tr>\n",
       "    <tr>\n",
       "      <th>2</th>\n",
       "      <td>0004-TLHLJ</td>\n",
       "      <td>Male</td>\n",
       "      <td>0</td>\n",
       "      <td>No</td>\n",
       "      <td>No</td>\n",
       "      <td>4</td>\n",
       "      <td>Month-to-month</td>\n",
       "      <td>Yes</td>\n",
       "      <td>Electronic check</td>\n",
       "      <td>73.9</td>\n",
       "      <td>...</td>\n",
       "      <td>Yes</td>\n",
       "      <td>No</td>\n",
       "      <td>Fiber optic</td>\n",
       "      <td>No</td>\n",
       "      <td>No</td>\n",
       "      <td>Yes</td>\n",
       "      <td>No</td>\n",
       "      <td>No</td>\n",
       "      <td>No</td>\n",
       "      <td>Yes</td>\n",
       "    </tr>\n",
       "    <tr>\n",
       "      <th>3</th>\n",
       "      <td>0011-IGKFF</td>\n",
       "      <td>Male</td>\n",
       "      <td>1</td>\n",
       "      <td>Yes</td>\n",
       "      <td>No</td>\n",
       "      <td>13</td>\n",
       "      <td>Month-to-month</td>\n",
       "      <td>Yes</td>\n",
       "      <td>Electronic check</td>\n",
       "      <td>98.0</td>\n",
       "      <td>...</td>\n",
       "      <td>Yes</td>\n",
       "      <td>No</td>\n",
       "      <td>Fiber optic</td>\n",
       "      <td>No</td>\n",
       "      <td>Yes</td>\n",
       "      <td>Yes</td>\n",
       "      <td>No</td>\n",
       "      <td>Yes</td>\n",
       "      <td>Yes</td>\n",
       "      <td>Yes</td>\n",
       "    </tr>\n",
       "    <tr>\n",
       "      <th>4</th>\n",
       "      <td>0013-EXCHZ</td>\n",
       "      <td>Female</td>\n",
       "      <td>1</td>\n",
       "      <td>Yes</td>\n",
       "      <td>No</td>\n",
       "      <td>3</td>\n",
       "      <td>Month-to-month</td>\n",
       "      <td>Yes</td>\n",
       "      <td>Mailed check</td>\n",
       "      <td>83.9</td>\n",
       "      <td>...</td>\n",
       "      <td>Yes</td>\n",
       "      <td>No</td>\n",
       "      <td>Fiber optic</td>\n",
       "      <td>No</td>\n",
       "      <td>No</td>\n",
       "      <td>No</td>\n",
       "      <td>Yes</td>\n",
       "      <td>Yes</td>\n",
       "      <td>No</td>\n",
       "      <td>Yes</td>\n",
       "    </tr>\n",
       "  </tbody>\n",
       "</table>\n",
       "<p>5 rows × 21 columns</p>\n",
       "</div>"
      ],
      "text/plain": [
       "   customerID  gender  SeniorCitizen Partner Dependents  tenure  \\\n",
       "0  0002-ORFBO  Female              0     Yes        Yes       9   \n",
       "1  0003-MKNFE    Male              0      No         No       9   \n",
       "2  0004-TLHLJ    Male              0      No         No       4   \n",
       "3  0011-IGKFF    Male              1     Yes         No      13   \n",
       "4  0013-EXCHZ  Female              1     Yes         No       3   \n",
       "\n",
       "         Contract PaperlessBilling     PaymentMethod  MonthlyCharges  ...  \\\n",
       "0        One year              Yes      Mailed check            65.6  ...   \n",
       "1  Month-to-month               No      Mailed check            59.9  ...   \n",
       "2  Month-to-month              Yes  Electronic check            73.9  ...   \n",
       "3  Month-to-month              Yes  Electronic check            98.0  ...   \n",
       "4  Month-to-month              Yes      Mailed check            83.9  ...   \n",
       "\n",
       "   PhoneService MultipleLines InternetService OnlineSecurity OnlineBackup  \\\n",
       "0           Yes            No             DSL             No          Yes   \n",
       "1           Yes           Yes             DSL             No           No   \n",
       "2           Yes            No     Fiber optic             No           No   \n",
       "3           Yes            No     Fiber optic             No          Yes   \n",
       "4           Yes            No     Fiber optic             No           No   \n",
       "\n",
       "  DeviceProtection TechSupport StreamingTV StreamingMovies Churn  \n",
       "0               No         Yes         Yes              No  No\\r  \n",
       "1               No          No          No             Yes  No\\r  \n",
       "2              Yes          No          No              No   Yes  \n",
       "3              Yes          No         Yes             Yes   Yes  \n",
       "4               No         Yes         Yes              No   Yes  \n",
       "\n",
       "[5 rows x 21 columns]"
      ]
     },
     "metadata": {},
     "output_type": "display_data"
    },
    {
     "name": "stdout",
     "output_type": "stream",
     "text": [
      "\n",
      "DataFrame Info:\n",
      "<class 'pandas.core.frame.DataFrame'>\n",
      "RangeIndex: 7043 entries, 0 to 7042\n",
      "Data columns (total 21 columns):\n",
      " #   Column            Non-Null Count  Dtype  \n",
      "---  ------            --------------  -----  \n",
      " 0   customerID        7043 non-null   object \n",
      " 1   gender            7043 non-null   object \n",
      " 2   SeniorCitizen     7043 non-null   int64  \n",
      " 3   Partner           7043 non-null   object \n",
      " 4   Dependents        7043 non-null   object \n",
      " 5   tenure            7043 non-null   int64  \n",
      " 6   Contract          7043 non-null   object \n",
      " 7   PaperlessBilling  7043 non-null   object \n",
      " 8   PaymentMethod     7043 non-null   object \n",
      " 9   MonthlyCharges    7043 non-null   float64\n",
      " 10  TotalCharges      7032 non-null   float64\n",
      " 11  PhoneService      7043 non-null   object \n",
      " 12  MultipleLines     7043 non-null   object \n",
      " 13  InternetService   7043 non-null   object \n",
      " 14  OnlineSecurity    7043 non-null   object \n",
      " 15  OnlineBackup      7043 non-null   object \n",
      " 16  DeviceProtection  7043 non-null   object \n",
      " 17  TechSupport       7043 non-null   object \n",
      " 18  StreamingTV       7043 non-null   object \n",
      " 19  StreamingMovies   7043 non-null   object \n",
      " 20  Churn             7043 non-null   object \n",
      "dtypes: float64(2), int64(2), object(17)\n",
      "memory usage: 1.1+ MB\n"
     ]
    }
   ],
   "source": [
    "# Check if the dataset is loaded properly\n",
    "if df is not None:\n",
    "    print(\"\\n--- Data Verification ---\")\n",
    "    \n",
    "    # Check the number of rows and columns loaded\n",
    "    # This should show approximately (7043, 21)\n",
    "    print(f\"The DataFrame has {df.shape[0]} rows and {df.shape[1]} columns.\")\n",
    "    \n",
    "    # Display the first 5 rows to see what the data looks like\n",
    "    print(\"\\nFirst 5 rows of the dataset:\")\n",
    "    display(df.head())\n",
    "    \n",
    "    # Display summary info to check for null values and data types\n",
    "    print(\"\\nDataFrame Info:\")\n",
    "    df.info()"
   ]
  },
  {
   "cell_type": "markdown",
   "id": "56bdc326",
   "metadata": {},
   "source": [
    "#### Initial Profiling"
   ]
  },
  {
   "cell_type": "code",
   "execution_count": 5,
   "id": "e2e93b2c",
   "metadata": {},
   "outputs": [
    {
     "data": {
      "application/vnd.microsoft.datawrangler.viewer.v0+json": {
       "columns": [
        {
         "name": "index",
         "rawType": "object",
         "type": "string"
        },
        {
         "name": "0",
         "rawType": "int64",
         "type": "integer"
        }
       ],
       "ref": "dec683f4-1dda-4a44-9086-628782180f70",
       "rows": [
        [
         "customerID",
         "0"
        ],
        [
         "gender",
         "0"
        ],
        [
         "SeniorCitizen",
         "0"
        ],
        [
         "Partner",
         "0"
        ],
        [
         "Dependents",
         "0"
        ],
        [
         "tenure",
         "0"
        ],
        [
         "Contract",
         "0"
        ],
        [
         "PaperlessBilling",
         "0"
        ],
        [
         "PaymentMethod",
         "0"
        ],
        [
         "MonthlyCharges",
         "0"
        ],
        [
         "TotalCharges",
         "11"
        ],
        [
         "PhoneService",
         "0"
        ],
        [
         "MultipleLines",
         "0"
        ],
        [
         "InternetService",
         "0"
        ],
        [
         "OnlineSecurity",
         "0"
        ],
        [
         "OnlineBackup",
         "0"
        ],
        [
         "DeviceProtection",
         "0"
        ],
        [
         "TechSupport",
         "0"
        ],
        [
         "StreamingTV",
         "0"
        ],
        [
         "StreamingMovies",
         "0"
        ],
        [
         "Churn",
         "0"
        ]
       ],
       "shape": {
        "columns": 1,
        "rows": 21
       }
      },
      "text/plain": [
       "customerID           0\n",
       "gender               0\n",
       "SeniorCitizen        0\n",
       "Partner              0\n",
       "Dependents           0\n",
       "tenure               0\n",
       "Contract             0\n",
       "PaperlessBilling     0\n",
       "PaymentMethod        0\n",
       "MonthlyCharges       0\n",
       "TotalCharges        11\n",
       "PhoneService         0\n",
       "MultipleLines        0\n",
       "InternetService      0\n",
       "OnlineSecurity       0\n",
       "OnlineBackup         0\n",
       "DeviceProtection     0\n",
       "TechSupport          0\n",
       "StreamingTV          0\n",
       "StreamingMovies      0\n",
       "Churn                0\n",
       "dtype: int64"
      ]
     },
     "execution_count": 5,
     "metadata": {},
     "output_type": "execute_result"
    }
   ],
   "source": [
    "missing_val = df.isna().sum()\n",
    "missing_val"
   ]
  },
  {
   "cell_type": "code",
   "execution_count": 6,
   "id": "638e3e85",
   "metadata": {},
   "outputs": [],
   "source": [
    "df['Churn'] = df['Churn'].str.replace(r'\\s+', ' ', regex=True).str.strip()"
   ]
  },
  {
   "cell_type": "markdown",
   "id": "53d4452e",
   "metadata": {},
   "source": [
    "There's 11 missing values on TotalCharges column. We will drop the missing values."
   ]
  },
  {
   "cell_type": "code",
   "execution_count": 7,
   "id": "33001391",
   "metadata": {},
   "outputs": [
    {
     "name": "stdout",
     "output_type": "stream",
     "text": [
      "<class 'pandas.core.frame.DataFrame'>\n",
      "Index: 7032 entries, 0 to 7042\n",
      "Data columns (total 21 columns):\n",
      " #   Column            Non-Null Count  Dtype  \n",
      "---  ------            --------------  -----  \n",
      " 0   customerID        7032 non-null   object \n",
      " 1   gender            7032 non-null   object \n",
      " 2   SeniorCitizen     7032 non-null   int64  \n",
      " 3   Partner           7032 non-null   object \n",
      " 4   Dependents        7032 non-null   object \n",
      " 5   tenure            7032 non-null   int64  \n",
      " 6   Contract          7032 non-null   object \n",
      " 7   PaperlessBilling  7032 non-null   object \n",
      " 8   PaymentMethod     7032 non-null   object \n",
      " 9   MonthlyCharges    7032 non-null   float64\n",
      " 10  TotalCharges      7032 non-null   float64\n",
      " 11  PhoneService      7032 non-null   object \n",
      " 12  MultipleLines     7032 non-null   object \n",
      " 13  InternetService   7032 non-null   object \n",
      " 14  OnlineSecurity    7032 non-null   object \n",
      " 15  OnlineBackup      7032 non-null   object \n",
      " 16  DeviceProtection  7032 non-null   object \n",
      " 17  TechSupport       7032 non-null   object \n",
      " 18  StreamingTV       7032 non-null   object \n",
      " 19  StreamingMovies   7032 non-null   object \n",
      " 20  Churn             7032 non-null   object \n",
      "dtypes: float64(2), int64(2), object(17)\n",
      "memory usage: 1.2+ MB\n"
     ]
    }
   ],
   "source": [
    "df = df.dropna(axis=0)\n",
    "df.info()"
   ]
  },
  {
   "cell_type": "code",
   "execution_count": 8,
   "id": "070403ca",
   "metadata": {},
   "outputs": [
    {
     "data": {
      "text/plain": [
       "np.int64(0)"
      ]
     },
     "execution_count": 8,
     "metadata": {},
     "output_type": "execute_result"
    }
   ],
   "source": [
    "# Check duplicate\n",
    "df.duplicated().sum()"
   ]
  },
  {
   "cell_type": "markdown",
   "id": "3dc130c1",
   "metadata": {},
   "source": [
    "No duplicate found on the dataset."
   ]
  },
  {
   "cell_type": "markdown",
   "id": "e6307d70",
   "metadata": {},
   "source": [
    "#### Exploratory Data Analysis\n",
    "We will conduct:\n",
    "1. Check Customer's churn distribution\n",
    "2. Check Customer's gender distribution\n",
    "3. Check customer's gender distribution by Churn\n",
    "4. Check customer's internet service type distribution\n",
    "5. Check customer's contract type\n",
    "6. Check customer's churn rate by Contract type\n",
    "7. Check customer's average MonthlyCharges for customers who churned vs. those who didn't\n",
    "8. Check customer's churn rate by Internet Service type"
   ]
  },
  {
   "cell_type": "code",
   "execution_count": 9,
   "id": "632378d8",
   "metadata": {},
   "outputs": [
    {
     "data": {
      "image/png": "[encoded data removed]",
      "text/plain": [
       "<Figure size 500x400 with 1 Axes>"
      ]
     },
     "metadata": {},
     "output_type": "display_data"
    }
   ],
   "source": [
    "# Check Customer's Churn Distribution\n",
    "plt.figure(figsize=(5, 4))\n",
    "sns.countplot(data=df, x='Churn', hue='Churn', palette='Set2', legend=False)\n",
    "plt.title(\"Churn Distribution\")\n",
    "plt.xlabel(\"Churn\")\n",
    "plt.ylabel(\"Count\")\n",
    "plt.tight_layout()\n",
    "plt.show()"
   ]
  },
  {
   "cell_type": "code",
   "execution_count": 10,
   "id": "80a677bf",
   "metadata": {},
   "outputs": [
    {
     "data": {
      "image/png": "[encoded data removed]",
      "text/plain": [
       "<Figure size 500x400 with 1 Axes>"
      ]
     },
     "metadata": {},
     "output_type": "display_data"
    }
   ],
   "source": [
    "# Check Customer's Gender Distribution\n",
    "plt.figure(figsize=(5, 4))\n",
    "sns.countplot(data=df, x='gender', hue='gender', palette='pastel', legend=False)\n",
    "plt.title(\"Gender Distribution\")\n",
    "plt.xlabel(\"Gender\")\n",
    "plt.ylabel(\"Count\")\n",
    "plt.tight_layout()\n",
    "plt.show()\n"
   ]
  },
  {
   "cell_type": "code",
   "execution_count": 11,
   "id": "629ca514",
   "metadata": {},
   "outputs": [
    {
     "data": {
      "image/png": "[encoded data removed]",
      "text/plain": [
       "<Figure size 600x400 with 1 Axes>"
      ]
     },
     "metadata": {},
     "output_type": "display_data"
    }
   ],
   "source": [
    "# Check Customer's Gender Distribution by Churn\n",
    "plt.figure(figsize=(6, 4))\n",
    "sns.countplot(data=df, x='gender', hue='Churn', palette='pastel')\n",
    "plt.title(\"Churn Distribution by Gender\")\n",
    "plt.xlabel(\"Gender\")\n",
    "plt.ylabel(\"Count\")\n",
    "plt.legend(title=\"Churn\")\n",
    "plt.tight_layout()\n",
    "plt.show()"
   ]
  },
  {
   "cell_type": "code",
   "execution_count": 12,
   "id": "45db7c80",
   "metadata": {},
   "outputs": [
    {
     "data": {
      "image/png": "[encoded data removed]",
      "text/plain": [
       "<Figure size 600x400 with 1 Axes>"
      ]
     },
     "metadata": {},
     "output_type": "display_data"
    }
   ],
   "source": [
    "# Check Customer's Internet Service Type Distribution\n",
    "plt.figure(figsize=(6, 4))\n",
    "sns.countplot(data=df, x='InternetService', hue='InternetService', palette='Set3', legend=False)\n",
    "plt.title(\"Internet Service Type Distribution\")\n",
    "plt.xlabel(\"Internet Service\")\n",
    "plt.ylabel(\"Count\")\n",
    "plt.tight_layout()\n",
    "plt.show()"
   ]
  },
  {
   "cell_type": "code",
   "execution_count": 13,
   "id": "bdd20f5e",
   "metadata": {},
   "outputs": [
    {
     "data": {
      "image/png": "[encoded data removed]",
      "text/plain": [
       "<Figure size 600x400 with 1 Axes>"
      ]
     },
     "metadata": {},
     "output_type": "display_data"
    }
   ],
   "source": [
    "# Contract Type Distribution\n",
    "plt.figure(figsize=(6, 4))\n",
    "sns.countplot(data=df, x='Contract', hue='Contract', palette='coolwarm', legend=False)\n",
    "plt.title(\"Contract Type Distribution\")\n",
    "plt.xlabel(\"Contract Type\")\n",
    "plt.ylabel(\"Count\")\n",
    "plt.tight_layout()\n",
    "plt.show()"
   ]
  },
  {
   "cell_type": "code",
   "execution_count": 14,
   "id": "85f466fc",
   "metadata": {},
   "outputs": [
    {
     "data": {
      "image/png": "[encoded data removed]",
      "text/plain": [
       "<Figure size 600x400 with 1 Axes>"
      ]
     },
     "metadata": {},
     "output_type": "display_data"
    }
   ],
   "source": [
    "# Churn Rate by Contract Type\n",
    "contract_churn = pd.crosstab(df['Contract'], df['Churn'], normalize='index') * 100\n",
    "contract_churn.plot(kind='bar', stacked=True, color=['lightgreen', 'salmon'], figsize=(6, 4))\n",
    "plt.title(\"Churn Rate by Contract Type\")\n",
    "plt.ylabel(\"Percentage\")\n",
    "plt.xlabel(\"Contract Type\")\n",
    "plt.legend(title='Churn', loc='upper right')\n",
    "plt.tight_layout()\n",
    "plt.show()"
   ]
  },
  {
   "cell_type": "code",
   "execution_count": 15,
   "id": "27f1d1aa",
   "metadata": {},
   "outputs": [
    {
     "data": {
      "image/png": "[encoded data removed]",
      "text/plain": [
       "<Figure size 600x400 with 1 Axes>"
      ]
     },
     "metadata": {},
     "output_type": "display_data"
    }
   ],
   "source": [
    "# Avg MonthlyCharges for Churned vs Not Churned\n",
    "plt.figure(figsize=(6, 4))\n",
    "sns.boxplot(data=df, x='Churn', y='MonthlyCharges', hue='Churn', palette='Set2')\n",
    "plt.title(\"Monthly Charges vs Churn\")\n",
    "plt.xlabel(\"Churn\")\n",
    "plt.ylabel(\"Monthly Charges\")\n",
    "plt.tight_layout()\n",
    "plt.show()"
   ]
  },
  {
   "cell_type": "code",
   "execution_count": 16,
   "id": "f514aad6",
   "metadata": {},
   "outputs": [
    {
     "data": {
      "image/png": "[encoded data removed]",
      "text/plain": [
       "<Figure size 600x400 with 1 Axes>"
      ]
     },
     "metadata": {},
     "output_type": "display_data"
    }
   ],
   "source": [
    "# Churn Rate by Internet Service Type\n",
    "internet_churn = pd.crosstab(df['InternetService'], df['Churn'], normalize='index') * 100\n",
    "internet_churn.plot(kind='bar', stacked=True, color=['lightblue', 'tomato'], figsize=(6, 4))\n",
    "plt.title(\"Churn Rate by Internet Service\")\n",
    "plt.ylabel(\"Percentage\")\n",
    "plt.xlabel(\"Internet Service\")\n",
    "plt.legend(title='Churn', loc='upper right')\n",
    "plt.tight_layout()\n",
    "plt.show()"
   ]
  },
  {
   "cell_type": "markdown",
   "id": "b3528baa",
   "metadata": {},
   "source": [
    "#### Exploratory Data Analysis (EDA) Summary\n",
    "\n",
    "1. Churn Distribution\n",
    "- The dataset is imbalanced — most customers did **not churn**.\n",
    "- Use SMOTE or resampling for modeling.\n",
    "- Accuracy is not reliable; use AUC-ROC, F1, and recall.\n",
    "\n",
    "\n",
    "\n",
    "2. Gender Distribution\n",
    "- Male and female customers are nearly balanced.\n",
    "- Gender may not be a strong predictor of churn.\n",
    "\n",
    "\n",
    "\n",
    "3. Internet Service Type\n",
    "- Majority use **Fiber optic** or **DSL**.\n",
    "- Customers with **no internet** rarely churn.\n",
    "\n",
    "\n",
    "\n",
    "4. Contract Type\n",
    "- Most customers are on **Month-to-month** contracts.\n",
    "- Longer contracts (1–2 years) may reduce churn.\n",
    "\n",
    "\n",
    "\n",
    "5. Churn Rate by Contract\n",
    "- **Month-to-month** customers churn the most.\n",
    "- Loyalty programs for long-term contracts could reduce churn.\n",
    "\n",
    "\n",
    "\n",
    "6. Monthly Charges vs. Churn\n",
    "- Churned customers have **higher monthly charges**.\n",
    "- Price sensitivity may be a churn driver.\n",
    "\n",
    "\n",
    "\n",
    "7. Churn Rate by Internet Service\n",
    "- **Fiber optic** users churn more than others.\n",
    "- Service quality vs. price perception could be an issue.\n",
    "\n",
    "\n",
    "\n",
    "8. Gender vs. Churn\n",
    "- No significant difference in churn between genders.\n",
    "- Gender is likely **not a key feature**.\n",
    "\n",
    "\n",
    "#### Key Takeaways\n",
    "- Important features for modeling: `Contract`, `InternetService`, `MonthlyCharges`, `tenure`, `TotalCharges`.\n",
    "- Data imbalance must be addressed in modeling.\n",
    "- Focus on high-churn segments (e.g., fiber optic + month-to-month + high cost)."
   ]
  },
  {
   "cell_type": "markdown",
   "id": "0a469801",
   "metadata": {},
   "source": [
    "---\n",
    "\n",
    "#### Data Pre-processing\n",
    "\n",
    "We will conduct:\n",
    "- Handle missing values\n",
    "- Encode categorical features (binary & one-hot)\n",
    "- Scale numerical features\n",
    "- Handle outliers (IQR/Z-score)\n",
    "- Feature engineering (e.g., TotalSpent, HasInternet)\n",
    "- Balance target classes (SMOTE or other)\n",
    "- Convert target `Churn` to binary integer\n",
    "- Stratified train-test split\n",
    "- Check multicollinearity between features\n",
    "- Detect and prevent data leakage\n",
    "\n",
    "Handle any remaining missing values (If there's any)"
   ]
  },
  {
   "cell_type": "code",
   "execution_count": 17,
   "id": "211aca46",
   "metadata": {},
   "outputs": [
    {
     "data": {
      "application/vnd.microsoft.datawrangler.viewer.v0+json": {
       "columns": [
        {
         "name": "index",
         "rawType": "object",
         "type": "string"
        },
        {
         "name": "0",
         "rawType": "int64",
         "type": "integer"
        }
       ],
       "ref": "4bd76615-b57c-42e4-8c9c-92213925047e",
       "rows": [
        [
         "customerID",
         "0"
        ],
        [
         "gender",
         "0"
        ],
        [
         "SeniorCitizen",
         "0"
        ],
        [
         "Partner",
         "0"
        ],
        [
         "Dependents",
         "0"
        ],
        [
         "tenure",
         "0"
        ],
        [
         "Contract",
         "0"
        ],
        [
         "PaperlessBilling",
         "0"
        ],
        [
         "PaymentMethod",
         "0"
        ],
        [
         "MonthlyCharges",
         "0"
        ],
        [
         "TotalCharges",
         "0"
        ],
        [
         "PhoneService",
         "0"
        ],
        [
         "MultipleLines",
         "0"
        ],
        [
         "InternetService",
         "0"
        ],
        [
         "OnlineSecurity",
         "0"
        ],
        [
         "OnlineBackup",
         "0"
        ],
        [
         "DeviceProtection",
         "0"
        ],
        [
         "TechSupport",
         "0"
        ],
        [
         "StreamingTV",
         "0"
        ],
        [
         "StreamingMovies",
         "0"
        ],
        [
         "Churn",
         "0"
        ]
       ],
       "shape": {
        "columns": 1,
        "rows": 21
       }
      },
      "text/plain": [
       "customerID          0\n",
       "gender              0\n",
       "SeniorCitizen       0\n",
       "Partner             0\n",
       "Dependents          0\n",
       "tenure              0\n",
       "Contract            0\n",
       "PaperlessBilling    0\n",
       "PaymentMethod       0\n",
       "MonthlyCharges      0\n",
       "TotalCharges        0\n",
       "PhoneService        0\n",
       "MultipleLines       0\n",
       "InternetService     0\n",
       "OnlineSecurity      0\n",
       "OnlineBackup        0\n",
       "DeviceProtection    0\n",
       "TechSupport         0\n",
       "StreamingTV         0\n",
       "StreamingMovies     0\n",
       "Churn               0\n",
       "dtype: int64"
      ]
     },
     "execution_count": 17,
     "metadata": {},
     "output_type": "execute_result"
    }
   ],
   "source": [
    "# Check if there are any extra missing values\n",
    "df.isnull().sum()"
   ]
  },
  {
   "cell_type": "markdown",
   "id": "7ebbcb00",
   "metadata": {},
   "source": [
    "No remaining/extra missing values on the dataset."
   ]
  },
  {
   "cell_type": "code",
   "execution_count": 18,
   "id": "444f7728",
   "metadata": {},
   "outputs": [
    {
     "data": {
      "application/vnd.microsoft.datawrangler.viewer.v0+json": {
       "columns": [
        {
         "name": "index",
         "rawType": "int64",
         "type": "integer"
        },
        {
         "name": "customerID",
         "rawType": "object",
         "type": "string"
        },
        {
         "name": "gender",
         "rawType": "object",
         "type": "string"
        },
        {
         "name": "SeniorCitizen",
         "rawType": "int64",
         "type": "integer"
        },
        {
         "name": "Partner",
         "rawType": "object",
         "type": "string"
        },
        {
         "name": "Dependents",
         "rawType": "object",
         "type": "string"
        },
        {
         "name": "tenure",
         "rawType": "int64",
         "type": "integer"
        },
        {
         "name": "Contract",
         "rawType": "object",
         "type": "string"
        },
        {
         "name": "PaperlessBilling",
         "rawType": "object",
         "type": "string"
        },
        {
         "name": "PaymentMethod",
         "rawType": "object",
         "type": "string"
        },
        {
         "name": "MonthlyCharges",
         "rawType": "float64",
         "type": "float"
        },
        {
         "name": "TotalCharges",
         "rawType": "float64",
         "type": "float"
        },
        {
         "name": "PhoneService",
         "rawType": "object",
         "type": "string"
        },
        {
         "name": "MultipleLines",
         "rawType": "object",
         "type": "string"
        },
        {
         "name": "InternetService",
         "rawType": "object",
         "type": "string"
        },
        {
         "name": "OnlineSecurity",
         "rawType": "object",
         "type": "string"
        },
        {
         "name": "OnlineBackup",
         "rawType": "object",
         "type": "string"
        },
        {
         "name": "DeviceProtection",
         "rawType": "object",
         "type": "string"
        },
        {
         "name": "TechSupport",
         "rawType": "object",
         "type": "string"
        },
        {
         "name": "StreamingTV",
         "rawType": "object",
         "type": "string"
        },
        {
         "name": "StreamingMovies",
         "rawType": "object",
         "type": "string"
        },
        {
         "name": "Churn",
         "rawType": "object",
         "type": "string"
        }
       ],
       "ref": "e38c4d31-7d07-433c-b765-83a9c85610ab",
       "rows": [
        [
         "0",
         "0002-ORFBO",
         "Female",
         "0",
         "Yes",
         "Yes",
         "9",
         "One year",
         "Yes",
         "Mailed check",
         "65.6",
         "593.3",
         "Yes",
         "No",
         "DSL",
         "No",
         "Yes",
         "No",
         "Yes",
         "Yes",
         "No",
         "No"
        ],
        [
         "1",
         "0003-MKNFE",
         "Male",
         "0",
         "No",
         "No",
         "9",
         "Month-to-month",
         "No",
         "Mailed check",
         "59.9",
         "542.4",
         "Yes",
         "Yes",
         "DSL",
         "No",
         "No",
         "No",
         "No",
         "No",
         "Yes",
         "No"
        ],
        [
         "2",
         "0004-TLHLJ",
         "Male",
         "0",
         "No",
         "No",
         "4",
         "Month-to-month",
         "Yes",
         "Electronic check",
         "73.9",
         "280.85",
         "Yes",
         "No",
         "Fiber optic",
         "No",
         "No",
         "Yes",
         "No",
         "No",
         "No",
         "Yes"
        ],
        [
         "3",
         "0011-IGKFF",
         "Male",
         "1",
         "Yes",
         "No",
         "13",
         "Month-to-month",
         "Yes",
         "Electronic check",
         "98.0",
         "1237.85",
         "Yes",
         "No",
         "Fiber optic",
         "No",
         "Yes",
         "Yes",
         "No",
         "Yes",
         "Yes",
         "Yes"
        ],
        [
         "4",
         "0013-EXCHZ",
         "Female",
         "1",
         "Yes",
         "No",
         "3",
         "Month-to-month",
         "Yes",
         "Mailed check",
         "83.9",
         "267.4",
         "Yes",
         "No",
         "Fiber optic",
         "No",
         "No",
         "No",
         "Yes",
         "Yes",
         "No",
         "Yes"
        ]
       ],
       "shape": {
        "columns": 21,
        "rows": 5
       }
      },
      "text/html": [
       "<div>\n",
       "<style scoped>\n",
       "    .dataframe tbody tr th:only-of-type {\n",
       "        vertical-align: middle;\n",
       "    }\n",
       "\n",
       "    .dataframe tbody tr th {\n",
       "        vertical-align: top;\n",
       "    }\n",
       "\n",
       "    .dataframe thead th {\n",
       "        text-align: right;\n",
       "    }\n",
       "</style>\n",
       "<table border=\"1\" class=\"dataframe\">\n",
       "  <thead>\n",
       "    <tr style=\"text-align: right;\">\n",
       "      <th></th>\n",
       "      <th>customerID</th>\n",
       "      <th>gender</th>\n",
       "      <th>SeniorCitizen</th>\n",
       "      <th>Partner</th>\n",
       "      <th>Dependents</th>\n",
       "      <th>tenure</th>\n",
       "      <th>Contract</th>\n",
       "      <th>PaperlessBilling</th>\n",
       "      <th>PaymentMethod</th>\n",
       "      <th>MonthlyCharges</th>\n",
       "      <th>...</th>\n",
       "      <th>PhoneService</th>\n",
       "      <th>MultipleLines</th>\n",
       "      <th>InternetService</th>\n",
       "      <th>OnlineSecurity</th>\n",
       "      <th>OnlineBackup</th>\n",
       "      <th>DeviceProtection</th>\n",
       "      <th>TechSupport</th>\n",
       "      <th>StreamingTV</th>\n",
       "      <th>StreamingMovies</th>\n",
       "      <th>Churn</th>\n",
       "    </tr>\n",
       "  </thead>\n",
       "  <tbody>\n",
       "    <tr>\n",
       "      <th>0</th>\n",
       "      <td>0002-ORFBO</td>\n",
       "      <td>Female</td>\n",
       "      <td>0</td>\n",
       "      <td>Yes</td>\n",
       "      <td>Yes</td>\n",
       "      <td>9</td>\n",
       "      <td>One year</td>\n",
       "      <td>Yes</td>\n",
       "      <td>Mailed check</td>\n",
       "      <td>65.6</td>\n",
       "      <td>...</td>\n",
       "      <td>Yes</td>\n",
       "      <td>No</td>\n",
       "      <td>DSL</td>\n",
       "      <td>No</td>\n",
       "      <td>Yes</td>\n",
       "      <td>No</td>\n",
       "      <td>Yes</td>\n",
       "      <td>Yes</td>\n",
       "      <td>No</td>\n",
       "      <td>No</td>\n",
       "    </tr>\n",
       "    <tr>\n",
       "      <th>1</th>\n",
       "      <td>0003-MKNFE</td>\n",
       "      <td>Male</td>\n",
       "      <td>0</td>\n",
       "      <td>No</td>\n",
       "      <td>No</td>\n",
       "      <td>9</td>\n",
       "      <td>Month-to-month</td>\n",
       "      <td>No</td>\n",
       "      <td>Mailed check</td>\n",
       "      <td>59.9</td>\n",
       "      <td>...</td>\n",
       "      <td>Yes</td>\n",
       "      <td>Yes</td>\n",
       "      <td>DSL</td>\n",
       "      <td>No</td>\n",
       "      <td>No</td>\n",
       "      <td>No</td>\n",
       "      <td>No</td>\n",
       "      <td>No</td>\n",
       "      <td>Yes</td>\n",
       "      <td>No</td>\n",
       "    </tr>\n",
       "    <tr>\n",
       "      <th>2</th>\n",
       "      <td>0004-TLHLJ</td>\n",
       "      <td>Male</td>\n",
       "      <td>0</td>\n",
       "      <td>No</td>\n",
       "      <td>No</td>\n",
       "      <td>4</td>\n",
       "      <td>Month-to-month</td>\n",
       "      <td>Yes</td>\n",
       "      <td>Electronic check</td>\n",
       "      <td>73.9</td>\n",
       "      <td>...</td>\n",
       "      <td>Yes</td>\n",
       "      <td>No</td>\n",
       "      <td>Fiber optic</td>\n",
       "      <td>No</td>\n",
       "      <td>No</td>\n",
       "      <td>Yes</td>\n",
       "      <td>No</td>\n",
       "      <td>No</td>\n",
       "      <td>No</td>\n",
       "      <td>Yes</td>\n",
       "    </tr>\n",
       "    <tr>\n",
       "      <th>3</th>\n",
       "      <td>0011-IGKFF</td>\n",
       "      <td>Male</td>\n",
       "      <td>1</td>\n",
       "      <td>Yes</td>\n",
       "      <td>No</td>\n",
       "      <td>13</td>\n",
       "      <td>Month-to-month</td>\n",
       "      <td>Yes</td>\n",
       "      <td>Electronic check</td>\n",
       "      <td>98.0</td>\n",
       "      <td>...</td>\n",
       "      <td>Yes</td>\n",
       "      <td>No</td>\n",
       "      <td>Fiber optic</td>\n",
       "      <td>No</td>\n",
       "      <td>Yes</td>\n",
       "      <td>Yes</td>\n",
       "      <td>No</td>\n",
       "      <td>Yes</td>\n",
       "      <td>Yes</td>\n",
       "      <td>Yes</td>\n",
       "    </tr>\n",
       "    <tr>\n",
       "      <th>4</th>\n",
       "      <td>0013-EXCHZ</td>\n",
       "      <td>Female</td>\n",
       "      <td>1</td>\n",
       "      <td>Yes</td>\n",
       "      <td>No</td>\n",
       "      <td>3</td>\n",
       "      <td>Month-to-month</td>\n",
       "      <td>Yes</td>\n",
       "      <td>Mailed check</td>\n",
       "      <td>83.9</td>\n",
       "      <td>...</td>\n",
       "      <td>Yes</td>\n",
       "      <td>No</td>\n",
       "      <td>Fiber optic</td>\n",
       "      <td>No</td>\n",
       "      <td>No</td>\n",
       "      <td>No</td>\n",
       "      <td>Yes</td>\n",
       "      <td>Yes</td>\n",
       "      <td>No</td>\n",
       "      <td>Yes</td>\n",
       "    </tr>\n",
       "  </tbody>\n",
       "</table>\n",
       "<p>5 rows × 21 columns</p>\n",
       "</div>"
      ],
      "text/plain": [
       "   customerID  gender  SeniorCitizen Partner Dependents  tenure  \\\n",
       "0  0002-ORFBO  Female              0     Yes        Yes       9   \n",
       "1  0003-MKNFE    Male              0      No         No       9   \n",
       "2  0004-TLHLJ    Male              0      No         No       4   \n",
       "3  0011-IGKFF    Male              1     Yes         No      13   \n",
       "4  0013-EXCHZ  Female              1     Yes         No       3   \n",
       "\n",
       "         Contract PaperlessBilling     PaymentMethod  MonthlyCharges  ...  \\\n",
       "0        One year              Yes      Mailed check            65.6  ...   \n",
       "1  Month-to-month               No      Mailed check            59.9  ...   \n",
       "2  Month-to-month              Yes  Electronic check            73.9  ...   \n",
       "3  Month-to-month              Yes  Electronic check            98.0  ...   \n",
       "4  Month-to-month              Yes      Mailed check            83.9  ...   \n",
       "\n",
       "   PhoneService MultipleLines InternetService OnlineSecurity OnlineBackup  \\\n",
       "0           Yes            No             DSL             No          Yes   \n",
       "1           Yes           Yes             DSL             No           No   \n",
       "2           Yes            No     Fiber optic             No           No   \n",
       "3           Yes            No     Fiber optic             No          Yes   \n",
       "4           Yes            No     Fiber optic             No           No   \n",
       "\n",
       "  DeviceProtection TechSupport StreamingTV StreamingMovies Churn  \n",
       "0               No         Yes         Yes              No    No  \n",
       "1               No          No          No             Yes    No  \n",
       "2              Yes          No          No              No   Yes  \n",
       "3              Yes          No         Yes             Yes   Yes  \n",
       "4               No         Yes         Yes              No   Yes  \n",
       "\n",
       "[5 rows x 21 columns]"
      ]
     },
     "execution_count": 18,
     "metadata": {},
     "output_type": "execute_result"
    }
   ],
   "source": [
    "# Check the dataset\n",
    "df.head()"
   ]
  },
  {
   "cell_type": "markdown",
   "id": "371fdba0",
   "metadata": {},
   "source": [
    "We can drop CustomerID column. We will encode the columns that consist of 'Yes' and 'No' values to 0 for No and 1 for Yes. The 'Contract', 'PaymentMethod', 'InternetService', using OneHot Encoder."
   ]
  },
  {
   "cell_type": "code",
   "execution_count": 19,
   "id": "67c28a3d",
   "metadata": {},
   "outputs": [],
   "source": [
    "# Pre-process function\n",
    "def preprocess_telco_full(df, handle_outliers=True):\n",
    "    df = df.copy()\n",
    "\n",
    "    # 1. Drop irrelevant column\n",
    "    if 'customerID' in df.columns:\n",
    "        df.drop('customerID', axis=1, inplace=True)\n",
    "\n",
    "    # 2. Convert TotalCharges to numeric\n",
    "    df['TotalCharges'] = pd.to_numeric(df['TotalCharges'], errors='coerce')\n",
    "    df['TotalCharges'] = df['TotalCharges'].fillna(0)\n",
    "\n",
    "    # 3. Encode target 'Churn'\n",
    "    if df['Churn'].dtype == 'object':\n",
    "        df['Churn'] = df['Churn'].map({'Yes': 1, 'No': 0})\n",
    "\n",
    "    # 4. Binary encoding\n",
    "    binary_cols = ['Partner', 'Dependents', 'PhoneService', 'PaperlessBilling']\n",
    "    for col in binary_cols:\n",
    "        if df[col].dtype == 'object':\n",
    "            df[col] = df[col].map({'Yes': 1, 'No': 0})\n",
    "\n",
    "    # 5. One-hot encoding\n",
    "    cat_cols = [\n",
    "        'gender', 'MultipleLines', 'InternetService', 'OnlineSecurity',\n",
    "        'OnlineBackup', 'DeviceProtection', 'TechSupport',\n",
    "        'StreamingTV', 'StreamingMovies', 'Contract', 'PaymentMethod'\n",
    "    ]\n",
    "    df = pd.get_dummies(df, columns=cat_cols, drop_first=True)\n",
    "\n",
    "    # 6. Feature engineering\n",
    "    df['TotalSpent'] = df['MonthlyCharges'] * df['tenure']\n",
    "    df['HasInternet'] = df.get('InternetService_Fiber optic', 0) + df.get('InternetService_DSL', 0)\n",
    "    df['IsLongContract'] = df.get('Contract_One year', 0) + df.get('Contract_Two year', 0)\n",
    "\n",
    "    # 7. Handle outliers (IQR capping)\n",
    "    if handle_outliers:\n",
    "        numeric_cols = ['tenure', 'MonthlyCharges', 'TotalCharges', 'TotalSpent']\n",
    "        for col in numeric_cols:\n",
    "            Q1 = df[col].quantile(0.25)\n",
    "            Q3 = df[col].quantile(0.75)\n",
    "            IQR = Q3 - Q1\n",
    "            lower = Q1 - 1.5 * IQR\n",
    "            upper = Q3 + 1.5 * IQR\n",
    "            df[col] = np.where(df[col] < lower, lower,\n",
    "                        np.where(df[col] > upper, upper, df[col]))\n",
    "\n",
    "    return df\n",
    "\n",
    "# Create new df with applied pre-processing\n",
    "df_clean = preprocess_telco_full(df, handle_outliers=True)"
   ]
  },
  {
   "cell_type": "code",
   "execution_count": 20,
   "id": "b545461c",
   "metadata": {},
   "outputs": [
    {
     "data": {
      "application/vnd.microsoft.datawrangler.viewer.v0+json": {
       "columns": [
        {
         "name": "index",
         "rawType": "int64",
         "type": "integer"
        },
        {
         "name": "SeniorCitizen",
         "rawType": "int64",
         "type": "integer"
        },
        {
         "name": "Partner",
         "rawType": "int64",
         "type": "integer"
        },
        {
         "name": "Dependents",
         "rawType": "int64",
         "type": "integer"
        },
        {
         "name": "tenure",
         "rawType": "float64",
         "type": "float"
        },
        {
         "name": "PaperlessBilling",
         "rawType": "int64",
         "type": "integer"
        },
        {
         "name": "MonthlyCharges",
         "rawType": "float64",
         "type": "float"
        },
        {
         "name": "TotalCharges",
         "rawType": "float64",
         "type": "float"
        },
        {
         "name": "PhoneService",
         "rawType": "int64",
         "type": "integer"
        },
        {
         "name": "Churn",
         "rawType": "int64",
         "type": "integer"
        },
        {
         "name": "gender_Male",
         "rawType": "bool",
         "type": "boolean"
        },
        {
         "name": "MultipleLines_No phone service",
         "rawType": "bool",
         "type": "boolean"
        },
        {
         "name": "MultipleLines_Yes",
         "rawType": "bool",
         "type": "boolean"
        },
        {
         "name": "InternetService_Fiber optic",
         "rawType": "bool",
         "type": "boolean"
        },
        {
         "name": "InternetService_No",
         "rawType": "bool",
         "type": "boolean"
        },
        {
         "name": "OnlineSecurity_No internet service",
         "rawType": "bool",
         "type": "boolean"
        },
        {
         "name": "OnlineSecurity_Yes",
         "rawType": "bool",
         "type": "boolean"
        },
        {
         "name": "OnlineBackup_No internet service",
         "rawType": "bool",
         "type": "boolean"
        },
        {
         "name": "OnlineBackup_Yes",
         "rawType": "bool",
         "type": "boolean"
        },
        {
         "name": "DeviceProtection_No internet service",
         "rawType": "bool",
         "type": "boolean"
        },
        {
         "name": "DeviceProtection_Yes",
         "rawType": "bool",
         "type": "boolean"
        },
        {
         "name": "TechSupport_No internet service",
         "rawType": "bool",
         "type": "boolean"
        },
        {
         "name": "TechSupport_Yes",
         "rawType": "bool",
         "type": "boolean"
        },
        {
         "name": "StreamingTV_No internet service",
         "rawType": "bool",
         "type": "boolean"
        },
        {
         "name": "StreamingTV_Yes",
         "rawType": "bool",
         "type": "boolean"
        },
        {
         "name": "StreamingMovies_No internet service",
         "rawType": "bool",
         "type": "boolean"
        },
        {
         "name": "StreamingMovies_Yes",
         "rawType": "bool",
         "type": "boolean"
        },
        {
         "name": "Contract_One year",
         "rawType": "bool",
         "type": "boolean"
        },
        {
         "name": "Contract_Two year",
         "rawType": "bool",
         "type": "boolean"
        },
        {
         "name": "PaymentMethod_Credit card (automatic)",
         "rawType": "bool",
         "type": "boolean"
        },
        {
         "name": "PaymentMethod_Electronic check",
         "rawType": "bool",
         "type": "boolean"
        },
        {
         "name": "PaymentMethod_Mailed check",
         "rawType": "bool",
         "type": "boolean"
        },
        {
         "name": "TotalSpent",
         "rawType": "float64",
         "type": "float"
        },
        {
         "name": "HasInternet",
         "rawType": "int64",
         "type": "integer"
        },
        {
         "name": "IsLongContract",
         "rawType": "bool",
         "type": "boolean"
        }
       ],
       "ref": "7b73ac45-6794-4b05-a559-1b7c8c542618",
       "rows": [
        [
         "0",
         "0",
         "1",
         "1",
         "9.0",
         "1",
         "65.6",
         "593.3",
         "1",
         "0",
         "False",
         "False",
         "False",
         "False",
         "False",
         "False",
         "False",
         "False",
         "True",
         "False",
         "False",
         "False",
         "True",
         "False",
         "True",
         "False",
         "False",
         "True",
         "False",
         "False",
         "False",
         "True",
         "590.4",
         "0",
         "True"
        ],
        [
         "1",
         "0",
         "0",
         "0",
         "9.0",
         "0",
         "59.9",
         "542.4",
         "1",
         "0",
         "True",
         "False",
         "True",
         "False",
         "False",
         "False",
         "False",
         "False",
         "False",
         "False",
         "False",
         "False",
         "False",
         "False",
         "False",
         "False",
         "True",
         "False",
         "False",
         "False",
         "False",
         "True",
         "539.1",
         "0",
         "False"
        ],
        [
         "2",
         "0",
         "0",
         "0",
         "4.0",
         "1",
         "73.9",
         "280.85",
         "1",
         "1",
         "True",
         "False",
         "False",
         "True",
         "False",
         "False",
         "False",
         "False",
         "False",
         "False",
         "True",
         "False",
         "False",
         "False",
         "False",
         "False",
         "False",
         "False",
         "False",
         "False",
         "True",
         "False",
         "295.6",
         "1",
         "False"
        ],
        [
         "3",
         "1",
         "1",
         "0",
         "13.0",
         "1",
         "98.0",
         "1237.85",
         "1",
         "1",
         "True",
         "False",
         "False",
         "True",
         "False",
         "False",
         "False",
         "False",
         "True",
         "False",
         "True",
         "False",
         "False",
         "False",
         "True",
         "False",
         "True",
         "False",
         "False",
         "False",
         "True",
         "False",
         "1274.0",
         "1",
         "False"
        ],
        [
         "4",
         "1",
         "1",
         "0",
         "3.0",
         "1",
         "83.9",
         "267.4",
         "1",
         "1",
         "False",
         "False",
         "False",
         "True",
         "False",
         "False",
         "False",
         "False",
         "False",
         "False",
         "False",
         "False",
         "True",
         "False",
         "True",
         "False",
         "False",
         "False",
         "False",
         "False",
         "False",
         "True",
         "251.70000000000002",
         "1",
         "False"
        ]
       ],
       "shape": {
        "columns": 34,
        "rows": 5
       }
      },
      "text/html": [
       "<div>\n",
       "<style scoped>\n",
       "    .dataframe tbody tr th:only-of-type {\n",
       "        vertical-align: middle;\n",
       "    }\n",
       "\n",
       "    .dataframe tbody tr th {\n",
       "        vertical-align: top;\n",
       "    }\n",
       "\n",
       "    .dataframe thead th {\n",
       "        text-align: right;\n",
       "    }\n",
       "</style>\n",
       "<table border=\"1\" class=\"dataframe\">\n",
       "  <thead>\n",
       "    <tr style=\"text-align: right;\">\n",
       "      <th></th>\n",
       "      <th>SeniorCitizen</th>\n",
       "      <th>Partner</th>\n",
       "      <th>Dependents</th>\n",
       "      <th>tenure</th>\n",
       "      <th>PaperlessBilling</th>\n",
       "      <th>MonthlyCharges</th>\n",
       "      <th>TotalCharges</th>\n",
       "      <th>PhoneService</th>\n",
       "      <th>Churn</th>\n",
       "      <th>gender_Male</th>\n",
       "      <th>...</th>\n",
       "      <th>StreamingMovies_No internet service</th>\n",
       "      <th>StreamingMovies_Yes</th>\n",
       "      <th>Contract_One year</th>\n",
       "      <th>Contract_Two year</th>\n",
       "      <th>PaymentMethod_Credit card (automatic)</th>\n",
       "      <th>PaymentMethod_Electronic check</th>\n",
       "      <th>PaymentMethod_Mailed check</th>\n",
       "      <th>TotalSpent</th>\n",
       "      <th>HasInternet</th>\n",
       "      <th>IsLongContract</th>\n",
       "    </tr>\n",
       "  </thead>\n",
       "  <tbody>\n",
       "    <tr>\n",
       "      <th>0</th>\n",
       "      <td>0</td>\n",
       "      <td>1</td>\n",
       "      <td>1</td>\n",
       "      <td>9.0</td>\n",
       "      <td>1</td>\n",
       "      <td>65.6</td>\n",
       "      <td>593.30</td>\n",
       "      <td>1</td>\n",
       "      <td>0</td>\n",
       "      <td>False</td>\n",
       "      <td>...</td>\n",
       "      <td>False</td>\n",
       "      <td>False</td>\n",
       "      <td>True</td>\n",
       "      <td>False</td>\n",
       "      <td>False</td>\n",
       "      <td>False</td>\n",
       "      <td>True</td>\n",
       "      <td>590.4</td>\n",
       "      <td>0</td>\n",
       "      <td>True</td>\n",
       "    </tr>\n",
       "    <tr>\n",
       "      <th>1</th>\n",
       "      <td>0</td>\n",
       "      <td>0</td>\n",
       "      <td>0</td>\n",
       "      <td>9.0</td>\n",
       "      <td>0</td>\n",
       "      <td>59.9</td>\n",
       "      <td>542.40</td>\n",
       "      <td>1</td>\n",
       "      <td>0</td>\n",
       "      <td>True</td>\n",
       "      <td>...</td>\n",
       "      <td>False</td>\n",
       "      <td>True</td>\n",
       "      <td>False</td>\n",
       "      <td>False</td>\n",
       "      <td>False</td>\n",
       "      <td>False</td>\n",
       "      <td>True</td>\n",
       "      <td>539.1</td>\n",
       "      <td>0</td>\n",
       "      <td>False</td>\n",
       "    </tr>\n",
       "    <tr>\n",
       "      <th>2</th>\n",
       "      <td>0</td>\n",
       "      <td>0</td>\n",
       "      <td>0</td>\n",
       "      <td>4.0</td>\n",
       "      <td>1</td>\n",
       "      <td>73.9</td>\n",
       "      <td>280.85</td>\n",
       "      <td>1</td>\n",
       "      <td>1</td>\n",
       "      <td>True</td>\n",
       "      <td>...</td>\n",
       "      <td>False</td>\n",
       "      <td>False</td>\n",
       "      <td>False</td>\n",
       "      <td>False</td>\n",
       "      <td>False</td>\n",
       "      <td>True</td>\n",
       "      <td>False</td>\n",
       "      <td>295.6</td>\n",
       "      <td>1</td>\n",
       "      <td>False</td>\n",
       "    </tr>\n",
       "    <tr>\n",
       "      <th>3</th>\n",
       "      <td>1</td>\n",
       "      <td>1</td>\n",
       "      <td>0</td>\n",
       "      <td>13.0</td>\n",
       "      <td>1</td>\n",
       "      <td>98.0</td>\n",
       "      <td>1237.85</td>\n",
       "      <td>1</td>\n",
       "      <td>1</td>\n",
       "      <td>True</td>\n",
       "      <td>...</td>\n",
       "      <td>False</td>\n",
       "      <td>True</td>\n",
       "      <td>False</td>\n",
       "      <td>False</td>\n",
       "      <td>False</td>\n",
       "      <td>True</td>\n",
       "      <td>False</td>\n",
       "      <td>1274.0</td>\n",
       "      <td>1</td>\n",
       "      <td>False</td>\n",
       "    </tr>\n",
       "    <tr>\n",
       "      <th>4</th>\n",
       "      <td>1</td>\n",
       "      <td>1</td>\n",
       "      <td>0</td>\n",
       "      <td>3.0</td>\n",
       "      <td>1</td>\n",
       "      <td>83.9</td>\n",
       "      <td>267.40</td>\n",
       "      <td>1</td>\n",
       "      <td>1</td>\n",
       "      <td>False</td>\n",
       "      <td>...</td>\n",
       "      <td>False</td>\n",
       "      <td>False</td>\n",
       "      <td>False</td>\n",
       "      <td>False</td>\n",
       "      <td>False</td>\n",
       "      <td>False</td>\n",
       "      <td>True</td>\n",
       "      <td>251.7</td>\n",
       "      <td>1</td>\n",
       "      <td>False</td>\n",
       "    </tr>\n",
       "  </tbody>\n",
       "</table>\n",
       "<p>5 rows × 34 columns</p>\n",
       "</div>"
      ],
      "text/plain": [
       "   SeniorCitizen  Partner  Dependents  tenure  PaperlessBilling  \\\n",
       "0              0        1           1     9.0                 1   \n",
       "1              0        0           0     9.0                 0   \n",
       "2              0        0           0     4.0                 1   \n",
       "3              1        1           0    13.0                 1   \n",
       "4              1        1           0     3.0                 1   \n",
       "\n",
       "   MonthlyCharges  TotalCharges  PhoneService  Churn  gender_Male  ...  \\\n",
       "0            65.6        593.30             1      0        False  ...   \n",
       "1            59.9        542.40             1      0         True  ...   \n",
       "2            73.9        280.85             1      1         True  ...   \n",
       "3            98.0       1237.85             1      1         True  ...   \n",
       "4            83.9        267.40             1      1        False  ...   \n",
       "\n",
       "   StreamingMovies_No internet service  StreamingMovies_Yes  \\\n",
       "0                                False                False   \n",
       "1                                False                 True   \n",
       "2                                False                False   \n",
       "3                                False                 True   \n",
       "4                                False                False   \n",
       "\n",
       "   Contract_One year  Contract_Two year  \\\n",
       "0               True              False   \n",
       "1              False              False   \n",
       "2              False              False   \n",
       "3              False              False   \n",
       "4              False              False   \n",
       "\n",
       "   PaymentMethod_Credit card (automatic)  PaymentMethod_Electronic check  \\\n",
       "0                                  False                           False   \n",
       "1                                  False                           False   \n",
       "2                                  False                            True   \n",
       "3                                  False                            True   \n",
       "4                                  False                           False   \n",
       "\n",
       "   PaymentMethod_Mailed check  TotalSpent  HasInternet  IsLongContract  \n",
       "0                        True       590.4            0            True  \n",
       "1                        True       539.1            0           False  \n",
       "2                       False       295.6            1           False  \n",
       "3                       False      1274.0            1           False  \n",
       "4                        True       251.7            1           False  \n",
       "\n",
       "[5 rows x 34 columns]"
      ]
     },
     "execution_count": 20,
     "metadata": {},
     "output_type": "execute_result"
    }
   ],
   "source": [
    "df_clean.head()"
   ]
  },
  {
   "cell_type": "code",
   "execution_count": 21,
   "id": "5a65c1ba",
   "metadata": {},
   "outputs": [
    {
     "data": {
      "text/plain": [
       "<Axes: >"
      ]
     },
     "execution_count": 21,
     "metadata": {},
     "output_type": "execute_result"
    },
    {
     "data": {
      "image/png": "[encoded data removed]",
      "text/plain": [
       "<Figure size 640x480 with 2 Axes>"
      ]
     },
     "metadata": {},
     "output_type": "display_data"
    }
   ],
   "source": [
    "# Correlation analysis\n",
    "sns.heatmap(df_clean.corr())"
   ]
  },
  {
   "cell_type": "markdown",
   "id": "dda66bdc",
   "metadata": {},
   "source": [
    "Feature Selection and Scaling feature"
   ]
  },
  {
   "cell_type": "code",
   "execution_count": 22,
   "id": "06f114a6",
   "metadata": {},
   "outputs": [],
   "source": [
    "# Selected column\n",
    "# selected_features = [\n",
    "#     'tenure',\n",
    "#     'MonthlyCharges',\n",
    "#     'Contract_One year',\n",
    "#     'Contract_Two year',\n",
    "#     'InternetService_Fiber optic',\n",
    "#     'OnlineSecurity',\n",
    "#     'OnlineBackup',\n",
    "#     'TechSupport',\n",
    "#     'DeviceProtection',\n",
    "#     'PaymentMethod_Electronic check',\n",
    "#     'PaperlessBilling',\n",
    "#     'SeniorCitizen',\n",
    "#     'Partner',\n",
    "#     'Dependents',\n",
    "#     'StreamingTV',\n",
    "#     'StreamingMovies'\n",
    "# ]\n",
    "\n",
    "X = df_clean.drop(columns='Churn', axis=1)\n",
    "y = df_clean['Churn']\n",
    "\n",
    "X_train, X_test, y_train, y_test = train_test_split(X, y, test_size=0.2, stratify=y, random_state=42)"
   ]
  },
  {
   "cell_type": "markdown",
   "id": "74f9865a",
   "metadata": {},
   "source": [
    "---\n",
    "#### Model Building\n",
    "1. Logistic Regression\n",
    "2. Decision Tree\n",
    "3. Random Forest\n",
    "4. XGBoost"
   ]
  },
  {
   "cell_type": "code",
   "execution_count": 23,
   "id": "523ce00b",
   "metadata": {},
   "outputs": [],
   "source": [
    "# Define search param\n",
    "def define_search_space(trial, model_name):\n",
    "    search_spaces = {\n",
    "        \"Logistic Regression\": lambda: {\n",
    "            \"C\": trial.suggest_float(\"C\", 1e-4, 1e2, log=True),\n",
    "            \"solver\": trial.suggest_categorical(\"solver\", [\"liblinear\", \"saga\"]),\n",
    "            \"max_iter\": trial.suggest_int(\"max_iter\", 500, 2000),\n",
    "        },\n",
    "        \"Decision Tree\": lambda: {\n",
    "            \"max_depth\": trial.suggest_int(\"max_depth\", 3, 20),\n",
    "            \"min_samples_split\": trial.suggest_int(\"min_samples_split\", 2, 32),\n",
    "            \"min_samples_leaf\": trial.suggest_int(\"min_samples_leaf\", 1, 32),\n",
    "            \"criterion\": trial.suggest_categorical(\"criterion\", [\"gini\", \"entropy\"]),\n",
    "        },\n",
    "        \"Random Forest\": lambda: {\n",
    "            \"n_estimators\": trial.suggest_int(\"n_estimators\", 50, 1000),\n",
    "            \"max_depth\": trial.suggest_int(\"max_depth\", 5, 50),\n",
    "            \"min_samples_split\": trial.suggest_int(\"min_samples_split\", 2, 16),\n",
    "            \"min_samples_leaf\": trial.suggest_int(\"min_samples_leaf\", 1, 16),\n",
    "        },\n",
    "        \"XGBoost\": lambda: {\n",
    "            \"n_estimators\": trial.suggest_int(\"n_estimators\", 50, 1000),\n",
    "            \"max_depth\": trial.suggest_int(\"max_depth\", 3, 10),\n",
    "            \"learning_rate\": trial.suggest_float(\"learning_rate\", 0.01, 0.3),\n",
    "            \"subsample\": trial.suggest_float(\"subsample\", 0.5, 1.0),\n",
    "            \"colsample_bytree\": trial.suggest_float(\"colsample_bytree\", 0.5, 1.0),\n",
    "        }\n",
    "    }\n",
    "\n",
    "    if model_name not in search_spaces:\n",
    "        raise ValueError(f\"No search space defined for model: {model_name}\")\n",
    "\n",
    "    return search_spaces[model_name]()"
   ]
  },
  {
   "cell_type": "code",
   "execution_count": 24,
   "id": "a3ea4bc7",
   "metadata": {},
   "outputs": [],
   "source": [
    "# Get fixed params\n",
    "def get_fixed_params(model_name):\n",
    "    fixed = {'random_state': 42}\n",
    "    if model_name in [\"Random Forest\", \"XGBoost\"]:\n",
    "        fixed['n_jobs'] = -1\n",
    "    if model_name == \"XGBoost\":\n",
    "        fixed['use_label_encoder'] = False\n",
    "        fixed['eval_metric'] = 'logloss'\n",
    "    return fixed"
   ]
  },
  {
   "cell_type": "code",
   "execution_count": 25,
   "id": "de2e9f93",
   "metadata": {},
   "outputs": [],
   "source": [
    "# Build Pipeline\n",
    "def build_pipeline(model_class, params):\n",
    "    model = model_class(**params)\n",
    "    return Pipeline([\n",
    "        ('scaler', StandardScaler()),\n",
    "        ('smote', SMOTE(random_state=42)),\n",
    "        ('classifier', model)\n",
    "    ])"
   ]
  },
  {
   "cell_type": "code",
   "execution_count": 26,
   "id": "69b8b37a",
   "metadata": {},
   "outputs": [],
   "source": [
    "# Objective Function\n",
    "def objective(trial, model_class, model_name):\n",
    "    params = define_search_space(trial, model_name)\n",
    "    params.update(get_fixed_params(model_name))\n",
    "\n",
    "    pipeline = build_pipeline(model_class, params)\n",
    "    score = cross_val_score(pipeline, X_train, y_train, cv=3, n_jobs=-1, scoring='roc_auc')\n",
    "    return score.mean()"
   ]
  },
  {
   "cell_type": "code",
   "execution_count": 27,
   "id": "4ddaa67e",
   "metadata": {},
   "outputs": [],
   "source": [
    "# Evaluation metric\n",
    "def print_eval_report(model_name, y_test, y_pred, y_prob):\n",
    "    print(f\"--- Final Evaluation Results for: {model_name} (After Hyperparameter Tuning) ---\")\n",
    "    print(\"Classification Report:\")\n",
    "    print(classification_report(y_test, y_pred))\n",
    "    print(f\"AUC-ROC Score on Test Set: {roc_auc_score(y_test, y_prob):.4f}\")\n",
    "    print(\"=\" * 60 + \"\\n\")"
   ]
  },
  {
   "cell_type": "code",
   "execution_count": 28,
   "id": "06b5fff4",
   "metadata": {},
   "outputs": [],
   "source": [
    "# Confusion Matrix Plot\n",
    "def plot_confusion_matrix(y_true, y_pred, model_name):\n",
    "    cm = confusion_matrix(y_true, y_pred)\n",
    "    plt.figure(figsize=(4, 3))\n",
    "    sns.heatmap(cm, annot=True, fmt='d', cmap='Blues',\n",
    "                xticklabels=['No', 'Yes'], yticklabels=['No', 'Yes'])\n",
    "    plt.title(f'Confusion Matrix: {model_name}')\n",
    "    plt.xlabel('Predicted')\n",
    "    plt.ylabel('Actual')\n",
    "    plt.tight_layout()\n",
    "    plt.show()"
   ]
  },
  {
   "cell_type": "code",
   "execution_count": 29,
   "id": "d8b46c0b",
   "metadata": {},
   "outputs": [
    {
     "name": "stdout",
     "output_type": "stream",
     "text": [
      "\n",
      "🔍 Tuning model: Logistic Regression\n"
     ]
    },
    {
     "name": "stderr",
     "output_type": "stream",
     "text": [
      "Tuning Logistic Regression: 100%|██████████| 25/25 [00:14<00:00,  1.76it/s]\n"
     ]
    },
    {
     "name": "stdout",
     "output_type": "stream",
     "text": [
      "✅ Best Parameters for Logistic Regression: {'C': 0.4689400963537689, 'solver': 'saga', 'max_iter': 1049, 'random_state': 42}\n",
      "\n",
      "--- Logistic Regression ---\n",
      "              precision    recall  f1-score   support\n",
      "\n",
      "           0       0.91      0.73      0.81      1033\n",
      "           1       0.51      0.80      0.62       374\n",
      "\n",
      "    accuracy                           0.74      1407\n",
      "   macro avg       0.71      0.76      0.72      1407\n",
      "weighted avg       0.80      0.74      0.76      1407\n",
      "\n"
     ]
    },
    {
     "data": {
      "image/png": "[encoded data removed]",
      "text/plain": [
       "<Figure size 400x300 with 2 Axes>"
      ]
     },
     "metadata": {},
     "output_type": "display_data"
    },
    {
     "name": "stdout",
     "output_type": "stream",
     "text": [
      "\n",
      "🔍 Tuning model: Decision Tree\n"
     ]
    },
    {
     "name": "stderr",
     "output_type": "stream",
     "text": [
      "Tuning Decision Tree: 100%|██████████| 25/25 [00:01<00:00, 12.70it/s]\n"
     ]
    },
    {
     "name": "stdout",
     "output_type": "stream",
     "text": [
      "✅ Best Parameters for Decision Tree: {'max_depth': 4, 'min_samples_split': 26, 'min_samples_leaf': 25, 'criterion': 'entropy', 'random_state': 42}\n",
      "\n",
      "--- Decision Tree ---\n",
      "              precision    recall  f1-score   support\n",
      "\n",
      "           0       0.90      0.74      0.81      1033\n",
      "           1       0.51      0.76      0.61       374\n",
      "\n",
      "    accuracy                           0.74      1407\n",
      "   macro avg       0.70      0.75      0.71      1407\n",
      "weighted avg       0.79      0.74      0.76      1407\n",
      "\n"
     ]
    },
    {
     "data": {
      "image/png": "[encoded data removed]",
      "text/plain": [
       "<Figure size 400x300 with 2 Axes>"
      ]
     },
     "metadata": {},
     "output_type": "display_data"
    },
    {
     "name": "stdout",
     "output_type": "stream",
     "text": [
      "\n",
      "🔍 Tuning model: Random Forest\n"
     ]
    },
    {
     "name": "stderr",
     "output_type": "stream",
     "text": [
      "Tuning Random Forest: 100%|██████████| 25/25 [00:48<00:00,  1.95s/it]\n"
     ]
    },
    {
     "name": "stdout",
     "output_type": "stream",
     "text": [
      "✅ Best Parameters for Random Forest: {'n_estimators': 613, 'max_depth': 7, 'min_samples_split': 11, 'min_samples_leaf': 3, 'random_state': 42, 'n_jobs': -1}\n",
      "\n",
      "--- Random Forest ---\n",
      "              precision    recall  f1-score   support\n",
      "\n",
      "           0       0.90      0.76      0.82      1033\n",
      "           1       0.54      0.78      0.63       374\n",
      "\n",
      "    accuracy                           0.76      1407\n",
      "   macro avg       0.72      0.77      0.73      1407\n",
      "weighted avg       0.81      0.76      0.77      1407\n",
      "\n"
     ]
    },
    {
     "data": {
      "image/png": "[encoded data removed]",
      "text/plain": [
       "<Figure size 400x300 with 2 Axes>"
      ]
     },
     "metadata": {},
     "output_type": "display_data"
    },
    {
     "name": "stdout",
     "output_type": "stream",
     "text": [
      "\n",
      "🔍 Tuning model: XGBoost\n"
     ]
    },
    {
     "name": "stderr",
     "output_type": "stream",
     "text": [
      "Tuning XGBoost: 100%|██████████| 25/25 [00:28<00:00,  1.14s/it]\n",
      "e:\\Program\\Anaconda\\envs\\kaggle\\Lib\\site-packages\\xgboost\\training.py:183: UserWarning: [20:12:51] WARNING: C:\\actions-runner\\_work\\xgboost\\xgboost\\src\\learner.cc:738: \n",
      "Parameters: { \"use_label_encoder\" } are not used.\n",
      "\n",
      "  bst.update(dtrain, iteration=i, fobj=obj)\n"
     ]
    },
    {
     "name": "stdout",
     "output_type": "stream",
     "text": [
      "✅ Best Parameters for XGBoost: {'n_estimators': 166, 'max_depth': 6, 'learning_rate': 0.019972671123413333, 'subsample': 0.954660201039391, 'colsample_bytree': 0.6293899908000085, 'random_state': 42, 'n_jobs': -1, 'use_label_encoder': False, 'eval_metric': 'logloss'}\n",
      "\n",
      "--- XGBoost ---\n",
      "              precision    recall  f1-score   support\n",
      "\n",
      "           0       0.89      0.80      0.84      1033\n",
      "           1       0.57      0.71      0.63       374\n",
      "\n",
      "    accuracy                           0.78      1407\n",
      "   macro avg       0.73      0.76      0.74      1407\n",
      "weighted avg       0.80      0.78      0.79      1407\n",
      "\n"
     ]
    },
    {
     "data": {
      "image/png": "[encoded data removed]",
      "text/plain": [
       "<Figure size 400x300 with 2 Axes>"
      ]
     },
     "metadata": {},
     "output_type": "display_data"
    }
   ],
   "source": [
    "# Model tuning & Training\n",
    "models_to_tune = {\n",
    "    \"Logistic Regression\": LogisticRegression,\n",
    "    \"Decision Tree\": DecisionTreeClassifier,\n",
    "    \"Random Forest\": RandomForestClassifier,\n",
    "    \"XGBoost\": XGBClassifier\n",
    "}\n",
    "\n",
    "best_pipelines = {}\n",
    "\n",
    "model_accuracies = {}\n",
    "\n",
    "# Tuning dan evaluasi\n",
    "for model_name, model_class in models_to_tune.items():\n",
    "    print(f\"\\n🔍 Tuning model: {model_name}\")\n",
    "    n_trials = 25\n",
    "    study = optuna.create_study(direction=\"maximize\", sampler=optuna.samplers.TPESampler(seed=42))\n",
    "    objective_func = partial(objective, model_class=model_class, model_name=model_name)\n",
    "\n",
    "    # Progress bar tqdm\n",
    "    for _ in tqdm(range(n_trials), desc=f\"Tuning {model_name}\", leave=True):\n",
    "        study.optimize(objective_func, n_trials=1, catch=(Exception,))\n",
    "\n",
    "    # Ambil parameter terbaik\n",
    "    best_params = study.best_params\n",
    "    best_params.update(get_fixed_params(model_name))\n",
    "    print(f\"✅ Best Parameters for {model_name}: {best_params}\")\n",
    "\n",
    "    # Train model dengan pipeline\n",
    "    final_pipeline = build_pipeline(model_class, best_params)\n",
    "    final_pipeline.fit(X_train, y_train)\n",
    "    best_pipelines[model_name] = final_pipeline\n",
    "\n",
    "    # Predict dan evaluate\n",
    "    y_pred = final_pipeline.predict(X_test)\n",
    "    y_prob = final_pipeline.predict_proba(X_test)[:, 1]\n",
    "    \n",
    "    print(f\"\\n--- {model_name} ---\")\n",
    "    print(classification_report(y_test, y_pred))\n",
    "    plot_confusion_matrix(y_test, y_pred, model_name)\n",
    "\n",
    "    # Simpan akurasi\n",
    "    acc = accuracy_score(y_test, y_pred)\n",
    "    model_accuracies[model_name] = acc"
   ]
  },
  {
   "cell_type": "code",
   "execution_count": 30,
   "id": "483546e7",
   "metadata": {},
   "outputs": [
    {
     "data": {
      "image/png": "[encoded data removed]",
      "text/plain": [
       "<Figure size 800x400 with 1 Axes>"
      ]
     },
     "metadata": {},
     "output_type": "display_data"
    }
   ],
   "source": [
    "plt.figure(figsize=(8, 4))\n",
    "ax = sns.barplot(x=list(model_accuracies.keys()), y=list(model_accuracies.values()))\n",
    "\n",
    "plt.title(\"Accuracy Comparison per Model\")\n",
    "plt.ylabel(\"Accuracy\")\n",
    "plt.ylim(0, 1)\n",
    "plt.xticks(rotation=20)\n",
    "plt.grid(axis='y', linestyle='--', alpha=0.7)\n",
    "\n",
    "# Add label\n",
    "for p in ax.patches:\n",
    "    height = p.get_height()\n",
    "    ax.text(p.get_x() + p.get_width() / 2., height + 0.01,\n",
    "            f\"{height:.2f}\", ha='center', va='bottom', fontsize=10)\n",
    "\n",
    "plt.tight_layout()\n",
    "plt.show()"
   ]
  }
 ],
 "metadata": {
  "kernelspec": {
   "display_name": "kaggle",
   "language": "python",
   "name": "python3"
  },
  "language_info": {
   "codemirror_mode": {
    "name": "ipython",
    "version": 3
   },
   "file_extension": ".py",
   "mimetype": "text/x-python",
   "name": "python",
   "nbconvert_exporter": "python",
   "pygments_lexer": "ipython3",
   "version": "3.12.9"
  }
 },
 "nbformat": 4,
 "nbformat_minor": 5
}
