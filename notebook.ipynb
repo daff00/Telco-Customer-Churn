{
 "cells": [
  {
   "cell_type": "markdown",
   "id": "07a7add8",
   "metadata": {},
   "source": [
    "# Telco Customer Churn - Python Analysis\n",
    "### Main Objective:\n",
    "1. Exploratory Data Anlaysis\n",
    "2. Data Pre-processing\n",
    "3. Model Building\n",
    "4. Model Evaluation\n",
    "---\n",
    "\n",
    "### Import Libraries"
   ]
  },
  {
   "cell_type": "code",
   "execution_count": 1,
   "id": "e9e5b7c8",
   "metadata": {},
   "outputs": [],
   "source": [
    "import pandas as pd\n",
    "import numpy as np\n",
    "import mysql.connector\n",
    "from mysql.connector import Error\n",
    "\n",
    "import seaborn as sns\n",
    "import matplotlib.pyplot as plt\n",
    "%matplotlib inline\n",
    "\n",
    "from sklearn.model_selection import train_test_split, cross_val_score\n",
    "from sklearn.preprocessing import OneHotEncoder, StandardScaler\n",
    "from sklearn.metrics import classification_report"
   ]
  },
  {
   "cell_type": "markdown",
   "id": "f9fc1eb6",
   "metadata": {},
   "source": [
    "#### Load the data"
   ]
  },
  {
   "cell_type": "code",
   "execution_count": 2,
   "id": "c440b6ff",
   "metadata": {},
   "outputs": [],
   "source": [
    "# DB Config\n",
    "db_config = {\n",
    "    'host': 'localhost',\n",
    "    'user': 'root',\n",
    "    'password': 'root',\n",
    "    'database': 'telco_churn'\n",
    "}"
   ]
  },
  {
   "cell_type": "code",
   "execution_count": 3,
   "id": "a045276e",
   "metadata": {},
   "outputs": [
    {
     "name": "stdout",
     "output_type": "stream",
     "text": [
      "Successfully connected to the MySQL database.\n",
      "Data successfully loaded into a pandas DataFrame.\n",
      "MySQL connection is closed.\n"
     ]
    },
    {
     "name": "stderr",
     "output_type": "stream",
     "text": [
      "C:\\Users\\dkpc2\\AppData\\Local\\Temp\\ipykernel_18872\\3995519853.py:48: UserWarning: pandas only supports SQLAlchemy connectable (engine/connection) or database string URI or sqlite3 DBAPI2 connection. Other DBAPI2 objects are not tested. Please consider using SQLAlchemy.\n",
      "  df = pd.read_sql(sql_query, conn)\n"
     ]
    }
   ],
   "source": [
    "# SQL Query to load the data\n",
    "sql_query = \"\"\"\n",
    "SELECT\n",
    "    c.customerID,\n",
    "    c.gender,\n",
    "    c.SeniorCitizen,\n",
    "    c.Partner,\n",
    "    c.Dependents,\n",
    "    a.tenure,\n",
    "    a.Contract,\n",
    "    a.PaperlessBilling,\n",
    "    a.PaymentMethod,\n",
    "    a.MonthlyCharges,\n",
    "    a.TotalCharges,\n",
    "    s.PhoneService,\n",
    "    s.MultipleLines,\n",
    "    s.InternetService,\n",
    "    s.OnlineSecurity,\n",
    "    s.OnlineBackup,\n",
    "    s.DeviceProtection,\n",
    "    s.TechSupport,\n",
    "    s.StreamingTV,\n",
    "    s.StreamingMovies,\n",
    "    ch.Churn\n",
    "FROM\n",
    "    customers c\n",
    "JOIN\n",
    "    account_info a ON c.customerID = a.customerID\n",
    "JOIN\n",
    "    services s ON c.customerID = s.customerID\n",
    "JOIN\n",
    "    churn_data ch ON c.customerID = ch.customerID;\n",
    "\"\"\"\n",
    "\n",
    "# Connect to the database and load the data\n",
    "# Create a variable 'df' to hold the data\n",
    "df = None\n",
    "conn = None # Initialize connection to None\n",
    "\n",
    "try:\n",
    "    # Establish the connection\n",
    "    conn = mysql.connector.connect(**db_config)\n",
    "    \n",
    "    if conn.is_connected():\n",
    "        print(\"Successfully connected to the MySQL database.\")\n",
    "        \n",
    "        # Use pandas to execute the query and load data into a DataFrame\n",
    "        df = pd.read_sql(sql_query, conn)\n",
    "        \n",
    "        print(\"Data successfully loaded into a pandas DataFrame.\")\n",
    "\n",
    "except Error as e:\n",
    "    print(f\"Error connecting to MySQL or fetching data: {e}\")\n",
    "\n",
    "finally:\n",
    "    # Make sure to close the connection\n",
    "    if conn and conn.is_connected():\n",
    "        conn.close()\n",
    "        print(\"MySQL connection is closed.\")"
   ]
  },
  {
   "cell_type": "code",
   "execution_count": 4,
   "id": "27080d6f",
   "metadata": {},
   "outputs": [
    {
     "name": "stdout",
     "output_type": "stream",
     "text": [
      "\n",
      "--- Data Verification ---\n",
      "The DataFrame has 7043 rows and 21 columns.\n",
      "\n",
      "First 5 rows of the dataset:\n"
     ]
    },
    {
     "data": {
      "application/vnd.microsoft.datawrangler.viewer.v0+json": {
       "columns": [
        {
         "name": "index",
         "rawType": "int64",
         "type": "integer"
        },
        {
         "name": "customerID",
         "rawType": "object",
         "type": "string"
        },
        {
         "name": "gender",
         "rawType": "object",
         "type": "string"
        },
        {
         "name": "SeniorCitizen",
         "rawType": "int64",
         "type": "integer"
        },
        {
         "name": "Partner",
         "rawType": "object",
         "type": "string"
        },
        {
         "name": "Dependents",
         "rawType": "object",
         "type": "string"
        },
        {
         "name": "tenure",
         "rawType": "int64",
         "type": "integer"
        },
        {
         "name": "Contract",
         "rawType": "object",
         "type": "string"
        },
        {
         "name": "PaperlessBilling",
         "rawType": "object",
         "type": "string"
        },
        {
         "name": "PaymentMethod",
         "rawType": "object",
         "type": "string"
        },
        {
         "name": "MonthlyCharges",
         "rawType": "float64",
         "type": "float"
        },
        {
         "name": "TotalCharges",
         "rawType": "float64",
         "type": "float"
        },
        {
         "name": "PhoneService",
         "rawType": "object",
         "type": "string"
        },
        {
         "name": "MultipleLines",
         "rawType": "object",
         "type": "string"
        },
        {
         "name": "InternetService",
         "rawType": "object",
         "type": "string"
        },
        {
         "name": "OnlineSecurity",
         "rawType": "object",
         "type": "string"
        },
        {
         "name": "OnlineBackup",
         "rawType": "object",
         "type": "string"
        },
        {
         "name": "DeviceProtection",
         "rawType": "object",
         "type": "string"
        },
        {
         "name": "TechSupport",
         "rawType": "object",
         "type": "string"
        },
        {
         "name": "StreamingTV",
         "rawType": "object",
         "type": "string"
        },
        {
         "name": "StreamingMovies",
         "rawType": "object",
         "type": "string"
        },
        {
         "name": "Churn",
         "rawType": "object",
         "type": "string"
        }
       ],
       "ref": "7049d94b-4fd6-4317-bd38-de4f8431015f",
       "rows": [
        [
         "0",
         "0002-ORFBO",
         "Female",
         "0",
         "Yes",
         "Yes",
         "9",
         "One year",
         "Yes",
         "Mailed check",
         "65.6",
         "593.3",
         "Yes",
         "No",
         "DSL",
         "No",
         "Yes",
         "No",
         "Yes",
         "Yes",
         "No",
         "No\r"
        ],
        [
         "1",
         "0003-MKNFE",
         "Male",
         "0",
         "No",
         "No",
         "9",
         "Month-to-month",
         "No",
         "Mailed check",
         "59.9",
         "542.4",
         "Yes",
         "Yes",
         "DSL",
         "No",
         "No",
         "No",
         "No",
         "No",
         "Yes",
         "No\r"
        ],
        [
         "2",
         "0004-TLHLJ",
         "Male",
         "0",
         "No",
         "No",
         "4",
         "Month-to-month",
         "Yes",
         "Electronic check",
         "73.9",
         "280.85",
         "Yes",
         "No",
         "Fiber optic",
         "No",
         "No",
         "Yes",
         "No",
         "No",
         "No",
         "Yes"
        ],
        [
         "3",
         "0011-IGKFF",
         "Male",
         "1",
         "Yes",
         "No",
         "13",
         "Month-to-month",
         "Yes",
         "Electronic check",
         "98.0",
         "1237.85",
         "Yes",
         "No",
         "Fiber optic",
         "No",
         "Yes",
         "Yes",
         "No",
         "Yes",
         "Yes",
         "Yes"
        ],
        [
         "4",
         "0013-EXCHZ",
         "Female",
         "1",
         "Yes",
         "No",
         "3",
         "Month-to-month",
         "Yes",
         "Mailed check",
         "83.9",
         "267.4",
         "Yes",
         "No",
         "Fiber optic",
         "No",
         "No",
         "No",
         "Yes",
         "Yes",
         "No",
         "Yes"
        ]
       ],
       "shape": {
        "columns": 21,
        "rows": 5
       }
      },
      "text/html": [
       "<div>\n",
       "<style scoped>\n",
       "    .dataframe tbody tr th:only-of-type {\n",
       "        vertical-align: middle;\n",
       "    }\n",
       "\n",
       "    .dataframe tbody tr th {\n",
       "        vertical-align: top;\n",
       "    }\n",
       "\n",
       "    .dataframe thead th {\n",
       "        text-align: right;\n",
       "    }\n",
       "</style>\n",
       "<table border=\"1\" class=\"dataframe\">\n",
       "  <thead>\n",
       "    <tr style=\"text-align: right;\">\n",
       "      <th></th>\n",
       "      <th>customerID</th>\n",
       "      <th>gender</th>\n",
       "      <th>SeniorCitizen</th>\n",
       "      <th>Partner</th>\n",
       "      <th>Dependents</th>\n",
       "      <th>tenure</th>\n",
       "      <th>Contract</th>\n",
       "      <th>PaperlessBilling</th>\n",
       "      <th>PaymentMethod</th>\n",
       "      <th>MonthlyCharges</th>\n",
       "      <th>...</th>\n",
       "      <th>PhoneService</th>\n",
       "      <th>MultipleLines</th>\n",
       "      <th>InternetService</th>\n",
       "      <th>OnlineSecurity</th>\n",
       "      <th>OnlineBackup</th>\n",
       "      <th>DeviceProtection</th>\n",
       "      <th>TechSupport</th>\n",
       "      <th>StreamingTV</th>\n",
       "      <th>StreamingMovies</th>\n",
       "      <th>Churn</th>\n",
       "    </tr>\n",
       "  </thead>\n",
       "  <tbody>\n",
       "    <tr>\n",
       "      <th>0</th>\n",
       "      <td>0002-ORFBO</td>\n",
       "      <td>Female</td>\n",
       "      <td>0</td>\n",
       "      <td>Yes</td>\n",
       "      <td>Yes</td>\n",
       "      <td>9</td>\n",
       "      <td>One year</td>\n",
       "      <td>Yes</td>\n",
       "      <td>Mailed check</td>\n",
       "      <td>65.6</td>\n",
       "      <td>...</td>\n",
       "      <td>Yes</td>\n",
       "      <td>No</td>\n",
       "      <td>DSL</td>\n",
       "      <td>No</td>\n",
       "      <td>Yes</td>\n",
       "      <td>No</td>\n",
       "      <td>Yes</td>\n",
       "      <td>Yes</td>\n",
       "      <td>No</td>\n",
       "      <td>No\\r</td>\n",
       "    </tr>\n",
       "    <tr>\n",
       "      <th>1</th>\n",
       "      <td>0003-MKNFE</td>\n",
       "      <td>Male</td>\n",
       "      <td>0</td>\n",
       "      <td>No</td>\n",
       "      <td>No</td>\n",
       "      <td>9</td>\n",
       "      <td>Month-to-month</td>\n",
       "      <td>No</td>\n",
       "      <td>Mailed check</td>\n",
       "      <td>59.9</td>\n",
       "      <td>...</td>\n",
       "      <td>Yes</td>\n",
       "      <td>Yes</td>\n",
       "      <td>DSL</td>\n",
       "      <td>No</td>\n",
       "      <td>No</td>\n",
       "      <td>No</td>\n",
       "      <td>No</td>\n",
       "      <td>No</td>\n",
       "      <td>Yes</td>\n",
       "      <td>No\\r</td>\n",
       "    </tr>\n",
       "    <tr>\n",
       "      <th>2</th>\n",
       "      <td>0004-TLHLJ</td>\n",
       "      <td>Male</td>\n",
       "      <td>0</td>\n",
       "      <td>No</td>\n",
       "      <td>No</td>\n",
       "      <td>4</td>\n",
       "      <td>Month-to-month</td>\n",
       "      <td>Yes</td>\n",
       "      <td>Electronic check</td>\n",
       "      <td>73.9</td>\n",
       "      <td>...</td>\n",
       "      <td>Yes</td>\n",
       "      <td>No</td>\n",
       "      <td>Fiber optic</td>\n",
       "      <td>No</td>\n",
       "      <td>No</td>\n",
       "      <td>Yes</td>\n",
       "      <td>No</td>\n",
       "      <td>No</td>\n",
       "      <td>No</td>\n",
       "      <td>Yes</td>\n",
       "    </tr>\n",
       "    <tr>\n",
       "      <th>3</th>\n",
       "      <td>0011-IGKFF</td>\n",
       "      <td>Male</td>\n",
       "      <td>1</td>\n",
       "      <td>Yes</td>\n",
       "      <td>No</td>\n",
       "      <td>13</td>\n",
       "      <td>Month-to-month</td>\n",
       "      <td>Yes</td>\n",
       "      <td>Electronic check</td>\n",
       "      <td>98.0</td>\n",
       "      <td>...</td>\n",
       "      <td>Yes</td>\n",
       "      <td>No</td>\n",
       "      <td>Fiber optic</td>\n",
       "      <td>No</td>\n",
       "      <td>Yes</td>\n",
       "      <td>Yes</td>\n",
       "      <td>No</td>\n",
       "      <td>Yes</td>\n",
       "      <td>Yes</td>\n",
       "      <td>Yes</td>\n",
       "    </tr>\n",
       "    <tr>\n",
       "      <th>4</th>\n",
       "      <td>0013-EXCHZ</td>\n",
       "      <td>Female</td>\n",
       "      <td>1</td>\n",
       "      <td>Yes</td>\n",
       "      <td>No</td>\n",
       "      <td>3</td>\n",
       "      <td>Month-to-month</td>\n",
       "      <td>Yes</td>\n",
       "      <td>Mailed check</td>\n",
       "      <td>83.9</td>\n",
       "      <td>...</td>\n",
       "      <td>Yes</td>\n",
       "      <td>No</td>\n",
       "      <td>Fiber optic</td>\n",
       "      <td>No</td>\n",
       "      <td>No</td>\n",
       "      <td>No</td>\n",
       "      <td>Yes</td>\n",
       "      <td>Yes</td>\n",
       "      <td>No</td>\n",
       "      <td>Yes</td>\n",
       "    </tr>\n",
       "  </tbody>\n",
       "</table>\n",
       "<p>5 rows × 21 columns</p>\n",
       "</div>"
      ],
      "text/plain": [
       "   customerID  gender  SeniorCitizen Partner Dependents  tenure  \\\n",
       "0  0002-ORFBO  Female              0     Yes        Yes       9   \n",
       "1  0003-MKNFE    Male              0      No         No       9   \n",
       "2  0004-TLHLJ    Male              0      No         No       4   \n",
       "3  0011-IGKFF    Male              1     Yes         No      13   \n",
       "4  0013-EXCHZ  Female              1     Yes         No       3   \n",
       "\n",
       "         Contract PaperlessBilling     PaymentMethod  MonthlyCharges  ...  \\\n",
       "0        One year              Yes      Mailed check            65.6  ...   \n",
       "1  Month-to-month               No      Mailed check            59.9  ...   \n",
       "2  Month-to-month              Yes  Electronic check            73.9  ...   \n",
       "3  Month-to-month              Yes  Electronic check            98.0  ...   \n",
       "4  Month-to-month              Yes      Mailed check            83.9  ...   \n",
       "\n",
       "   PhoneService MultipleLines InternetService OnlineSecurity OnlineBackup  \\\n",
       "0           Yes            No             DSL             No          Yes   \n",
       "1           Yes           Yes             DSL             No           No   \n",
       "2           Yes            No     Fiber optic             No           No   \n",
       "3           Yes            No     Fiber optic             No          Yes   \n",
       "4           Yes            No     Fiber optic             No           No   \n",
       "\n",
       "  DeviceProtection TechSupport StreamingTV StreamingMovies Churn  \n",
       "0               No         Yes         Yes              No  No\\r  \n",
       "1               No          No          No             Yes  No\\r  \n",
       "2              Yes          No          No              No   Yes  \n",
       "3              Yes          No         Yes             Yes   Yes  \n",
       "4               No         Yes         Yes              No   Yes  \n",
       "\n",
       "[5 rows x 21 columns]"
      ]
     },
     "metadata": {},
     "output_type": "display_data"
    },
    {
     "name": "stdout",
     "output_type": "stream",
     "text": [
      "\n",
      "DataFrame Info:\n",
      "<class 'pandas.core.frame.DataFrame'>\n",
      "RangeIndex: 7043 entries, 0 to 7042\n",
      "Data columns (total 21 columns):\n",
      " #   Column            Non-Null Count  Dtype  \n",
      "---  ------            --------------  -----  \n",
      " 0   customerID        7043 non-null   object \n",
      " 1   gender            7043 non-null   object \n",
      " 2   SeniorCitizen     7043 non-null   int64  \n",
      " 3   Partner           7043 non-null   object \n",
      " 4   Dependents        7043 non-null   object \n",
      " 5   tenure            7043 non-null   int64  \n",
      " 6   Contract          7043 non-null   object \n",
      " 7   PaperlessBilling  7043 non-null   object \n",
      " 8   PaymentMethod     7043 non-null   object \n",
      " 9   MonthlyCharges    7043 non-null   float64\n",
      " 10  TotalCharges      7032 non-null   float64\n",
      " 11  PhoneService      7043 non-null   object \n",
      " 12  MultipleLines     7043 non-null   object \n",
      " 13  InternetService   7043 non-null   object \n",
      " 14  OnlineSecurity    7043 non-null   object \n",
      " 15  OnlineBackup      7043 non-null   object \n",
      " 16  DeviceProtection  7043 non-null   object \n",
      " 17  TechSupport       7043 non-null   object \n",
      " 18  StreamingTV       7043 non-null   object \n",
      " 19  StreamingMovies   7043 non-null   object \n",
      " 20  Churn             7043 non-null   object \n",
      "dtypes: float64(2), int64(2), object(17)\n",
      "memory usage: 1.1+ MB\n"
     ]
    }
   ],
   "source": [
    "# Check if the dataset is loaded properly\n",
    "if df is not None:\n",
    "    print(\"\\n--- Data Verification ---\")\n",
    "    \n",
    "    # Check the number of rows and columns loaded\n",
    "    # This should show approximately (7043, 21)\n",
    "    print(f\"The DataFrame has {df.shape[0]} rows and {df.shape[1]} columns.\")\n",
    "    \n",
    "    # Display the first 5 rows to see what the data looks like\n",
    "    print(\"\\nFirst 5 rows of the dataset:\")\n",
    "    display(df.head())\n",
    "    \n",
    "    # Display summary info to check for null values and data types\n",
    "    print(\"\\nDataFrame Info:\")\n",
    "    df.info()"
   ]
  },
  {
   "cell_type": "markdown",
   "id": "56bdc326",
   "metadata": {},
   "source": [
    "#### Initial Profiling"
   ]
  },
  {
   "cell_type": "code",
   "execution_count": 5,
   "id": "e2e93b2c",
   "metadata": {},
   "outputs": [
    {
     "data": {
      "application/vnd.microsoft.datawrangler.viewer.v0+json": {
       "columns": [
        {
         "name": "index",
         "rawType": "object",
         "type": "string"
        },
        {
         "name": "0",
         "rawType": "int64",
         "type": "integer"
        }
       ],
       "ref": "c33124f7-59d0-4270-85a1-b459cc205e76",
       "rows": [
        [
         "customerID",
         "0"
        ],
        [
         "gender",
         "0"
        ],
        [
         "SeniorCitizen",
         "0"
        ],
        [
         "Partner",
         "0"
        ],
        [
         "Dependents",
         "0"
        ],
        [
         "tenure",
         "0"
        ],
        [
         "Contract",
         "0"
        ],
        [
         "PaperlessBilling",
         "0"
        ],
        [
         "PaymentMethod",
         "0"
        ],
        [
         "MonthlyCharges",
         "0"
        ],
        [
         "TotalCharges",
         "11"
        ],
        [
         "PhoneService",
         "0"
        ],
        [
         "MultipleLines",
         "0"
        ],
        [
         "InternetService",
         "0"
        ],
        [
         "OnlineSecurity",
         "0"
        ],
        [
         "OnlineBackup",
         "0"
        ],
        [
         "DeviceProtection",
         "0"
        ],
        [
         "TechSupport",
         "0"
        ],
        [
         "StreamingTV",
         "0"
        ],
        [
         "StreamingMovies",
         "0"
        ],
        [
         "Churn",
         "0"
        ]
       ],
       "shape": {
        "columns": 1,
        "rows": 21
       }
      },
      "text/plain": [
       "customerID           0\n",
       "gender               0\n",
       "SeniorCitizen        0\n",
       "Partner              0\n",
       "Dependents           0\n",
       "tenure               0\n",
       "Contract             0\n",
       "PaperlessBilling     0\n",
       "PaymentMethod        0\n",
       "MonthlyCharges       0\n",
       "TotalCharges        11\n",
       "PhoneService         0\n",
       "MultipleLines        0\n",
       "InternetService      0\n",
       "OnlineSecurity       0\n",
       "OnlineBackup         0\n",
       "DeviceProtection     0\n",
       "TechSupport          0\n",
       "StreamingTV          0\n",
       "StreamingMovies      0\n",
       "Churn                0\n",
       "dtype: int64"
      ]
     },
     "execution_count": 5,
     "metadata": {},
     "output_type": "execute_result"
    }
   ],
   "source": [
    "missing_val = df.isna().sum()\n",
    "missing_val"
   ]
  },
  {
   "cell_type": "markdown",
   "id": "53d4452e",
   "metadata": {},
   "source": [
    "There's 11 missing values on TotalCharges column. We will drop the missing values."
   ]
  },
  {
   "cell_type": "code",
   "execution_count": 6,
   "id": "33001391",
   "metadata": {},
   "outputs": [
    {
     "name": "stdout",
     "output_type": "stream",
     "text": [
      "<class 'pandas.core.frame.DataFrame'>\n",
      "Index: 7032 entries, 0 to 7042\n",
      "Data columns (total 21 columns):\n",
      " #   Column            Non-Null Count  Dtype  \n",
      "---  ------            --------------  -----  \n",
      " 0   customerID        7032 non-null   object \n",
      " 1   gender            7032 non-null   object \n",
      " 2   SeniorCitizen     7032 non-null   int64  \n",
      " 3   Partner           7032 non-null   object \n",
      " 4   Dependents        7032 non-null   object \n",
      " 5   tenure            7032 non-null   int64  \n",
      " 6   Contract          7032 non-null   object \n",
      " 7   PaperlessBilling  7032 non-null   object \n",
      " 8   PaymentMethod     7032 non-null   object \n",
      " 9   MonthlyCharges    7032 non-null   float64\n",
      " 10  TotalCharges      7032 non-null   float64\n",
      " 11  PhoneService      7032 non-null   object \n",
      " 12  MultipleLines     7032 non-null   object \n",
      " 13  InternetService   7032 non-null   object \n",
      " 14  OnlineSecurity    7032 non-null   object \n",
      " 15  OnlineBackup      7032 non-null   object \n",
      " 16  DeviceProtection  7032 non-null   object \n",
      " 17  TechSupport       7032 non-null   object \n",
      " 18  StreamingTV       7032 non-null   object \n",
      " 19  StreamingMovies   7032 non-null   object \n",
      " 20  Churn             7032 non-null   object \n",
      "dtypes: float64(2), int64(2), object(17)\n",
      "memory usage: 1.2+ MB\n"
     ]
    }
   ],
   "source": [
    "df = df.dropna(axis=0)\n",
    "df.info()"
   ]
  },
  {
   "cell_type": "code",
   "execution_count": 7,
   "id": "070403ca",
   "metadata": {},
   "outputs": [
    {
     "data": {
      "text/plain": [
       "np.int64(0)"
      ]
     },
     "execution_count": 7,
     "metadata": {},
     "output_type": "execute_result"
    }
   ],
   "source": [
    "# Check duplicate\n",
    "df.duplicated().sum()"
   ]
  },
  {
   "cell_type": "markdown",
   "id": "3dc130c1",
   "metadata": {},
   "source": [
    "No duplicate found on the dataset."
   ]
  },
  {
   "cell_type": "markdown",
   "id": "e6307d70",
   "metadata": {},
   "source": [
    "#### Exploratory Data Analysis\n",
    "We will conduct:\n",
    "1. Check customer's gender distribution\n",
    "2. Check customer's internet service type distribution\n",
    "3. Check customer's contract type\n",
    "4. Check customer's churn rate by Contract type\n",
    "5. Check customer's average MonthlyCharges for customers who churned vs. those who didn't\n",
    "6. Check customer's churn rate by Internet Service type"
   ]
  },
  {
   "cell_type": "code",
   "execution_count": 8,
   "id": "a52df52b",
   "metadata": {},
   "outputs": [
    {
     "data": {
      "application/vnd.microsoft.datawrangler.viewer.v0+json": {
       "columns": [
        {
         "name": "index",
         "rawType": "int64",
         "type": "integer"
        },
        {
         "name": "gender",
         "rawType": "object",
         "type": "string"
        },
        {
         "name": "Count of gender",
         "rawType": "int64",
         "type": "integer"
        }
       ],
       "ref": "42bb0330-c99a-47e1-8f83-5fe4d3f9a0ef",
       "rows": [
        [
         "0",
         "Female",
         "3483"
        ],
        [
         "1",
         "Male",
         "3549"
        ]
       ],
       "shape": {
        "columns": 2,
        "rows": 2
       }
      },
      "text/html": [
       "<div>\n",
       "<style scoped>\n",
       "    .dataframe tbody tr th:only-of-type {\n",
       "        vertical-align: middle;\n",
       "    }\n",
       "\n",
       "    .dataframe tbody tr th {\n",
       "        vertical-align: top;\n",
       "    }\n",
       "\n",
       "    .dataframe thead th {\n",
       "        text-align: right;\n",
       "    }\n",
       "</style>\n",
       "<table border=\"1\" class=\"dataframe\">\n",
       "  <thead>\n",
       "    <tr style=\"text-align: right;\">\n",
       "      <th></th>\n",
       "      <th>gender</th>\n",
       "      <th>Count of gender</th>\n",
       "    </tr>\n",
       "  </thead>\n",
       "  <tbody>\n",
       "    <tr>\n",
       "      <th>0</th>\n",
       "      <td>Female</td>\n",
       "      <td>3483</td>\n",
       "    </tr>\n",
       "    <tr>\n",
       "      <th>1</th>\n",
       "      <td>Male</td>\n",
       "      <td>3549</td>\n",
       "    </tr>\n",
       "  </tbody>\n",
       "</table>\n",
       "</div>"
      ],
      "text/plain": [
       "   gender  Count of gender\n",
       "0  Female             3483\n",
       "1    Male             3549"
      ]
     },
     "execution_count": 8,
     "metadata": {},
     "output_type": "execute_result"
    }
   ],
   "source": [
    "# Gender distribution\n",
    "cust_gender = df.groupby('gender')[['gender']].count()\n",
    "cust_gender = cust_gender.rename(columns={\n",
    "    'gender' : 'Count of gender'\n",
    "}).reset_index()\n",
    "cust_gender"
   ]
  },
  {
   "cell_type": "code",
   "execution_count": 9,
   "id": "7b1613a6",
   "metadata": {},
   "outputs": [
    {
     "data": {
      "image/png": "[encoded data removed]",
      "text/plain": [
       "<Figure size 640x480 with 1 Axes>"
      ]
     },
     "metadata": {},
     "output_type": "display_data"
    }
   ],
   "source": [
    "# Customer's gender chart\n",
    "plt.pie(x='Count of gender', labels='gender', data=cust_gender, explode=[0.1, 0], autopct='%1.1f%%', startangle=140)\n",
    "plt.title(\"Customer's Gender\\n\", weight='bold')\n",
    "plt.tight_layout()\n",
    "plt.show()"
   ]
  },
  {
   "cell_type": "code",
   "execution_count": 10,
   "id": "33e268bc",
   "metadata": {},
   "outputs": [
    {
     "data": {
      "application/vnd.microsoft.datawrangler.viewer.v0+json": {
       "columns": [
        {
         "name": "index",
         "rawType": "int64",
         "type": "integer"
        },
        {
         "name": "InternetService",
         "rawType": "object",
         "type": "string"
        },
        {
         "name": "Count of Internet Service",
         "rawType": "int64",
         "type": "integer"
        }
       ],
       "ref": "fb0b8504-d275-49ae-8384-1c27e677f867",
       "rows": [
        [
         "0",
         "Fiber optic",
         "3096"
        ],
        [
         "1",
         "DSL",
         "2416"
        ],
        [
         "2",
         "No",
         "1520"
        ]
       ],
       "shape": {
        "columns": 2,
        "rows": 3
       }
      },
      "text/html": [
       "<div>\n",
       "<style scoped>\n",
       "    .dataframe tbody tr th:only-of-type {\n",
       "        vertical-align: middle;\n",
       "    }\n",
       "\n",
       "    .dataframe tbody tr th {\n",
       "        vertical-align: top;\n",
       "    }\n",
       "\n",
       "    .dataframe thead th {\n",
       "        text-align: right;\n",
       "    }\n",
       "</style>\n",
       "<table border=\"1\" class=\"dataframe\">\n",
       "  <thead>\n",
       "    <tr style=\"text-align: right;\">\n",
       "      <th></th>\n",
       "      <th>InternetService</th>\n",
       "      <th>Count of Internet Service</th>\n",
       "    </tr>\n",
       "  </thead>\n",
       "  <tbody>\n",
       "    <tr>\n",
       "      <th>0</th>\n",
       "      <td>Fiber optic</td>\n",
       "      <td>3096</td>\n",
       "    </tr>\n",
       "    <tr>\n",
       "      <th>1</th>\n",
       "      <td>DSL</td>\n",
       "      <td>2416</td>\n",
       "    </tr>\n",
       "    <tr>\n",
       "      <th>2</th>\n",
       "      <td>No</td>\n",
       "      <td>1520</td>\n",
       "    </tr>\n",
       "  </tbody>\n",
       "</table>\n",
       "</div>"
      ],
      "text/plain": [
       "  InternetService  Count of Internet Service\n",
       "0     Fiber optic                       3096\n",
       "1             DSL                       2416\n",
       "2              No                       1520"
      ]
     },
     "execution_count": 10,
     "metadata": {},
     "output_type": "execute_result"
    }
   ],
   "source": [
    "# Distribution of internet services\n",
    "internet_services = df.groupby('InternetService')[['InternetService']].count()\n",
    "internet_services = internet_services.rename(columns={\n",
    "    'InternetService' : 'Count of Internet Service'\n",
    "}).sort_values(by='Count of Internet Service', ascending=False).reset_index()\n",
    "internet_services"
   ]
  },
  {
   "cell_type": "code",
   "execution_count": 11,
   "id": "90cdcd15",
   "metadata": {},
   "outputs": [
    {
     "data": {
      "image/png": "[encoded data removed]",
      "text/plain": [
       "<Figure size 900x500 with 1 Axes>"
      ]
     },
     "metadata": {},
     "output_type": "display_data"
    }
   ],
   "source": [
    "# Distribution of internet services plot\n",
    "plt.figure(figsize=(9, 5))\n",
    "ax = sns.barplot(x='Count of Internet Service', y='InternetService', data=internet_services)\n",
    "\n",
    "# Add data labels\n",
    "for i in ax.patches:\n",
    "    ax.text(\n",
    "        i.get_width() + 1,              \n",
    "        i.get_y() + i.get_height() / 2,  \n",
    "        int(i.get_width()),               \n",
    "        ha='left', va='center'            \n",
    "    )\n",
    "\n",
    "# Add title, labels\n",
    "plt.title('Internet Service Distribution', weight='bold')\n",
    "plt.xlabel('Count')\n",
    "plt.ylabel('Internet Service')\n",
    "plt.tight_layout()\n",
    "plt.show()"
   ]
  },
  {
   "cell_type": "code",
   "execution_count": 12,
   "id": "b663d902",
   "metadata": {},
   "outputs": [
    {
     "data": {
      "application/vnd.microsoft.datawrangler.viewer.v0+json": {
       "columns": [
        {
         "name": "index",
         "rawType": "int64",
         "type": "integer"
        },
        {
         "name": "Contract",
         "rawType": "object",
         "type": "string"
        },
        {
         "name": "Count of Contract",
         "rawType": "int64",
         "type": "integer"
        }
       ],
       "ref": "76f2ee07-14b5-47eb-89ff-f30eae0fdccf",
       "rows": [
        [
         "0",
         "Month-to-month",
         "3875"
        ],
        [
         "1",
         "Two year",
         "1685"
        ],
        [
         "2",
         "One year",
         "1472"
        ]
       ],
       "shape": {
        "columns": 2,
        "rows": 3
       }
      },
      "text/html": [
       "<div>\n",
       "<style scoped>\n",
       "    .dataframe tbody tr th:only-of-type {\n",
       "        vertical-align: middle;\n",
       "    }\n",
       "\n",
       "    .dataframe tbody tr th {\n",
       "        vertical-align: top;\n",
       "    }\n",
       "\n",
       "    .dataframe thead th {\n",
       "        text-align: right;\n",
       "    }\n",
       "</style>\n",
       "<table border=\"1\" class=\"dataframe\">\n",
       "  <thead>\n",
       "    <tr style=\"text-align: right;\">\n",
       "      <th></th>\n",
       "      <th>Contract</th>\n",
       "      <th>Count of Contract</th>\n",
       "    </tr>\n",
       "  </thead>\n",
       "  <tbody>\n",
       "    <tr>\n",
       "      <th>0</th>\n",
       "      <td>Month-to-month</td>\n",
       "      <td>3875</td>\n",
       "    </tr>\n",
       "    <tr>\n",
       "      <th>1</th>\n",
       "      <td>Two year</td>\n",
       "      <td>1685</td>\n",
       "    </tr>\n",
       "    <tr>\n",
       "      <th>2</th>\n",
       "      <td>One year</td>\n",
       "      <td>1472</td>\n",
       "    </tr>\n",
       "  </tbody>\n",
       "</table>\n",
       "</div>"
      ],
      "text/plain": [
       "         Contract  Count of Contract\n",
       "0  Month-to-month               3875\n",
       "1        Two year               1685\n",
       "2        One year               1472"
      ]
     },
     "execution_count": 12,
     "metadata": {},
     "output_type": "execute_result"
    }
   ],
   "source": [
    "# Customers per contract type\n",
    "cust_contract = df.groupby('Contract')[['Contract']].count()\n",
    "cust_contract = cust_contract.rename(columns={\n",
    "    'Contract' : 'Count of Contract'\n",
    "}).sort_values(by='Count of Contract', ascending=False).reset_index()\n",
    "cust_contract"
   ]
  },
  {
   "cell_type": "code",
   "execution_count": 13,
   "id": "07fb9f75",
   "metadata": {},
   "outputs": [
    {
     "data": {
      "image/png": "[encoded data removed]",
      "text/plain": [
       "<Figure size 900x500 with 1 Axes>"
      ]
     },
     "metadata": {},
     "output_type": "display_data"
    }
   ],
   "source": [
    "# Customers per contract types plot\n",
    "plt.figure(figsize=(9, 5))\n",
    "ax = sns.barplot(x='Count of Contract', y='Contract', data=cust_contract)\n",
    "\n",
    "# Add data labels\n",
    "for i in ax.patches:\n",
    "    ax.text(\n",
    "        i.get_width() + 1,              \n",
    "        i.get_y() + i.get_height() / 2,  \n",
    "        int(i.get_width()),               \n",
    "        ha='left', va='center'            \n",
    "    )\n",
    "\n",
    "# Add title, labels\n",
    "plt.title('Contract Type Distribution', weight='bold')\n",
    "plt.xlabel('Count')\n",
    "plt.ylabel('Contract Type')\n",
    "plt.tight_layout()\n",
    "plt.show()"
   ]
  },
  {
   "cell_type": "code",
   "execution_count": 14,
   "id": "fc065d62",
   "metadata": {},
   "outputs": [
    {
     "data": {
      "application/vnd.microsoft.datawrangler.viewer.v0+json": {
       "columns": [
        {
         "name": "index",
         "rawType": "int64",
         "type": "integer"
        },
        {
         "name": "Contract",
         "rawType": "object",
         "type": "string"
        },
        {
         "name": "total_customers",
         "rawType": "int64",
         "type": "integer"
        },
        {
         "name": "churned_customers",
         "rawType": "int64",
         "type": "integer"
        },
        {
         "name": "churn_rate_percent",
         "rawType": "float64",
         "type": "float"
        }
       ],
       "ref": "2cdeb2e7-58cc-40b0-b202-cf0154fe4a82",
       "rows": [
        [
         "0",
         "Month-to-month",
         "3875",
         "1655",
         "42.71"
        ],
        [
         "1",
         "One year",
         "1472",
         "166",
         "11.28"
        ],
        [
         "2",
         "Two year",
         "1685",
         "48",
         "2.85"
        ]
       ],
       "shape": {
        "columns": 4,
        "rows": 3
       }
      },
      "text/html": [
       "<div>\n",
       "<style scoped>\n",
       "    .dataframe tbody tr th:only-of-type {\n",
       "        vertical-align: middle;\n",
       "    }\n",
       "\n",
       "    .dataframe tbody tr th {\n",
       "        vertical-align: top;\n",
       "    }\n",
       "\n",
       "    .dataframe thead th {\n",
       "        text-align: right;\n",
       "    }\n",
       "</style>\n",
       "<table border=\"1\" class=\"dataframe\">\n",
       "  <thead>\n",
       "    <tr style=\"text-align: right;\">\n",
       "      <th></th>\n",
       "      <th>Contract</th>\n",
       "      <th>total_customers</th>\n",
       "      <th>churned_customers</th>\n",
       "      <th>churn_rate_percent</th>\n",
       "    </tr>\n",
       "  </thead>\n",
       "  <tbody>\n",
       "    <tr>\n",
       "      <th>0</th>\n",
       "      <td>Month-to-month</td>\n",
       "      <td>3875</td>\n",
       "      <td>1655</td>\n",
       "      <td>42.71</td>\n",
       "    </tr>\n",
       "    <tr>\n",
       "      <th>1</th>\n",
       "      <td>One year</td>\n",
       "      <td>1472</td>\n",
       "      <td>166</td>\n",
       "      <td>11.28</td>\n",
       "    </tr>\n",
       "    <tr>\n",
       "      <th>2</th>\n",
       "      <td>Two year</td>\n",
       "      <td>1685</td>\n",
       "      <td>48</td>\n",
       "      <td>2.85</td>\n",
       "    </tr>\n",
       "  </tbody>\n",
       "</table>\n",
       "</div>"
      ],
      "text/plain": [
       "         Contract  total_customers  churned_customers  churn_rate_percent\n",
       "0  Month-to-month             3875               1655               42.71\n",
       "1        One year             1472                166               11.28\n",
       "2        Two year             1685                 48                2.85"
      ]
     },
     "execution_count": 14,
     "metadata": {},
     "output_type": "execute_result"
    }
   ],
   "source": [
    "# Analyze the churn rate by Contract type\n",
    "churn_by_contract = (\n",
    "    df.groupby('Contract').agg(\n",
    "        total_customers=('customerID', 'count'),\n",
    "        churned_customers=('Churn', lambda x: (x == 'Yes').sum())\n",
    "    )\n",
    "    .assign(churn_rate_percent=lambda x: np.round(x['churned_customers'] * 100 / x['total_customers'], 2))\n",
    "    .sort_values('churn_rate_percent', ascending=False)\n",
    "    .reset_index()\n",
    ")\n",
    "\n",
    "churn_by_contract"
   ]
  },
  {
   "cell_type": "code",
   "execution_count": 15,
   "id": "91370b2a",
   "metadata": {},
   "outputs": [
    {
     "data": {
      "image/png": "[encoded data removed]",
      "text/plain": [
       "<Figure size 800x500 with 1 Axes>"
      ]
     },
     "metadata": {},
     "output_type": "display_data"
    }
   ],
   "source": [
    "# Churn rate by Contract type plot\n",
    "plt.figure(figsize=(8, 5))\n",
    "ax = sns.barplot(x='Contract', y='churn_rate_percent', data=churn_by_contract)\n",
    "\n",
    "# Add data labels\n",
    "for bar in ax.patches:\n",
    "    ax.text(\n",
    "        bar.get_x() + bar.get_width() / 2,\n",
    "        bar.get_height() + 1,\n",
    "        f\"{bar.get_height():.2f}%\",\n",
    "        ha='center', va='bottom'\n",
    "    )\n",
    "\n",
    "plt.title('Churn Rate by Contract Type', weight='bold')\n",
    "plt.ylabel('Churn Rate (%)')\n",
    "plt.xlabel('Contract Type')\n",
    "plt.ylim(0, max(churn_by_contract['churn_rate_percent']) + 5) \n",
    "plt.tight_layout()\n",
    "plt.show()"
   ]
  },
  {
   "cell_type": "code",
   "execution_count": null,
   "id": "6c36891d",
   "metadata": {},
   "outputs": [
    {
     "data": {
      "application/vnd.microsoft.datawrangler.viewer.v0+json": {
       "columns": [
        {
         "name": "index",
         "rawType": "int64",
         "type": "integer"
        },
        {
         "name": "Churn",
         "rawType": "object",
         "type": "string"
        },
        {
         "name": "MonthlyCharges",
         "rawType": "float64",
         "type": "float"
        }
       ],
       "ref": "d207c6cb-1bd0-4545-9ea9-6360109b6177",
       "rows": [
        [
         "0",
         "No\r",
         "61.31"
        ],
        [
         "1",
         "Yes",
         "74.44"
        ]
       ],
       "shape": {
        "columns": 2,
        "rows": 2
       }
      },
      "text/html": [
       "<div>\n",
       "<style scoped>\n",
       "    .dataframe tbody tr th:only-of-type {\n",
       "        vertical-align: middle;\n",
       "    }\n",
       "\n",
       "    .dataframe tbody tr th {\n",
       "        vertical-align: top;\n",
       "    }\n",
       "\n",
       "    .dataframe thead th {\n",
       "        text-align: right;\n",
       "    }\n",
       "</style>\n",
       "<table border=\"1\" class=\"dataframe\">\n",
       "  <thead>\n",
       "    <tr style=\"text-align: right;\">\n",
       "      <th></th>\n",
       "      <th>Churn</th>\n",
       "      <th>MonthlyCharges</th>\n",
       "    </tr>\n",
       "  </thead>\n",
       "  <tbody>\n",
       "    <tr>\n",
       "      <th>0</th>\n",
       "      <td>No\\r</td>\n",
       "      <td>61.31</td>\n",
       "    </tr>\n",
       "    <tr>\n",
       "      <th>1</th>\n",
       "      <td>Yes</td>\n",
       "      <td>74.44</td>\n",
       "    </tr>\n",
       "  </tbody>\n",
       "</table>\n",
       "</div>"
      ],
      "text/plain": [
       "  Churn  MonthlyCharges\n",
       "0  No\\r           61.31\n",
       "1   Yes           74.44"
      ]
     },
     "execution_count": 16,
     "metadata": {},
     "output_type": "execute_result"
    }
   ],
   "source": [
    "#Investigate the average MonthlyCharges for customers who churned vs. those who didn't\n",
    "avg_monthlyCharges = df.groupby(['Churn'])[['MonthlyCharges']].mean().reset_index()\n",
    "avg_monthlyCharges['MonthlyCharges'] = np.round(avg_monthlyCharges['MonthlyCharges'], 2)\n",
    "avg_monthlyCharges"
   ]
  },
  {
   "cell_type": "code",
   "execution_count": 17,
   "id": "a3cf57f4",
   "metadata": {},
   "outputs": [
    {
     "name": "stderr",
     "output_type": "stream",
     "text": [
      ") missing from font(s) DejaVu Sans.pykernel_18872\\668416781.py:18: UserWarning: Glyph 13 (\n",
      "  plt.tight_layout()\n",
      ") missing from font(s) DejaVu Sans.\\site-packages\\IPython\\core\\pylabtools.py:170: UserWarning: Glyph 13 (\n",
      "  fig.canvas.print_figure(bytes_io, **kw)\n"
     ]
    },
    {
     "data": {
      "image/png": "[encoded data removed]",
      "text/plain": [
       "<Figure size 800x500 with 1 Axes>"
      ]
     },
     "metadata": {},
     "output_type": "display_data"
    }
   ],
   "source": [
    "# Average MonthlyCharges for customers who churned vs. those who didn't plot\n",
    "plt.figure(figsize=(8, 5))\n",
    "ax = sns.barplot(x='Churn', y='MonthlyCharges', data=avg_monthlyCharges)\n",
    "\n",
    "# Add data labels\n",
    "for bar in ax.patches:\n",
    "    ax.text(\n",
    "        bar.get_x() + bar.get_width() / 2,\n",
    "        bar.get_height() + 1,\n",
    "        f\"{bar.get_height():.2f}%\",\n",
    "        ha='center', va='bottom'\n",
    "    )\n",
    "\n",
    "plt.title('Average MonthlyCharges', weight='bold')\n",
    "plt.ylabel('MonthlyCharges')\n",
    "plt.xlabel('Churn')\n",
    "plt.ylim(0, max(avg_monthlyCharges['MonthlyCharges']) + 5)\n",
    "plt.tight_layout()\n",
    "plt.show()"
   ]
  },
  {
   "cell_type": "code",
   "execution_count": 18,
   "id": "0d402a40",
   "metadata": {},
   "outputs": [
    {
     "data": {
      "application/vnd.microsoft.datawrangler.viewer.v0+json": {
       "columns": [
        {
         "name": "index",
         "rawType": "int64",
         "type": "integer"
        },
        {
         "name": "InternetService",
         "rawType": "object",
         "type": "string"
        },
        {
         "name": "total_customers",
         "rawType": "int64",
         "type": "integer"
        },
        {
         "name": "churned_customers",
         "rawType": "int64",
         "type": "integer"
        },
        {
         "name": "churn_rate_percent",
         "rawType": "float64",
         "type": "float"
        }
       ],
       "ref": "f3ee3dce-8aad-4ac8-8ed3-04ccb6b426f4",
       "rows": [
        [
         "0",
         "Fiber optic",
         "3096",
         "1297",
         "41.89"
        ],
        [
         "1",
         "DSL",
         "2416",
         "459",
         "19.0"
        ],
        [
         "2",
         "No",
         "1520",
         "113",
         "7.43"
        ]
       ],
       "shape": {
        "columns": 4,
        "rows": 3
       }
      },
      "text/html": [
       "<div>\n",
       "<style scoped>\n",
       "    .dataframe tbody tr th:only-of-type {\n",
       "        vertical-align: middle;\n",
       "    }\n",
       "\n",
       "    .dataframe tbody tr th {\n",
       "        vertical-align: top;\n",
       "    }\n",
       "\n",
       "    .dataframe thead th {\n",
       "        text-align: right;\n",
       "    }\n",
       "</style>\n",
       "<table border=\"1\" class=\"dataframe\">\n",
       "  <thead>\n",
       "    <tr style=\"text-align: right;\">\n",
       "      <th></th>\n",
       "      <th>InternetService</th>\n",
       "      <th>total_customers</th>\n",
       "      <th>churned_customers</th>\n",
       "      <th>churn_rate_percent</th>\n",
       "    </tr>\n",
       "  </thead>\n",
       "  <tbody>\n",
       "    <tr>\n",
       "      <th>0</th>\n",
       "      <td>Fiber optic</td>\n",
       "      <td>3096</td>\n",
       "      <td>1297</td>\n",
       "      <td>41.89</td>\n",
       "    </tr>\n",
       "    <tr>\n",
       "      <th>1</th>\n",
       "      <td>DSL</td>\n",
       "      <td>2416</td>\n",
       "      <td>459</td>\n",
       "      <td>19.00</td>\n",
       "    </tr>\n",
       "    <tr>\n",
       "      <th>2</th>\n",
       "      <td>No</td>\n",
       "      <td>1520</td>\n",
       "      <td>113</td>\n",
       "      <td>7.43</td>\n",
       "    </tr>\n",
       "  </tbody>\n",
       "</table>\n",
       "</div>"
      ],
      "text/plain": [
       "  InternetService  total_customers  churned_customers  churn_rate_percent\n",
       "0     Fiber optic             3096               1297               41.89\n",
       "1             DSL             2416                459               19.00\n",
       "2              No             1520                113                7.43"
      ]
     },
     "execution_count": 18,
     "metadata": {},
     "output_type": "execute_result"
    }
   ],
   "source": [
    "# Analyze the churn rate by Internet Service type\n",
    "churn_by_serviceType = (\n",
    "    df.groupby('InternetService').agg(\n",
    "        total_customers=('customerID', 'count'),\n",
    "        churned_customers=('Churn', lambda x: (x == 'Yes').sum())\n",
    "    )\n",
    "    .assign(churn_rate_percent=lambda x: np.round(x['churned_customers'] * 100 / x['total_customers'], 2))\n",
    "    .sort_values('churn_rate_percent', ascending=False)\n",
    "    .reset_index()\n",
    ")\n",
    "churn_by_serviceType"
   ]
  },
  {
   "cell_type": "code",
   "execution_count": null,
   "id": "5b33794c",
   "metadata": {},
   "outputs": [
    {
     "data": {
      "image/png": "[encoded data removed]",
      "text/plain": [
       "<Figure size 800x500 with 1 Axes>"
      ]
     },
     "metadata": {},
     "output_type": "display_data"
    }
   ],
   "source": [
    "# Churn rate by Internet Service type Plot\n",
    "plt.figure(figsize=(8, 5))\n",
    "ax = sns.barplot(x='InternetService', y='churn_rate_percent', data=churn_by_serviceType)\n",
    "\n",
    "# Add data labels\n",
    "for bar in ax.patches:\n",
    "    ax.text(\n",
    "        bar.get_x() + bar.get_width() / 2,\n",
    "        bar.get_height() + 1,\n",
    "        f\"{bar.get_height():.2f}%\",\n",
    "        ha='center', va='bottom'\n",
    "    )\n",
    "\n",
    "plt.title('Churn Rate by InternetService', weight='bold')\n",
    "plt.ylabel('Churn Rate (%)')\n",
    "plt.xlabel('Contract Type')\n",
    "plt.ylim(0, max(churn_by_serviceType['churn_rate_percent']) + 5)\n",
    "plt.tight_layout()\n",
    "plt.show()"
   ]
  },
  {
   "cell_type": "markdown",
   "id": "0a469801",
   "metadata": {},
   "source": [
    "---\n",
    "\n",
    "#### Data Pre-processing\n",
    "\n",
    "We will conduct:\n",
    "- Handle any remaining missing values (If there's any)\n",
    "- Encode categorical variables\n",
    "- Scale numerical features"
   ]
  },
  {
   "cell_type": "code",
   "execution_count": null,
   "id": "211aca46",
   "metadata": {},
   "outputs": [],
   "source": []
  }
 ],
 "metadata": {
  "kernelspec": {
   "display_name": "kaggle",
   "language": "python",
   "name": "python3"
  },
  "language_info": {
   "codemirror_mode": {
    "name": "ipython",
    "version": 3
   },
   "file_extension": ".py",
   "mimetype": "text/x-python",
   "name": "python",
   "nbconvert_exporter": "python",
   "pygments_lexer": "ipython3",
   "version": "3.12.9"
  }
 },
 "nbformat": 4,
 "nbformat_minor": 5
}
