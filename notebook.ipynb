{
 "cells": [
  {
   "cell_type": "markdown",
   "id": "07a7add8",
   "metadata": {},
   "source": [
    "# Telco Customer Churn - Python Analysis\n",
    "### Main Objective:\n",
    "1. Exploratory Data Anlaysis\n",
    "2. Data Pre-processing\n",
    "3. Model Building\n",
    "4. Model Evaluation\n",
    "---\n",
    "\n",
    "### Import Libraries"
   ]
  },
  {
   "cell_type": "code",
   "execution_count": 1,
   "id": "e9e5b7c8",
   "metadata": {},
   "outputs": [
    {
     "name": "stderr",
     "output_type": "stream",
     "text": [
      "e:\\Program\\Anaconda\\envs\\kaggle\\Lib\\site-packages\\tqdm\\auto.py:21: TqdmWarning: IProgress not found. Please update jupyter and ipywidgets. See https://ipywidgets.readthedocs.io/en/stable/user_install.html\n",
      "  from .autonotebook import tqdm as notebook_tqdm\n"
     ]
    }
   ],
   "source": [
    "# Base library\n",
    "import pandas as pd\n",
    "import numpy as np\n",
    "\n",
    "# MySQL Connector\n",
    "import mysql.connector\n",
    "from mysql.connector import Error\n",
    "\n",
    "# Visualization\n",
    "import seaborn as sns\n",
    "import matplotlib.pyplot as plt\n",
    "%matplotlib inline\n",
    "\n",
    "# Data Selection, cross-validation\n",
    "from sklearn.model_selection import train_test_split, cross_val_score\n",
    "\n",
    "# Data pre-processing\n",
    "from sklearn.preprocessing import OneHotEncoder, StandardScaler\n",
    "from imblearn.pipeline import Pipeline\n",
    "from imblearn.over_sampling import SMOTE\n",
    "\n",
    "# Model\n",
    "import optuna\n",
    "from functools import partial\n",
    "from sklearn.linear_model import LogisticRegression\n",
    "from sklearn.tree import DecisionTreeClassifier\n",
    "from sklearn.ensemble import RandomForestClassifier\n",
    "from xgboost import XGBClassifier\n",
    "\n",
    "# Evaluation metrics\n",
    "from sklearn.metrics import classification_report, roc_auc_score, ConfusionMatrixDisplay"
   ]
  },
  {
   "cell_type": "markdown",
   "id": "f9fc1eb6",
   "metadata": {},
   "source": [
    "#### Load the data"
   ]
  },
  {
   "cell_type": "code",
   "execution_count": 2,
   "id": "c440b6ff",
   "metadata": {},
   "outputs": [],
   "source": [
    "# DB Config\n",
    "db_config = {\n",
    "    'host': 'localhost',\n",
    "    'user': 'root',\n",
    "    'password': 'root',\n",
    "    'database': 'telco_churn'\n",
    "}"
   ]
  },
  {
   "cell_type": "code",
   "execution_count": 3,
   "id": "a045276e",
   "metadata": {},
   "outputs": [
    {
     "name": "stdout",
     "output_type": "stream",
     "text": [
      "Successfully connected to the MySQL database.\n",
      "Data successfully loaded into a pandas DataFrame.\n",
      "MySQL connection is closed.\n"
     ]
    },
    {
     "name": "stderr",
     "output_type": "stream",
     "text": [
      "C:\\Users\\dkpc2\\AppData\\Local\\Temp\\ipykernel_5692\\3995519853.py:48: UserWarning: pandas only supports SQLAlchemy connectable (engine/connection) or database string URI or sqlite3 DBAPI2 connection. Other DBAPI2 objects are not tested. Please consider using SQLAlchemy.\n",
      "  df = pd.read_sql(sql_query, conn)\n"
     ]
    }
   ],
   "source": [
    "# SQL Query to load the data\n",
    "sql_query = \"\"\"\n",
    "SELECT\n",
    "    c.customerID,\n",
    "    c.gender,\n",
    "    c.SeniorCitizen,\n",
    "    c.Partner,\n",
    "    c.Dependents,\n",
    "    a.tenure,\n",
    "    a.Contract,\n",
    "    a.PaperlessBilling,\n",
    "    a.PaymentMethod,\n",
    "    a.MonthlyCharges,\n",
    "    a.TotalCharges,\n",
    "    s.PhoneService,\n",
    "    s.MultipleLines,\n",
    "    s.InternetService,\n",
    "    s.OnlineSecurity,\n",
    "    s.OnlineBackup,\n",
    "    s.DeviceProtection,\n",
    "    s.TechSupport,\n",
    "    s.StreamingTV,\n",
    "    s.StreamingMovies,\n",
    "    ch.Churn\n",
    "FROM\n",
    "    customers c\n",
    "JOIN\n",
    "    account_info a ON c.customerID = a.customerID\n",
    "JOIN\n",
    "    services s ON c.customerID = s.customerID\n",
    "JOIN\n",
    "    churn_data ch ON c.customerID = ch.customerID;\n",
    "\"\"\"\n",
    "\n",
    "# Connect to the database and load the data\n",
    "# Create a variable 'df' to hold the data\n",
    "df = None\n",
    "conn = None # Initialize connection to None\n",
    "\n",
    "try:\n",
    "    # Establish the connection\n",
    "    conn = mysql.connector.connect(**db_config)\n",
    "    \n",
    "    if conn.is_connected():\n",
    "        print(\"Successfully connected to the MySQL database.\")\n",
    "        \n",
    "        # Use pandas to execute the query and load data into a DataFrame\n",
    "        df = pd.read_sql(sql_query, conn)\n",
    "        \n",
    "        print(\"Data successfully loaded into a pandas DataFrame.\")\n",
    "\n",
    "except Error as e:\n",
    "    print(f\"Error connecting to MySQL or fetching data: {e}\")\n",
    "\n",
    "finally:\n",
    "    # Make sure to close the connection\n",
    "    if conn and conn.is_connected():\n",
    "        conn.close()\n",
    "        print(\"MySQL connection is closed.\")"
   ]
  },
  {
   "cell_type": "code",
   "execution_count": 4,
   "id": "27080d6f",
   "metadata": {},
   "outputs": [
    {
     "name": "stdout",
     "output_type": "stream",
     "text": [
      "\n",
      "--- Data Verification ---\n",
      "The DataFrame has 7043 rows and 21 columns.\n",
      "\n",
      "First 5 rows of the dataset:\n"
     ]
    },
    {
     "data": {
      "application/vnd.microsoft.datawrangler.viewer.v0+json": {
       "columns": [
        {
         "name": "index",
         "rawType": "int64",
         "type": "integer"
        },
        {
         "name": "customerID",
         "rawType": "object",
         "type": "string"
        },
        {
         "name": "gender",
         "rawType": "object",
         "type": "string"
        },
        {
         "name": "SeniorCitizen",
         "rawType": "int64",
         "type": "integer"
        },
        {
         "name": "Partner",
         "rawType": "object",
         "type": "string"
        },
        {
         "name": "Dependents",
         "rawType": "object",
         "type": "string"
        },
        {
         "name": "tenure",
         "rawType": "int64",
         "type": "integer"
        },
        {
         "name": "Contract",
         "rawType": "object",
         "type": "string"
        },
        {
         "name": "PaperlessBilling",
         "rawType": "object",
         "type": "string"
        },
        {
         "name": "PaymentMethod",
         "rawType": "object",
         "type": "string"
        },
        {
         "name": "MonthlyCharges",
         "rawType": "float64",
         "type": "float"
        },
        {
         "name": "TotalCharges",
         "rawType": "float64",
         "type": "float"
        },
        {
         "name": "PhoneService",
         "rawType": "object",
         "type": "string"
        },
        {
         "name": "MultipleLines",
         "rawType": "object",
         "type": "string"
        },
        {
         "name": "InternetService",
         "rawType": "object",
         "type": "string"
        },
        {
         "name": "OnlineSecurity",
         "rawType": "object",
         "type": "string"
        },
        {
         "name": "OnlineBackup",
         "rawType": "object",
         "type": "string"
        },
        {
         "name": "DeviceProtection",
         "rawType": "object",
         "type": "string"
        },
        {
         "name": "TechSupport",
         "rawType": "object",
         "type": "string"
        },
        {
         "name": "StreamingTV",
         "rawType": "object",
         "type": "string"
        },
        {
         "name": "StreamingMovies",
         "rawType": "object",
         "type": "string"
        },
        {
         "name": "Churn",
         "rawType": "object",
         "type": "string"
        }
       ],
       "ref": "2532047e-65ae-4001-9e9c-012de0a7dc46",
       "rows": [
        [
         "0",
         "0002-ORFBO",
         "Female",
         "0",
         "Yes",
         "Yes",
         "9",
         "One year",
         "Yes",
         "Mailed check",
         "65.6",
         "593.3",
         "Yes",
         "No",
         "DSL",
         "No",
         "Yes",
         "No",
         "Yes",
         "Yes",
         "No",
         "No\r"
        ],
        [
         "1",
         "0003-MKNFE",
         "Male",
         "0",
         "No",
         "No",
         "9",
         "Month-to-month",
         "No",
         "Mailed check",
         "59.9",
         "542.4",
         "Yes",
         "Yes",
         "DSL",
         "No",
         "No",
         "No",
         "No",
         "No",
         "Yes",
         "No\r"
        ],
        [
         "2",
         "0004-TLHLJ",
         "Male",
         "0",
         "No",
         "No",
         "4",
         "Month-to-month",
         "Yes",
         "Electronic check",
         "73.9",
         "280.85",
         "Yes",
         "No",
         "Fiber optic",
         "No",
         "No",
         "Yes",
         "No",
         "No",
         "No",
         "Yes"
        ],
        [
         "3",
         "0011-IGKFF",
         "Male",
         "1",
         "Yes",
         "No",
         "13",
         "Month-to-month",
         "Yes",
         "Electronic check",
         "98.0",
         "1237.85",
         "Yes",
         "No",
         "Fiber optic",
         "No",
         "Yes",
         "Yes",
         "No",
         "Yes",
         "Yes",
         "Yes"
        ],
        [
         "4",
         "0013-EXCHZ",
         "Female",
         "1",
         "Yes",
         "No",
         "3",
         "Month-to-month",
         "Yes",
         "Mailed check",
         "83.9",
         "267.4",
         "Yes",
         "No",
         "Fiber optic",
         "No",
         "No",
         "No",
         "Yes",
         "Yes",
         "No",
         "Yes"
        ]
       ],
       "shape": {
        "columns": 21,
        "rows": 5
       }
      },
      "text/html": [
       "<div>\n",
       "<style scoped>\n",
       "    .dataframe tbody tr th:only-of-type {\n",
       "        vertical-align: middle;\n",
       "    }\n",
       "\n",
       "    .dataframe tbody tr th {\n",
       "        vertical-align: top;\n",
       "    }\n",
       "\n",
       "    .dataframe thead th {\n",
       "        text-align: right;\n",
       "    }\n",
       "</style>\n",
       "<table border=\"1\" class=\"dataframe\">\n",
       "  <thead>\n",
       "    <tr style=\"text-align: right;\">\n",
       "      <th></th>\n",
       "      <th>customerID</th>\n",
       "      <th>gender</th>\n",
       "      <th>SeniorCitizen</th>\n",
       "      <th>Partner</th>\n",
       "      <th>Dependents</th>\n",
       "      <th>tenure</th>\n",
       "      <th>Contract</th>\n",
       "      <th>PaperlessBilling</th>\n",
       "      <th>PaymentMethod</th>\n",
       "      <th>MonthlyCharges</th>\n",
       "      <th>...</th>\n",
       "      <th>PhoneService</th>\n",
       "      <th>MultipleLines</th>\n",
       "      <th>InternetService</th>\n",
       "      <th>OnlineSecurity</th>\n",
       "      <th>OnlineBackup</th>\n",
       "      <th>DeviceProtection</th>\n",
       "      <th>TechSupport</th>\n",
       "      <th>StreamingTV</th>\n",
       "      <th>StreamingMovies</th>\n",
       "      <th>Churn</th>\n",
       "    </tr>\n",
       "  </thead>\n",
       "  <tbody>\n",
       "    <tr>\n",
       "      <th>0</th>\n",
       "      <td>0002-ORFBO</td>\n",
       "      <td>Female</td>\n",
       "      <td>0</td>\n",
       "      <td>Yes</td>\n",
       "      <td>Yes</td>\n",
       "      <td>9</td>\n",
       "      <td>One year</td>\n",
       "      <td>Yes</td>\n",
       "      <td>Mailed check</td>\n",
       "      <td>65.6</td>\n",
       "      <td>...</td>\n",
       "      <td>Yes</td>\n",
       "      <td>No</td>\n",
       "      <td>DSL</td>\n",
       "      <td>No</td>\n",
       "      <td>Yes</td>\n",
       "      <td>No</td>\n",
       "      <td>Yes</td>\n",
       "      <td>Yes</td>\n",
       "      <td>No</td>\n",
       "      <td>No\\r</td>\n",
       "    </tr>\n",
       "    <tr>\n",
       "      <th>1</th>\n",
       "      <td>0003-MKNFE</td>\n",
       "      <td>Male</td>\n",
       "      <td>0</td>\n",
       "      <td>No</td>\n",
       "      <td>No</td>\n",
       "      <td>9</td>\n",
       "      <td>Month-to-month</td>\n",
       "      <td>No</td>\n",
       "      <td>Mailed check</td>\n",
       "      <td>59.9</td>\n",
       "      <td>...</td>\n",
       "      <td>Yes</td>\n",
       "      <td>Yes</td>\n",
       "      <td>DSL</td>\n",
       "      <td>No</td>\n",
       "      <td>No</td>\n",
       "      <td>No</td>\n",
       "      <td>No</td>\n",
       "      <td>No</td>\n",
       "      <td>Yes</td>\n",
       "      <td>No\\r</td>\n",
       "    </tr>\n",
       "    <tr>\n",
       "      <th>2</th>\n",
       "      <td>0004-TLHLJ</td>\n",
       "      <td>Male</td>\n",
       "      <td>0</td>\n",
       "      <td>No</td>\n",
       "      <td>No</td>\n",
       "      <td>4</td>\n",
       "      <td>Month-to-month</td>\n",
       "      <td>Yes</td>\n",
       "      <td>Electronic check</td>\n",
       "      <td>73.9</td>\n",
       "      <td>...</td>\n",
       "      <td>Yes</td>\n",
       "      <td>No</td>\n",
       "      <td>Fiber optic</td>\n",
       "      <td>No</td>\n",
       "      <td>No</td>\n",
       "      <td>Yes</td>\n",
       "      <td>No</td>\n",
       "      <td>No</td>\n",
       "      <td>No</td>\n",
       "      <td>Yes</td>\n",
       "    </tr>\n",
       "    <tr>\n",
       "      <th>3</th>\n",
       "      <td>0011-IGKFF</td>\n",
       "      <td>Male</td>\n",
       "      <td>1</td>\n",
       "      <td>Yes</td>\n",
       "      <td>No</td>\n",
       "      <td>13</td>\n",
       "      <td>Month-to-month</td>\n",
       "      <td>Yes</td>\n",
       "      <td>Electronic check</td>\n",
       "      <td>98.0</td>\n",
       "      <td>...</td>\n",
       "      <td>Yes</td>\n",
       "      <td>No</td>\n",
       "      <td>Fiber optic</td>\n",
       "      <td>No</td>\n",
       "      <td>Yes</td>\n",
       "      <td>Yes</td>\n",
       "      <td>No</td>\n",
       "      <td>Yes</td>\n",
       "      <td>Yes</td>\n",
       "      <td>Yes</td>\n",
       "    </tr>\n",
       "    <tr>\n",
       "      <th>4</th>\n",
       "      <td>0013-EXCHZ</td>\n",
       "      <td>Female</td>\n",
       "      <td>1</td>\n",
       "      <td>Yes</td>\n",
       "      <td>No</td>\n",
       "      <td>3</td>\n",
       "      <td>Month-to-month</td>\n",
       "      <td>Yes</td>\n",
       "      <td>Mailed check</td>\n",
       "      <td>83.9</td>\n",
       "      <td>...</td>\n",
       "      <td>Yes</td>\n",
       "      <td>No</td>\n",
       "      <td>Fiber optic</td>\n",
       "      <td>No</td>\n",
       "      <td>No</td>\n",
       "      <td>No</td>\n",
       "      <td>Yes</td>\n",
       "      <td>Yes</td>\n",
       "      <td>No</td>\n",
       "      <td>Yes</td>\n",
       "    </tr>\n",
       "  </tbody>\n",
       "</table>\n",
       "<p>5 rows × 21 columns</p>\n",
       "</div>"
      ],
      "text/plain": [
       "   customerID  gender  SeniorCitizen Partner Dependents  tenure  \\\n",
       "0  0002-ORFBO  Female              0     Yes        Yes       9   \n",
       "1  0003-MKNFE    Male              0      No         No       9   \n",
       "2  0004-TLHLJ    Male              0      No         No       4   \n",
       "3  0011-IGKFF    Male              1     Yes         No      13   \n",
       "4  0013-EXCHZ  Female              1     Yes         No       3   \n",
       "\n",
       "         Contract PaperlessBilling     PaymentMethod  MonthlyCharges  ...  \\\n",
       "0        One year              Yes      Mailed check            65.6  ...   \n",
       "1  Month-to-month               No      Mailed check            59.9  ...   \n",
       "2  Month-to-month              Yes  Electronic check            73.9  ...   \n",
       "3  Month-to-month              Yes  Electronic check            98.0  ...   \n",
       "4  Month-to-month              Yes      Mailed check            83.9  ...   \n",
       "\n",
       "   PhoneService MultipleLines InternetService OnlineSecurity OnlineBackup  \\\n",
       "0           Yes            No             DSL             No          Yes   \n",
       "1           Yes           Yes             DSL             No           No   \n",
       "2           Yes            No     Fiber optic             No           No   \n",
       "3           Yes            No     Fiber optic             No          Yes   \n",
       "4           Yes            No     Fiber optic             No           No   \n",
       "\n",
       "  DeviceProtection TechSupport StreamingTV StreamingMovies Churn  \n",
       "0               No         Yes         Yes              No  No\\r  \n",
       "1               No          No          No             Yes  No\\r  \n",
       "2              Yes          No          No              No   Yes  \n",
       "3              Yes          No         Yes             Yes   Yes  \n",
       "4               No         Yes         Yes              No   Yes  \n",
       "\n",
       "[5 rows x 21 columns]"
      ]
     },
     "metadata": {},
     "output_type": "display_data"
    },
    {
     "name": "stdout",
     "output_type": "stream",
     "text": [
      "\n",
      "DataFrame Info:\n",
      "<class 'pandas.core.frame.DataFrame'>\n",
      "RangeIndex: 7043 entries, 0 to 7042\n",
      "Data columns (total 21 columns):\n",
      " #   Column            Non-Null Count  Dtype  \n",
      "---  ------            --------------  -----  \n",
      " 0   customerID        7043 non-null   object \n",
      " 1   gender            7043 non-null   object \n",
      " 2   SeniorCitizen     7043 non-null   int64  \n",
      " 3   Partner           7043 non-null   object \n",
      " 4   Dependents        7043 non-null   object \n",
      " 5   tenure            7043 non-null   int64  \n",
      " 6   Contract          7043 non-null   object \n",
      " 7   PaperlessBilling  7043 non-null   object \n",
      " 8   PaymentMethod     7043 non-null   object \n",
      " 9   MonthlyCharges    7043 non-null   float64\n",
      " 10  TotalCharges      7032 non-null   float64\n",
      " 11  PhoneService      7043 non-null   object \n",
      " 12  MultipleLines     7043 non-null   object \n",
      " 13  InternetService   7043 non-null   object \n",
      " 14  OnlineSecurity    7043 non-null   object \n",
      " 15  OnlineBackup      7043 non-null   object \n",
      " 16  DeviceProtection  7043 non-null   object \n",
      " 17  TechSupport       7043 non-null   object \n",
      " 18  StreamingTV       7043 non-null   object \n",
      " 19  StreamingMovies   7043 non-null   object \n",
      " 20  Churn             7043 non-null   object \n",
      "dtypes: float64(2), int64(2), object(17)\n",
      "memory usage: 1.1+ MB\n"
     ]
    }
   ],
   "source": [
    "# Check if the dataset is loaded properly\n",
    "if df is not None:\n",
    "    print(\"\\n--- Data Verification ---\")\n",
    "    \n",
    "    # Check the number of rows and columns loaded\n",
    "    # This should show approximately (7043, 21)\n",
    "    print(f\"The DataFrame has {df.shape[0]} rows and {df.shape[1]} columns.\")\n",
    "    \n",
    "    # Display the first 5 rows to see what the data looks like\n",
    "    print(\"\\nFirst 5 rows of the dataset:\")\n",
    "    display(df.head())\n",
    "    \n",
    "    # Display summary info to check for null values and data types\n",
    "    print(\"\\nDataFrame Info:\")\n",
    "    df.info()"
   ]
  },
  {
   "cell_type": "markdown",
   "id": "56bdc326",
   "metadata": {},
   "source": [
    "#### Initial Profiling"
   ]
  },
  {
   "cell_type": "code",
   "execution_count": 5,
   "id": "e2e93b2c",
   "metadata": {},
   "outputs": [
    {
     "data": {
      "application/vnd.microsoft.datawrangler.viewer.v0+json": {
       "columns": [
        {
         "name": "index",
         "rawType": "object",
         "type": "string"
        },
        {
         "name": "0",
         "rawType": "int64",
         "type": "integer"
        }
       ],
       "ref": "b09c9a4a-3cb0-410b-a097-47b1b02f4d28",
       "rows": [
        [
         "customerID",
         "0"
        ],
        [
         "gender",
         "0"
        ],
        [
         "SeniorCitizen",
         "0"
        ],
        [
         "Partner",
         "0"
        ],
        [
         "Dependents",
         "0"
        ],
        [
         "tenure",
         "0"
        ],
        [
         "Contract",
         "0"
        ],
        [
         "PaperlessBilling",
         "0"
        ],
        [
         "PaymentMethod",
         "0"
        ],
        [
         "MonthlyCharges",
         "0"
        ],
        [
         "TotalCharges",
         "11"
        ],
        [
         "PhoneService",
         "0"
        ],
        [
         "MultipleLines",
         "0"
        ],
        [
         "InternetService",
         "0"
        ],
        [
         "OnlineSecurity",
         "0"
        ],
        [
         "OnlineBackup",
         "0"
        ],
        [
         "DeviceProtection",
         "0"
        ],
        [
         "TechSupport",
         "0"
        ],
        [
         "StreamingTV",
         "0"
        ],
        [
         "StreamingMovies",
         "0"
        ],
        [
         "Churn",
         "0"
        ]
       ],
       "shape": {
        "columns": 1,
        "rows": 21
       }
      },
      "text/plain": [
       "customerID           0\n",
       "gender               0\n",
       "SeniorCitizen        0\n",
       "Partner              0\n",
       "Dependents           0\n",
       "tenure               0\n",
       "Contract             0\n",
       "PaperlessBilling     0\n",
       "PaymentMethod        0\n",
       "MonthlyCharges       0\n",
       "TotalCharges        11\n",
       "PhoneService         0\n",
       "MultipleLines        0\n",
       "InternetService      0\n",
       "OnlineSecurity       0\n",
       "OnlineBackup         0\n",
       "DeviceProtection     0\n",
       "TechSupport          0\n",
       "StreamingTV          0\n",
       "StreamingMovies      0\n",
       "Churn                0\n",
       "dtype: int64"
      ]
     },
     "execution_count": 5,
     "metadata": {},
     "output_type": "execute_result"
    }
   ],
   "source": [
    "missing_val = df.isna().sum()\n",
    "missing_val"
   ]
  },
  {
   "cell_type": "markdown",
   "id": "53d4452e",
   "metadata": {},
   "source": [
    "There's 11 missing values on TotalCharges column. We will drop the missing values."
   ]
  },
  {
   "cell_type": "code",
   "execution_count": 6,
   "id": "33001391",
   "metadata": {},
   "outputs": [
    {
     "name": "stdout",
     "output_type": "stream",
     "text": [
      "<class 'pandas.core.frame.DataFrame'>\n",
      "Index: 7032 entries, 0 to 7042\n",
      "Data columns (total 21 columns):\n",
      " #   Column            Non-Null Count  Dtype  \n",
      "---  ------            --------------  -----  \n",
      " 0   customerID        7032 non-null   object \n",
      " 1   gender            7032 non-null   object \n",
      " 2   SeniorCitizen     7032 non-null   int64  \n",
      " 3   Partner           7032 non-null   object \n",
      " 4   Dependents        7032 non-null   object \n",
      " 5   tenure            7032 non-null   int64  \n",
      " 6   Contract          7032 non-null   object \n",
      " 7   PaperlessBilling  7032 non-null   object \n",
      " 8   PaymentMethod     7032 non-null   object \n",
      " 9   MonthlyCharges    7032 non-null   float64\n",
      " 10  TotalCharges      7032 non-null   float64\n",
      " 11  PhoneService      7032 non-null   object \n",
      " 12  MultipleLines     7032 non-null   object \n",
      " 13  InternetService   7032 non-null   object \n",
      " 14  OnlineSecurity    7032 non-null   object \n",
      " 15  OnlineBackup      7032 non-null   object \n",
      " 16  DeviceProtection  7032 non-null   object \n",
      " 17  TechSupport       7032 non-null   object \n",
      " 18  StreamingTV       7032 non-null   object \n",
      " 19  StreamingMovies   7032 non-null   object \n",
      " 20  Churn             7032 non-null   object \n",
      "dtypes: float64(2), int64(2), object(17)\n",
      "memory usage: 1.2+ MB\n"
     ]
    }
   ],
   "source": [
    "df = df.dropna(axis=0)\n",
    "df.info()"
   ]
  },
  {
   "cell_type": "code",
   "execution_count": 7,
   "id": "070403ca",
   "metadata": {},
   "outputs": [
    {
     "data": {
      "text/plain": [
       "np.int64(0)"
      ]
     },
     "execution_count": 7,
     "metadata": {},
     "output_type": "execute_result"
    }
   ],
   "source": [
    "# Check duplicate\n",
    "df.duplicated().sum()"
   ]
  },
  {
   "cell_type": "markdown",
   "id": "3dc130c1",
   "metadata": {},
   "source": [
    "No duplicate found on the dataset."
   ]
  },
  {
   "cell_type": "markdown",
   "id": "e6307d70",
   "metadata": {},
   "source": [
    "#### Exploratory Data Analysis\n",
    "We will conduct:\n",
    "1. Check Customer's churn distribution\n",
    "2. Check customer's gender distribution\n",
    "3. Check customer's internet service type distribution\n",
    "4. Check customer's contract type\n",
    "5. Check customer's churn rate by Contract type\n",
    "6. Check customer's average MonthlyCharges for customers who churned vs. those who didn't\n",
    "7. Check customer's churn rate by Internet Service type\n",
    "\n",
    "Check customer's gender distribution"
   ]
  },
  {
   "cell_type": "code",
   "execution_count": 8,
   "id": "cae24ed1",
   "metadata": {},
   "outputs": [
    {
     "data": {
      "application/vnd.microsoft.datawrangler.viewer.v0+json": {
       "columns": [
        {
         "name": "index",
         "rawType": "int64",
         "type": "integer"
        },
        {
         "name": "Churn",
         "rawType": "object",
         "type": "string"
        },
        {
         "name": "Count of Churn",
         "rawType": "int64",
         "type": "integer"
        }
       ],
       "ref": "ee4a8da7-0825-482e-9dc0-47e9aad87684",
       "rows": [
        [
         "0",
         "No\r",
         "5163"
        ],
        [
         "1",
         "Yes",
         "1869"
        ]
       ],
       "shape": {
        "columns": 2,
        "rows": 2
       }
      },
      "text/html": [
       "<div>\n",
       "<style scoped>\n",
       "    .dataframe tbody tr th:only-of-type {\n",
       "        vertical-align: middle;\n",
       "    }\n",
       "\n",
       "    .dataframe tbody tr th {\n",
       "        vertical-align: top;\n",
       "    }\n",
       "\n",
       "    .dataframe thead th {\n",
       "        text-align: right;\n",
       "    }\n",
       "</style>\n",
       "<table border=\"1\" class=\"dataframe\">\n",
       "  <thead>\n",
       "    <tr style=\"text-align: right;\">\n",
       "      <th></th>\n",
       "      <th>Churn</th>\n",
       "      <th>Count of Churn</th>\n",
       "    </tr>\n",
       "  </thead>\n",
       "  <tbody>\n",
       "    <tr>\n",
       "      <th>0</th>\n",
       "      <td>No\\r</td>\n",
       "      <td>5163</td>\n",
       "    </tr>\n",
       "    <tr>\n",
       "      <th>1</th>\n",
       "      <td>Yes</td>\n",
       "      <td>1869</td>\n",
       "    </tr>\n",
       "  </tbody>\n",
       "</table>\n",
       "</div>"
      ],
      "text/plain": [
       "  Churn  Count of Churn\n",
       "0  No\\r            5163\n",
       "1   Yes            1869"
      ]
     },
     "execution_count": 8,
     "metadata": {},
     "output_type": "execute_result"
    }
   ],
   "source": [
    "cust_churn = df.groupby('Churn')[['Churn']].count()\n",
    "cust_churn = cust_churn.rename(columns={\n",
    "    'Churn' : 'Count of Churn'\n",
    "}).reset_index()\n",
    "cust_churn"
   ]
  },
  {
   "cell_type": "code",
   "execution_count": 9,
   "id": "76056c15",
   "metadata": {},
   "outputs": [
    {
     "name": "stderr",
     "output_type": "stream",
     "text": [
      ") missing from font(s) DejaVu Sans.pykernel_5692\\545732050.py:4: UserWarning: Glyph 13 (\n",
      "  plt.tight_layout()\n",
      ") missing from font(s) DejaVu Sans.\\site-packages\\IPython\\core\\pylabtools.py:170: UserWarning: Glyph 13 (\n",
      "  fig.canvas.print_figure(bytes_io, **kw)\n"
     ]
    },
    {
     "data": {
      "image/png": "[encoded data removed]",
      "text/plain": [
       "<Figure size 640x480 with 1 Axes>"
      ]
     },
     "metadata": {},
     "output_type": "display_data"
    }
   ],
   "source": [
    "# Customer's gender chart\n",
    "plt.pie(x='Count of Churn', labels='Churn', data=cust_churn, explode=[0.1, 0], autopct='%1.1f%%', startangle=140)\n",
    "plt.title(\"Customer's Churn\\n\", weight='bold')\n",
    "plt.tight_layout()\n",
    "plt.show()"
   ]
  },
  {
   "cell_type": "code",
   "execution_count": 10,
   "id": "a52df52b",
   "metadata": {},
   "outputs": [
    {
     "data": {
      "application/vnd.microsoft.datawrangler.viewer.v0+json": {
       "columns": [
        {
         "name": "index",
         "rawType": "int64",
         "type": "integer"
        },
        {
         "name": "gender",
         "rawType": "object",
         "type": "string"
        },
        {
         "name": "Count of gender",
         "rawType": "int64",
         "type": "integer"
        }
       ],
       "ref": "5405355e-b51b-4dca-a715-00b2b4320fec",
       "rows": [
        [
         "0",
         "Female",
         "3483"
        ],
        [
         "1",
         "Male",
         "3549"
        ]
       ],
       "shape": {
        "columns": 2,
        "rows": 2
       }
      },
      "text/html": [
       "<div>\n",
       "<style scoped>\n",
       "    .dataframe tbody tr th:only-of-type {\n",
       "        vertical-align: middle;\n",
       "    }\n",
       "\n",
       "    .dataframe tbody tr th {\n",
       "        vertical-align: top;\n",
       "    }\n",
       "\n",
       "    .dataframe thead th {\n",
       "        text-align: right;\n",
       "    }\n",
       "</style>\n",
       "<table border=\"1\" class=\"dataframe\">\n",
       "  <thead>\n",
       "    <tr style=\"text-align: right;\">\n",
       "      <th></th>\n",
       "      <th>gender</th>\n",
       "      <th>Count of gender</th>\n",
       "    </tr>\n",
       "  </thead>\n",
       "  <tbody>\n",
       "    <tr>\n",
       "      <th>0</th>\n",
       "      <td>Female</td>\n",
       "      <td>3483</td>\n",
       "    </tr>\n",
       "    <tr>\n",
       "      <th>1</th>\n",
       "      <td>Male</td>\n",
       "      <td>3549</td>\n",
       "    </tr>\n",
       "  </tbody>\n",
       "</table>\n",
       "</div>"
      ],
      "text/plain": [
       "   gender  Count of gender\n",
       "0  Female             3483\n",
       "1    Male             3549"
      ]
     },
     "execution_count": 10,
     "metadata": {},
     "output_type": "execute_result"
    }
   ],
   "source": [
    "# Gender distribution\n",
    "cust_gender = df.groupby('gender')[['gender']].count()\n",
    "cust_gender = cust_gender.rename(columns={\n",
    "    'gender' : 'Count of gender'\n",
    "}).reset_index()\n",
    "cust_gender"
   ]
  },
  {
   "cell_type": "code",
   "execution_count": 11,
   "id": "7b1613a6",
   "metadata": {},
   "outputs": [
    {
     "data": {
      "image/png": "[encoded data removed]",
      "text/plain": [
       "<Figure size 640x480 with 1 Axes>"
      ]
     },
     "metadata": {},
     "output_type": "display_data"
    }
   ],
   "source": [
    "# Customer's gender chart\n",
    "plt.pie(x='Count of gender', labels='gender', data=cust_gender, explode=[0.1, 0], autopct='%1.1f%%', startangle=140)\n",
    "plt.title(\"Customer's Gender\\n\", weight='bold')\n",
    "plt.tight_layout()\n",
    "plt.show()"
   ]
  },
  {
   "cell_type": "markdown",
   "id": "94edf0a0",
   "metadata": {},
   "source": [
    "Check customer's internet service type distribution"
   ]
  },
  {
   "cell_type": "code",
   "execution_count": 12,
   "id": "33e268bc",
   "metadata": {},
   "outputs": [
    {
     "data": {
      "application/vnd.microsoft.datawrangler.viewer.v0+json": {
       "columns": [
        {
         "name": "index",
         "rawType": "int64",
         "type": "integer"
        },
        {
         "name": "InternetService",
         "rawType": "object",
         "type": "string"
        },
        {
         "name": "Count of Internet Service",
         "rawType": "int64",
         "type": "integer"
        }
       ],
       "ref": "364249c4-384d-48e3-a4c1-1289f484e361",
       "rows": [
        [
         "0",
         "Fiber optic",
         "3096"
        ],
        [
         "1",
         "DSL",
         "2416"
        ],
        [
         "2",
         "No",
         "1520"
        ]
       ],
       "shape": {
        "columns": 2,
        "rows": 3
       }
      },
      "text/html": [
       "<div>\n",
       "<style scoped>\n",
       "    .dataframe tbody tr th:only-of-type {\n",
       "        vertical-align: middle;\n",
       "    }\n",
       "\n",
       "    .dataframe tbody tr th {\n",
       "        vertical-align: top;\n",
       "    }\n",
       "\n",
       "    .dataframe thead th {\n",
       "        text-align: right;\n",
       "    }\n",
       "</style>\n",
       "<table border=\"1\" class=\"dataframe\">\n",
       "  <thead>\n",
       "    <tr style=\"text-align: right;\">\n",
       "      <th></th>\n",
       "      <th>InternetService</th>\n",
       "      <th>Count of Internet Service</th>\n",
       "    </tr>\n",
       "  </thead>\n",
       "  <tbody>\n",
       "    <tr>\n",
       "      <th>0</th>\n",
       "      <td>Fiber optic</td>\n",
       "      <td>3096</td>\n",
       "    </tr>\n",
       "    <tr>\n",
       "      <th>1</th>\n",
       "      <td>DSL</td>\n",
       "      <td>2416</td>\n",
       "    </tr>\n",
       "    <tr>\n",
       "      <th>2</th>\n",
       "      <td>No</td>\n",
       "      <td>1520</td>\n",
       "    </tr>\n",
       "  </tbody>\n",
       "</table>\n",
       "</div>"
      ],
      "text/plain": [
       "  InternetService  Count of Internet Service\n",
       "0     Fiber optic                       3096\n",
       "1             DSL                       2416\n",
       "2              No                       1520"
      ]
     },
     "execution_count": 12,
     "metadata": {},
     "output_type": "execute_result"
    }
   ],
   "source": [
    "# Distribution of internet services\n",
    "internet_services = df.groupby('InternetService')[['InternetService']].count()\n",
    "internet_services = internet_services.rename(columns={\n",
    "    'InternetService' : 'Count of Internet Service'\n",
    "}).sort_values(by='Count of Internet Service', ascending=False).reset_index()\n",
    "internet_services"
   ]
  },
  {
   "cell_type": "code",
   "execution_count": 13,
   "id": "90cdcd15",
   "metadata": {},
   "outputs": [
    {
     "data": {
      "image/png": "[encoded data removed]",
      "text/plain": [
       "<Figure size 900x500 with 1 Axes>"
      ]
     },
     "metadata": {},
     "output_type": "display_data"
    }
   ],
   "source": [
    "# Distribution of internet services plot\n",
    "plt.figure(figsize=(9, 5))\n",
    "ax = sns.barplot(x='Count of Internet Service', y='InternetService', data=internet_services)\n",
    "\n",
    "# Add data labels\n",
    "for i in ax.patches:\n",
    "    ax.text(\n",
    "        i.get_width() + 1,              \n",
    "        i.get_y() + i.get_height() / 2,  \n",
    "        int(i.get_width()),               \n",
    "        ha='left', va='center'            \n",
    "    )\n",
    "\n",
    "# Add title, labels\n",
    "plt.title('Internet Service Distribution', weight='bold')\n",
    "plt.xlabel('Count')\n",
    "plt.ylabel('Internet Service')\n",
    "plt.tight_layout()\n",
    "plt.show()"
   ]
  },
  {
   "cell_type": "markdown",
   "id": "5f4421af",
   "metadata": {},
   "source": [
    "Check customer's contract type"
   ]
  },
  {
   "cell_type": "code",
   "execution_count": 14,
   "id": "b663d902",
   "metadata": {},
   "outputs": [
    {
     "data": {
      "application/vnd.microsoft.datawrangler.viewer.v0+json": {
       "columns": [
        {
         "name": "index",
         "rawType": "int64",
         "type": "integer"
        },
        {
         "name": "Contract",
         "rawType": "object",
         "type": "string"
        },
        {
         "name": "Count of Contract",
         "rawType": "int64",
         "type": "integer"
        }
       ],
       "ref": "4f713456-dc19-4daa-b7f1-e113368ccfa0",
       "rows": [
        [
         "0",
         "Month-to-month",
         "3875"
        ],
        [
         "1",
         "Two year",
         "1685"
        ],
        [
         "2",
         "One year",
         "1472"
        ]
       ],
       "shape": {
        "columns": 2,
        "rows": 3
       }
      },
      "text/html": [
       "<div>\n",
       "<style scoped>\n",
       "    .dataframe tbody tr th:only-of-type {\n",
       "        vertical-align: middle;\n",
       "    }\n",
       "\n",
       "    .dataframe tbody tr th {\n",
       "        vertical-align: top;\n",
       "    }\n",
       "\n",
       "    .dataframe thead th {\n",
       "        text-align: right;\n",
       "    }\n",
       "</style>\n",
       "<table border=\"1\" class=\"dataframe\">\n",
       "  <thead>\n",
       "    <tr style=\"text-align: right;\">\n",
       "      <th></th>\n",
       "      <th>Contract</th>\n",
       "      <th>Count of Contract</th>\n",
       "    </tr>\n",
       "  </thead>\n",
       "  <tbody>\n",
       "    <tr>\n",
       "      <th>0</th>\n",
       "      <td>Month-to-month</td>\n",
       "      <td>3875</td>\n",
       "    </tr>\n",
       "    <tr>\n",
       "      <th>1</th>\n",
       "      <td>Two year</td>\n",
       "      <td>1685</td>\n",
       "    </tr>\n",
       "    <tr>\n",
       "      <th>2</th>\n",
       "      <td>One year</td>\n",
       "      <td>1472</td>\n",
       "    </tr>\n",
       "  </tbody>\n",
       "</table>\n",
       "</div>"
      ],
      "text/plain": [
       "         Contract  Count of Contract\n",
       "0  Month-to-month               3875\n",
       "1        Two year               1685\n",
       "2        One year               1472"
      ]
     },
     "execution_count": 14,
     "metadata": {},
     "output_type": "execute_result"
    }
   ],
   "source": [
    "# Customers per contract type\n",
    "cust_contract = df.groupby('Contract')[['Contract']].count()\n",
    "cust_contract = cust_contract.rename(columns={\n",
    "    'Contract' : 'Count of Contract'\n",
    "}).sort_values(by='Count of Contract', ascending=False).reset_index()\n",
    "cust_contract"
   ]
  },
  {
   "cell_type": "code",
   "execution_count": 15,
   "id": "07fb9f75",
   "metadata": {},
   "outputs": [
    {
     "data": {
      "image/png": "[encoded data removed]",
      "text/plain": [
       "<Figure size 900x500 with 1 Axes>"
      ]
     },
     "metadata": {},
     "output_type": "display_data"
    }
   ],
   "source": [
    "# Customers per contract types plot\n",
    "plt.figure(figsize=(9, 5))\n",
    "ax = sns.barplot(x='Count of Contract', y='Contract', data=cust_contract)\n",
    "\n",
    "# Add data labels\n",
    "for i in ax.patches:\n",
    "    ax.text(\n",
    "        i.get_width() + 1,              \n",
    "        i.get_y() + i.get_height() / 2,  \n",
    "        int(i.get_width()),               \n",
    "        ha='left', va='center'            \n",
    "    )\n",
    "\n",
    "# Add title, labels\n",
    "plt.title('Contract Type Distribution', weight='bold')\n",
    "plt.xlabel('Count')\n",
    "plt.ylabel('Contract Type')\n",
    "plt.tight_layout()\n",
    "plt.show()"
   ]
  },
  {
   "cell_type": "markdown",
   "id": "692891a7",
   "metadata": {},
   "source": [
    "Check customer's churn rate by Contract type"
   ]
  },
  {
   "cell_type": "code",
   "execution_count": 16,
   "id": "fc065d62",
   "metadata": {},
   "outputs": [
    {
     "data": {
      "application/vnd.microsoft.datawrangler.viewer.v0+json": {
       "columns": [
        {
         "name": "index",
         "rawType": "int64",
         "type": "integer"
        },
        {
         "name": "Contract",
         "rawType": "object",
         "type": "string"
        },
        {
         "name": "total_customers",
         "rawType": "int64",
         "type": "integer"
        },
        {
         "name": "churned_customers",
         "rawType": "int64",
         "type": "integer"
        },
        {
         "name": "churn_rate_percent",
         "rawType": "float64",
         "type": "float"
        }
       ],
       "ref": "6ff23922-4b33-4e01-9a91-50874641debd",
       "rows": [
        [
         "0",
         "Month-to-month",
         "3875",
         "1655",
         "42.71"
        ],
        [
         "1",
         "One year",
         "1472",
         "166",
         "11.28"
        ],
        [
         "2",
         "Two year",
         "1685",
         "48",
         "2.85"
        ]
       ],
       "shape": {
        "columns": 4,
        "rows": 3
       }
      },
      "text/html": [
       "<div>\n",
       "<style scoped>\n",
       "    .dataframe tbody tr th:only-of-type {\n",
       "        vertical-align: middle;\n",
       "    }\n",
       "\n",
       "    .dataframe tbody tr th {\n",
       "        vertical-align: top;\n",
       "    }\n",
       "\n",
       "    .dataframe thead th {\n",
       "        text-align: right;\n",
       "    }\n",
       "</style>\n",
       "<table border=\"1\" class=\"dataframe\">\n",
       "  <thead>\n",
       "    <tr style=\"text-align: right;\">\n",
       "      <th></th>\n",
       "      <th>Contract</th>\n",
       "      <th>total_customers</th>\n",
       "      <th>churned_customers</th>\n",
       "      <th>churn_rate_percent</th>\n",
       "    </tr>\n",
       "  </thead>\n",
       "  <tbody>\n",
       "    <tr>\n",
       "      <th>0</th>\n",
       "      <td>Month-to-month</td>\n",
       "      <td>3875</td>\n",
       "      <td>1655</td>\n",
       "      <td>42.71</td>\n",
       "    </tr>\n",
       "    <tr>\n",
       "      <th>1</th>\n",
       "      <td>One year</td>\n",
       "      <td>1472</td>\n",
       "      <td>166</td>\n",
       "      <td>11.28</td>\n",
       "    </tr>\n",
       "    <tr>\n",
       "      <th>2</th>\n",
       "      <td>Two year</td>\n",
       "      <td>1685</td>\n",
       "      <td>48</td>\n",
       "      <td>2.85</td>\n",
       "    </tr>\n",
       "  </tbody>\n",
       "</table>\n",
       "</div>"
      ],
      "text/plain": [
       "         Contract  total_customers  churned_customers  churn_rate_percent\n",
       "0  Month-to-month             3875               1655               42.71\n",
       "1        One year             1472                166               11.28\n",
       "2        Two year             1685                 48                2.85"
      ]
     },
     "execution_count": 16,
     "metadata": {},
     "output_type": "execute_result"
    }
   ],
   "source": [
    "# Analyze the churn rate by Contract type\n",
    "churn_by_contract = (\n",
    "    df.groupby('Contract').agg(\n",
    "        total_customers=('customerID', 'count'),\n",
    "        churned_customers=('Churn', lambda x: (x == 'Yes').sum())\n",
    "    )\n",
    "    .assign(churn_rate_percent=lambda x: np.round(x['churned_customers'] * 100 / x['total_customers'], 2))\n",
    "    .sort_values('churn_rate_percent', ascending=False)\n",
    "    .reset_index()\n",
    ")\n",
    "\n",
    "churn_by_contract"
   ]
  },
  {
   "cell_type": "code",
   "execution_count": 17,
   "id": "91370b2a",
   "metadata": {},
   "outputs": [
    {
     "data": {
      "image/png": "[encoded data removed]",
      "text/plain": [
       "<Figure size 800x500 with 1 Axes>"
      ]
     },
     "metadata": {},
     "output_type": "display_data"
    }
   ],
   "source": [
    "# Churn rate by Contract type plot\n",
    "plt.figure(figsize=(8, 5))\n",
    "ax = sns.barplot(x='Contract', y='churn_rate_percent', data=churn_by_contract)\n",
    "\n",
    "# Add data labels\n",
    "for bar in ax.patches:\n",
    "    ax.text(\n",
    "        bar.get_x() + bar.get_width() / 2,\n",
    "        bar.get_height() + 1,\n",
    "        f\"{bar.get_height():.2f}%\",\n",
    "        ha='center', va='bottom'\n",
    "    )\n",
    "\n",
    "plt.title('Churn Rate by Contract Type', weight='bold')\n",
    "plt.ylabel('Churn Rate (%)')\n",
    "plt.xlabel('Contract Type')\n",
    "plt.ylim(0, max(churn_by_contract['churn_rate_percent']) + 5) \n",
    "plt.tight_layout()\n",
    "plt.show()"
   ]
  },
  {
   "cell_type": "markdown",
   "id": "0e005651",
   "metadata": {},
   "source": [
    "Check customer's average MonthlyCharges for customers who churned vs. those who didn't"
   ]
  },
  {
   "cell_type": "code",
   "execution_count": 18,
   "id": "6c36891d",
   "metadata": {},
   "outputs": [
    {
     "data": {
      "application/vnd.microsoft.datawrangler.viewer.v0+json": {
       "columns": [
        {
         "name": "index",
         "rawType": "int64",
         "type": "integer"
        },
        {
         "name": "Churn",
         "rawType": "object",
         "type": "string"
        },
        {
         "name": "MonthlyCharges",
         "rawType": "float64",
         "type": "float"
        }
       ],
       "ref": "c59b5a4a-9362-4667-ae21-55b5ea73aabb",
       "rows": [
        [
         "0",
         "No\r",
         "61.31"
        ],
        [
         "1",
         "Yes",
         "74.44"
        ]
       ],
       "shape": {
        "columns": 2,
        "rows": 2
       }
      },
      "text/html": [
       "<div>\n",
       "<style scoped>\n",
       "    .dataframe tbody tr th:only-of-type {\n",
       "        vertical-align: middle;\n",
       "    }\n",
       "\n",
       "    .dataframe tbody tr th {\n",
       "        vertical-align: top;\n",
       "    }\n",
       "\n",
       "    .dataframe thead th {\n",
       "        text-align: right;\n",
       "    }\n",
       "</style>\n",
       "<table border=\"1\" class=\"dataframe\">\n",
       "  <thead>\n",
       "    <tr style=\"text-align: right;\">\n",
       "      <th></th>\n",
       "      <th>Churn</th>\n",
       "      <th>MonthlyCharges</th>\n",
       "    </tr>\n",
       "  </thead>\n",
       "  <tbody>\n",
       "    <tr>\n",
       "      <th>0</th>\n",
       "      <td>No\\r</td>\n",
       "      <td>61.31</td>\n",
       "    </tr>\n",
       "    <tr>\n",
       "      <th>1</th>\n",
       "      <td>Yes</td>\n",
       "      <td>74.44</td>\n",
       "    </tr>\n",
       "  </tbody>\n",
       "</table>\n",
       "</div>"
      ],
      "text/plain": [
       "  Churn  MonthlyCharges\n",
       "0  No\\r           61.31\n",
       "1   Yes           74.44"
      ]
     },
     "execution_count": 18,
     "metadata": {},
     "output_type": "execute_result"
    }
   ],
   "source": [
    "#Investigate the average MonthlyCharges for customers who churned vs. those who didn't\n",
    "avg_monthlyCharges = df.groupby(['Churn'])[['MonthlyCharges']].mean().reset_index()\n",
    "avg_monthlyCharges['MonthlyCharges'] = np.round(avg_monthlyCharges['MonthlyCharges'], 2)\n",
    "avg_monthlyCharges"
   ]
  },
  {
   "cell_type": "markdown",
   "id": "d3ca0668",
   "metadata": {},
   "source": [
    "Check customer's churn rate by Internet Service type"
   ]
  },
  {
   "cell_type": "code",
   "execution_count": 19,
   "id": "0d402a40",
   "metadata": {},
   "outputs": [
    {
     "data": {
      "application/vnd.microsoft.datawrangler.viewer.v0+json": {
       "columns": [
        {
         "name": "index",
         "rawType": "int64",
         "type": "integer"
        },
        {
         "name": "InternetService",
         "rawType": "object",
         "type": "string"
        },
        {
         "name": "total_customers",
         "rawType": "int64",
         "type": "integer"
        },
        {
         "name": "churned_customers",
         "rawType": "int64",
         "type": "integer"
        },
        {
         "name": "churn_rate_percent",
         "rawType": "float64",
         "type": "float"
        }
       ],
       "ref": "38770124-40b4-4dc8-a33a-655ec1e6ad11",
       "rows": [
        [
         "0",
         "Fiber optic",
         "3096",
         "1297",
         "41.89"
        ],
        [
         "1",
         "DSL",
         "2416",
         "459",
         "19.0"
        ],
        [
         "2",
         "No",
         "1520",
         "113",
         "7.43"
        ]
       ],
       "shape": {
        "columns": 4,
        "rows": 3
       }
      },
      "text/html": [
       "<div>\n",
       "<style scoped>\n",
       "    .dataframe tbody tr th:only-of-type {\n",
       "        vertical-align: middle;\n",
       "    }\n",
       "\n",
       "    .dataframe tbody tr th {\n",
       "        vertical-align: top;\n",
       "    }\n",
       "\n",
       "    .dataframe thead th {\n",
       "        text-align: right;\n",
       "    }\n",
       "</style>\n",
       "<table border=\"1\" class=\"dataframe\">\n",
       "  <thead>\n",
       "    <tr style=\"text-align: right;\">\n",
       "      <th></th>\n",
       "      <th>InternetService</th>\n",
       "      <th>total_customers</th>\n",
       "      <th>churned_customers</th>\n",
       "      <th>churn_rate_percent</th>\n",
       "    </tr>\n",
       "  </thead>\n",
       "  <tbody>\n",
       "    <tr>\n",
       "      <th>0</th>\n",
       "      <td>Fiber optic</td>\n",
       "      <td>3096</td>\n",
       "      <td>1297</td>\n",
       "      <td>41.89</td>\n",
       "    </tr>\n",
       "    <tr>\n",
       "      <th>1</th>\n",
       "      <td>DSL</td>\n",
       "      <td>2416</td>\n",
       "      <td>459</td>\n",
       "      <td>19.00</td>\n",
       "    </tr>\n",
       "    <tr>\n",
       "      <th>2</th>\n",
       "      <td>No</td>\n",
       "      <td>1520</td>\n",
       "      <td>113</td>\n",
       "      <td>7.43</td>\n",
       "    </tr>\n",
       "  </tbody>\n",
       "</table>\n",
       "</div>"
      ],
      "text/plain": [
       "  InternetService  total_customers  churned_customers  churn_rate_percent\n",
       "0     Fiber optic             3096               1297               41.89\n",
       "1             DSL             2416                459               19.00\n",
       "2              No             1520                113                7.43"
      ]
     },
     "execution_count": 19,
     "metadata": {},
     "output_type": "execute_result"
    }
   ],
   "source": [
    "# Analyze the churn rate by Internet Service type\n",
    "churn_by_serviceType = (\n",
    "    df.groupby('InternetService').agg(\n",
    "        total_customers=('customerID', 'count'),\n",
    "        churned_customers=('Churn', lambda x: (x == 'Yes').sum())\n",
    "    )\n",
    "    .assign(churn_rate_percent=lambda x: np.round(x['churned_customers'] * 100 / x['total_customers'], 2))\n",
    "    .sort_values('churn_rate_percent', ascending=False)\n",
    "    .reset_index()\n",
    ")\n",
    "churn_by_serviceType"
   ]
  },
  {
   "cell_type": "code",
   "execution_count": 20,
   "id": "5b33794c",
   "metadata": {},
   "outputs": [
    {
     "data": {
      "image/png": "[encoded data removed]",
      "text/plain": [
       "<Figure size 800x500 with 1 Axes>"
      ]
     },
     "metadata": {},
     "output_type": "display_data"
    }
   ],
   "source": [
    "# Churn rate by Internet Service type Plot\n",
    "plt.figure(figsize=(8, 5))\n",
    "ax = sns.barplot(x='InternetService', y='churn_rate_percent', data=churn_by_serviceType)\n",
    "\n",
    "# Add data labels\n",
    "for bar in ax.patches:\n",
    "    ax.text(\n",
    "        bar.get_x() + bar.get_width() / 2,\n",
    "        bar.get_height() + 1,\n",
    "        f\"{bar.get_height():.2f}%\",\n",
    "        ha='center', va='bottom'\n",
    "    )\n",
    "\n",
    "plt.title('Churn Rate by InternetService', weight='bold')\n",
    "plt.ylabel('Churn Rate (%)')\n",
    "plt.xlabel('Contract Type')\n",
    "plt.ylim(0, max(churn_by_serviceType['churn_rate_percent']) + 5)\n",
    "plt.tight_layout()\n",
    "plt.show()"
   ]
  },
  {
   "cell_type": "markdown",
   "id": "0a469801",
   "metadata": {},
   "source": [
    "---\n",
    "\n",
    "#### Data Pre-processing\n",
    "\n",
    "We will conduct:\n",
    "- Handle any remaining missing values (If there's any)\n",
    "- Encode categorical variables\n",
    "- Scale numerical features\n",
    "\n",
    "Handle any remaining missing values (If there's any)"
   ]
  },
  {
   "cell_type": "code",
   "execution_count": 21,
   "id": "211aca46",
   "metadata": {},
   "outputs": [
    {
     "data": {
      "application/vnd.microsoft.datawrangler.viewer.v0+json": {
       "columns": [
        {
         "name": "index",
         "rawType": "object",
         "type": "string"
        },
        {
         "name": "0",
         "rawType": "int64",
         "type": "integer"
        }
       ],
       "ref": "1bb49668-26e1-470a-b66e-07532fbb5fe2",
       "rows": [
        [
         "customerID",
         "0"
        ],
        [
         "gender",
         "0"
        ],
        [
         "SeniorCitizen",
         "0"
        ],
        [
         "Partner",
         "0"
        ],
        [
         "Dependents",
         "0"
        ],
        [
         "tenure",
         "0"
        ],
        [
         "Contract",
         "0"
        ],
        [
         "PaperlessBilling",
         "0"
        ],
        [
         "PaymentMethod",
         "0"
        ],
        [
         "MonthlyCharges",
         "0"
        ],
        [
         "TotalCharges",
         "0"
        ],
        [
         "PhoneService",
         "0"
        ],
        [
         "MultipleLines",
         "0"
        ],
        [
         "InternetService",
         "0"
        ],
        [
         "OnlineSecurity",
         "0"
        ],
        [
         "OnlineBackup",
         "0"
        ],
        [
         "DeviceProtection",
         "0"
        ],
        [
         "TechSupport",
         "0"
        ],
        [
         "StreamingTV",
         "0"
        ],
        [
         "StreamingMovies",
         "0"
        ],
        [
         "Churn",
         "0"
        ]
       ],
       "shape": {
        "columns": 1,
        "rows": 21
       }
      },
      "text/plain": [
       "customerID          0\n",
       "gender              0\n",
       "SeniorCitizen       0\n",
       "Partner             0\n",
       "Dependents          0\n",
       "tenure              0\n",
       "Contract            0\n",
       "PaperlessBilling    0\n",
       "PaymentMethod       0\n",
       "MonthlyCharges      0\n",
       "TotalCharges        0\n",
       "PhoneService        0\n",
       "MultipleLines       0\n",
       "InternetService     0\n",
       "OnlineSecurity      0\n",
       "OnlineBackup        0\n",
       "DeviceProtection    0\n",
       "TechSupport         0\n",
       "StreamingTV         0\n",
       "StreamingMovies     0\n",
       "Churn               0\n",
       "dtype: int64"
      ]
     },
     "execution_count": 21,
     "metadata": {},
     "output_type": "execute_result"
    }
   ],
   "source": [
    "# Check if there are any extra missing values\n",
    "df.isnull().sum()"
   ]
  },
  {
   "cell_type": "markdown",
   "id": "7ebbcb00",
   "metadata": {},
   "source": [
    "No remaining/extra missing values on the dataset.\n",
    "\n",
    "Encoding"
   ]
  },
  {
   "cell_type": "code",
   "execution_count": 22,
   "id": "ca40f990",
   "metadata": {},
   "outputs": [
    {
     "name": "stdout",
     "output_type": "stream",
     "text": [
      "<class 'pandas.core.frame.DataFrame'>\n",
      "Index: 7032 entries, 0 to 7042\n",
      "Data columns (total 21 columns):\n",
      " #   Column            Non-Null Count  Dtype  \n",
      "---  ------            --------------  -----  \n",
      " 0   customerID        7032 non-null   object \n",
      " 1   gender            7032 non-null   object \n",
      " 2   SeniorCitizen     7032 non-null   int64  \n",
      " 3   Partner           7032 non-null   object \n",
      " 4   Dependents        7032 non-null   object \n",
      " 5   tenure            7032 non-null   int64  \n",
      " 6   Contract          7032 non-null   object \n",
      " 7   PaperlessBilling  7032 non-null   object \n",
      " 8   PaymentMethod     7032 non-null   object \n",
      " 9   MonthlyCharges    7032 non-null   float64\n",
      " 10  TotalCharges      7032 non-null   float64\n",
      " 11  PhoneService      7032 non-null   object \n",
      " 12  MultipleLines     7032 non-null   object \n",
      " 13  InternetService   7032 non-null   object \n",
      " 14  OnlineSecurity    7032 non-null   object \n",
      " 15  OnlineBackup      7032 non-null   object \n",
      " 16  DeviceProtection  7032 non-null   object \n",
      " 17  TechSupport       7032 non-null   object \n",
      " 18  StreamingTV       7032 non-null   object \n",
      " 19  StreamingMovies   7032 non-null   object \n",
      " 20  Churn             7032 non-null   object \n",
      "dtypes: float64(2), int64(2), object(17)\n",
      "memory usage: 1.2+ MB\n"
     ]
    }
   ],
   "source": [
    "# Check columns information\n",
    "df.info()"
   ]
  },
  {
   "cell_type": "code",
   "execution_count": 23,
   "id": "444f7728",
   "metadata": {},
   "outputs": [
    {
     "data": {
      "application/vnd.microsoft.datawrangler.viewer.v0+json": {
       "columns": [
        {
         "name": "index",
         "rawType": "int64",
         "type": "integer"
        },
        {
         "name": "customerID",
         "rawType": "object",
         "type": "string"
        },
        {
         "name": "gender",
         "rawType": "object",
         "type": "string"
        },
        {
         "name": "SeniorCitizen",
         "rawType": "int64",
         "type": "integer"
        },
        {
         "name": "Partner",
         "rawType": "object",
         "type": "string"
        },
        {
         "name": "Dependents",
         "rawType": "object",
         "type": "string"
        },
        {
         "name": "tenure",
         "rawType": "int64",
         "type": "integer"
        },
        {
         "name": "Contract",
         "rawType": "object",
         "type": "string"
        },
        {
         "name": "PaperlessBilling",
         "rawType": "object",
         "type": "string"
        },
        {
         "name": "PaymentMethod",
         "rawType": "object",
         "type": "string"
        },
        {
         "name": "MonthlyCharges",
         "rawType": "float64",
         "type": "float"
        },
        {
         "name": "TotalCharges",
         "rawType": "float64",
         "type": "float"
        },
        {
         "name": "PhoneService",
         "rawType": "object",
         "type": "string"
        },
        {
         "name": "MultipleLines",
         "rawType": "object",
         "type": "string"
        },
        {
         "name": "InternetService",
         "rawType": "object",
         "type": "string"
        },
        {
         "name": "OnlineSecurity",
         "rawType": "object",
         "type": "string"
        },
        {
         "name": "OnlineBackup",
         "rawType": "object",
         "type": "string"
        },
        {
         "name": "DeviceProtection",
         "rawType": "object",
         "type": "string"
        },
        {
         "name": "TechSupport",
         "rawType": "object",
         "type": "string"
        },
        {
         "name": "StreamingTV",
         "rawType": "object",
         "type": "string"
        },
        {
         "name": "StreamingMovies",
         "rawType": "object",
         "type": "string"
        },
        {
         "name": "Churn",
         "rawType": "object",
         "type": "string"
        }
       ],
       "ref": "01e795f9-cb74-40ee-866f-2d76c0d1d841",
       "rows": [
        [
         "0",
         "0002-ORFBO",
         "Female",
         "0",
         "Yes",
         "Yes",
         "9",
         "One year",
         "Yes",
         "Mailed check",
         "65.6",
         "593.3",
         "Yes",
         "No",
         "DSL",
         "No",
         "Yes",
         "No",
         "Yes",
         "Yes",
         "No",
         "No\r"
        ],
        [
         "1",
         "0003-MKNFE",
         "Male",
         "0",
         "No",
         "No",
         "9",
         "Month-to-month",
         "No",
         "Mailed check",
         "59.9",
         "542.4",
         "Yes",
         "Yes",
         "DSL",
         "No",
         "No",
         "No",
         "No",
         "No",
         "Yes",
         "No\r"
        ],
        [
         "2",
         "0004-TLHLJ",
         "Male",
         "0",
         "No",
         "No",
         "4",
         "Month-to-month",
         "Yes",
         "Electronic check",
         "73.9",
         "280.85",
         "Yes",
         "No",
         "Fiber optic",
         "No",
         "No",
         "Yes",
         "No",
         "No",
         "No",
         "Yes"
        ],
        [
         "3",
         "0011-IGKFF",
         "Male",
         "1",
         "Yes",
         "No",
         "13",
         "Month-to-month",
         "Yes",
         "Electronic check",
         "98.0",
         "1237.85",
         "Yes",
         "No",
         "Fiber optic",
         "No",
         "Yes",
         "Yes",
         "No",
         "Yes",
         "Yes",
         "Yes"
        ],
        [
         "4",
         "0013-EXCHZ",
         "Female",
         "1",
         "Yes",
         "No",
         "3",
         "Month-to-month",
         "Yes",
         "Mailed check",
         "83.9",
         "267.4",
         "Yes",
         "No",
         "Fiber optic",
         "No",
         "No",
         "No",
         "Yes",
         "Yes",
         "No",
         "Yes"
        ]
       ],
       "shape": {
        "columns": 21,
        "rows": 5
       }
      },
      "text/html": [
       "<div>\n",
       "<style scoped>\n",
       "    .dataframe tbody tr th:only-of-type {\n",
       "        vertical-align: middle;\n",
       "    }\n",
       "\n",
       "    .dataframe tbody tr th {\n",
       "        vertical-align: top;\n",
       "    }\n",
       "\n",
       "    .dataframe thead th {\n",
       "        text-align: right;\n",
       "    }\n",
       "</style>\n",
       "<table border=\"1\" class=\"dataframe\">\n",
       "  <thead>\n",
       "    <tr style=\"text-align: right;\">\n",
       "      <th></th>\n",
       "      <th>customerID</th>\n",
       "      <th>gender</th>\n",
       "      <th>SeniorCitizen</th>\n",
       "      <th>Partner</th>\n",
       "      <th>Dependents</th>\n",
       "      <th>tenure</th>\n",
       "      <th>Contract</th>\n",
       "      <th>PaperlessBilling</th>\n",
       "      <th>PaymentMethod</th>\n",
       "      <th>MonthlyCharges</th>\n",
       "      <th>...</th>\n",
       "      <th>PhoneService</th>\n",
       "      <th>MultipleLines</th>\n",
       "      <th>InternetService</th>\n",
       "      <th>OnlineSecurity</th>\n",
       "      <th>OnlineBackup</th>\n",
       "      <th>DeviceProtection</th>\n",
       "      <th>TechSupport</th>\n",
       "      <th>StreamingTV</th>\n",
       "      <th>StreamingMovies</th>\n",
       "      <th>Churn</th>\n",
       "    </tr>\n",
       "  </thead>\n",
       "  <tbody>\n",
       "    <tr>\n",
       "      <th>0</th>\n",
       "      <td>0002-ORFBO</td>\n",
       "      <td>Female</td>\n",
       "      <td>0</td>\n",
       "      <td>Yes</td>\n",
       "      <td>Yes</td>\n",
       "      <td>9</td>\n",
       "      <td>One year</td>\n",
       "      <td>Yes</td>\n",
       "      <td>Mailed check</td>\n",
       "      <td>65.6</td>\n",
       "      <td>...</td>\n",
       "      <td>Yes</td>\n",
       "      <td>No</td>\n",
       "      <td>DSL</td>\n",
       "      <td>No</td>\n",
       "      <td>Yes</td>\n",
       "      <td>No</td>\n",
       "      <td>Yes</td>\n",
       "      <td>Yes</td>\n",
       "      <td>No</td>\n",
       "      <td>No\\r</td>\n",
       "    </tr>\n",
       "    <tr>\n",
       "      <th>1</th>\n",
       "      <td>0003-MKNFE</td>\n",
       "      <td>Male</td>\n",
       "      <td>0</td>\n",
       "      <td>No</td>\n",
       "      <td>No</td>\n",
       "      <td>9</td>\n",
       "      <td>Month-to-month</td>\n",
       "      <td>No</td>\n",
       "      <td>Mailed check</td>\n",
       "      <td>59.9</td>\n",
       "      <td>...</td>\n",
       "      <td>Yes</td>\n",
       "      <td>Yes</td>\n",
       "      <td>DSL</td>\n",
       "      <td>No</td>\n",
       "      <td>No</td>\n",
       "      <td>No</td>\n",
       "      <td>No</td>\n",
       "      <td>No</td>\n",
       "      <td>Yes</td>\n",
       "      <td>No\\r</td>\n",
       "    </tr>\n",
       "    <tr>\n",
       "      <th>2</th>\n",
       "      <td>0004-TLHLJ</td>\n",
       "      <td>Male</td>\n",
       "      <td>0</td>\n",
       "      <td>No</td>\n",
       "      <td>No</td>\n",
       "      <td>4</td>\n",
       "      <td>Month-to-month</td>\n",
       "      <td>Yes</td>\n",
       "      <td>Electronic check</td>\n",
       "      <td>73.9</td>\n",
       "      <td>...</td>\n",
       "      <td>Yes</td>\n",
       "      <td>No</td>\n",
       "      <td>Fiber optic</td>\n",
       "      <td>No</td>\n",
       "      <td>No</td>\n",
       "      <td>Yes</td>\n",
       "      <td>No</td>\n",
       "      <td>No</td>\n",
       "      <td>No</td>\n",
       "      <td>Yes</td>\n",
       "    </tr>\n",
       "    <tr>\n",
       "      <th>3</th>\n",
       "      <td>0011-IGKFF</td>\n",
       "      <td>Male</td>\n",
       "      <td>1</td>\n",
       "      <td>Yes</td>\n",
       "      <td>No</td>\n",
       "      <td>13</td>\n",
       "      <td>Month-to-month</td>\n",
       "      <td>Yes</td>\n",
       "      <td>Electronic check</td>\n",
       "      <td>98.0</td>\n",
       "      <td>...</td>\n",
       "      <td>Yes</td>\n",
       "      <td>No</td>\n",
       "      <td>Fiber optic</td>\n",
       "      <td>No</td>\n",
       "      <td>Yes</td>\n",
       "      <td>Yes</td>\n",
       "      <td>No</td>\n",
       "      <td>Yes</td>\n",
       "      <td>Yes</td>\n",
       "      <td>Yes</td>\n",
       "    </tr>\n",
       "    <tr>\n",
       "      <th>4</th>\n",
       "      <td>0013-EXCHZ</td>\n",
       "      <td>Female</td>\n",
       "      <td>1</td>\n",
       "      <td>Yes</td>\n",
       "      <td>No</td>\n",
       "      <td>3</td>\n",
       "      <td>Month-to-month</td>\n",
       "      <td>Yes</td>\n",
       "      <td>Mailed check</td>\n",
       "      <td>83.9</td>\n",
       "      <td>...</td>\n",
       "      <td>Yes</td>\n",
       "      <td>No</td>\n",
       "      <td>Fiber optic</td>\n",
       "      <td>No</td>\n",
       "      <td>No</td>\n",
       "      <td>No</td>\n",
       "      <td>Yes</td>\n",
       "      <td>Yes</td>\n",
       "      <td>No</td>\n",
       "      <td>Yes</td>\n",
       "    </tr>\n",
       "  </tbody>\n",
       "</table>\n",
       "<p>5 rows × 21 columns</p>\n",
       "</div>"
      ],
      "text/plain": [
       "   customerID  gender  SeniorCitizen Partner Dependents  tenure  \\\n",
       "0  0002-ORFBO  Female              0     Yes        Yes       9   \n",
       "1  0003-MKNFE    Male              0      No         No       9   \n",
       "2  0004-TLHLJ    Male              0      No         No       4   \n",
       "3  0011-IGKFF    Male              1     Yes         No      13   \n",
       "4  0013-EXCHZ  Female              1     Yes         No       3   \n",
       "\n",
       "         Contract PaperlessBilling     PaymentMethod  MonthlyCharges  ...  \\\n",
       "0        One year              Yes      Mailed check            65.6  ...   \n",
       "1  Month-to-month               No      Mailed check            59.9  ...   \n",
       "2  Month-to-month              Yes  Electronic check            73.9  ...   \n",
       "3  Month-to-month              Yes  Electronic check            98.0  ...   \n",
       "4  Month-to-month              Yes      Mailed check            83.9  ...   \n",
       "\n",
       "   PhoneService MultipleLines InternetService OnlineSecurity OnlineBackup  \\\n",
       "0           Yes            No             DSL             No          Yes   \n",
       "1           Yes           Yes             DSL             No           No   \n",
       "2           Yes            No     Fiber optic             No           No   \n",
       "3           Yes            No     Fiber optic             No          Yes   \n",
       "4           Yes            No     Fiber optic             No           No   \n",
       "\n",
       "  DeviceProtection TechSupport StreamingTV StreamingMovies Churn  \n",
       "0               No         Yes         Yes              No  No\\r  \n",
       "1               No          No          No             Yes  No\\r  \n",
       "2              Yes          No          No              No   Yes  \n",
       "3              Yes          No         Yes             Yes   Yes  \n",
       "4               No         Yes         Yes              No   Yes  \n",
       "\n",
       "[5 rows x 21 columns]"
      ]
     },
     "execution_count": 23,
     "metadata": {},
     "output_type": "execute_result"
    }
   ],
   "source": [
    "# Check the dataset\n",
    "df.head()"
   ]
  },
  {
   "cell_type": "markdown",
   "id": "371fdba0",
   "metadata": {},
   "source": [
    "We can drop CustomerID column. We will encode the columns that consist of 'Yes' and 'No' values to 0 for No and 1 for Yes. The 'Contract', 'PaymentMethod', 'InternetService', using OneHot Encoder."
   ]
  },
  {
   "cell_type": "code",
   "execution_count": null,
   "id": "67c28a3d",
   "metadata": {},
   "outputs": [],
   "source": [
    "# Pre-process function\n",
    "def preprocess_telco(df, scale_numeric=True):\n",
    "    df = df.copy()\n",
    "\n",
    "    # 1. Drop customerID Column\n",
    "    if 'customerID' in df.columns:\n",
    "        df.drop('customerID', axis=1, inplace=True)\n",
    "\n",
    "    # 2. Convert TotalCharges to numerical\n",
    "    df['TotalCharges'] = pd.to_numeric(df['TotalCharges'], errors='coerce')\n",
    "    df['TotalCharges'].fillna(0, inplace=True)\n",
    "\n",
    "    # 3. Encode target 'Churn'\n",
    "    if df['Churn'].dtype == 'object':\n",
    "        df['Churn'] = df['Churn'].map({'Yes': 1, 'No': 0})\n",
    "\n",
    "    # 4. Feature engineering: TotalSpent\n",
    "    df['TotalSpent'] = df['MonthlyCharges'] * df['tenure']\n",
    "\n",
    "    # 5. Encode binary 'Yes/No' columns to 1/0\n",
    "    binary_cols = ['Partner', 'Dependents', 'PhoneService', 'PaperlessBilling']\n",
    "    for col in binary_cols:\n",
    "        if df[col].dtype == 'object':\n",
    "            df[col] = df[col].map({'Yes': 1, 'No': 0})\n",
    "\n",
    "    # 6. One-hot encoding other categorical columns\n",
    "    cat_cols = [\n",
    "        'gender', 'MultipleLines', 'InternetService', 'OnlineSecurity',\n",
    "        'OnlineBackup', 'DeviceProtection', 'TechSupport',\n",
    "        'StreamingTV', 'StreamingMovies', 'Contract', 'PaymentMethod'\n",
    "    ]\n",
    "\n",
    "    df = pd.get_dummies(df, columns=cat_cols, drop_first=True)\n",
    "\n",
    "    return df"
   ]
  },
  {
   "cell_type": "code",
   "execution_count": 28,
   "id": "5a65c1ba",
   "metadata": {},
   "outputs": [
    {
     "data": {
      "text/plain": [
       "<Axes: >"
      ]
     },
     "execution_count": 28,
     "metadata": {},
     "output_type": "execute_result"
    },
    {
     "data": {
      "image/png": "[encoded data removed]",
      "text/plain": [
       "<Figure size 640x480 with 2 Axes>"
      ]
     },
     "metadata": {},
     "output_type": "display_data"
    }
   ],
   "source": [
    "# Correlation analysis\n",
    "sns.heatmap(df.corr())"
   ]
  },
  {
   "cell_type": "markdown",
   "id": "dda66bdc",
   "metadata": {},
   "source": [
    "Feature Selection and Scaling feature"
   ]
  },
  {
   "cell_type": "code",
   "execution_count": null,
   "id": "06f114a6",
   "metadata": {},
   "outputs": [],
   "source": [
    "# Create new df copy\n",
    "df_clean = preprocess_telco(df)\n",
    "\n",
    "# Selected column\n",
    "selected_features = [\n",
    "    'tenure',\n",
    "    'MonthlyCharges',\n",
    "    'Contract_One year',\n",
    "    'Contract_Two year',\n",
    "    'InternetService_Fiber optic',\n",
    "    'OnlineSecurity',\n",
    "    'OnlineBackup',\n",
    "    'TechSupport',\n",
    "    'DeviceProtection',\n",
    "    'PaymentMethod_Electronic check',\n",
    "    'PaperlessBilling',\n",
    "    'SeniorCitizen',\n",
    "    'Partner',\n",
    "    'Dependents',\n",
    "    'StreamingTV',\n",
    "    'StreamingMovies'\n",
    "]\n",
    "\n",
    "X = df_clean[selected_features]\n",
    "y = df_clean['Churn']\n",
    "\n",
    "X_train, X_test, y_train, y_test = train_test_split(X, y, test_size=0.2, random_state=42)"
   ]
  },
  {
   "cell_type": "markdown",
   "id": "74f9865a",
   "metadata": {},
   "source": [
    "---\n",
    "#### Model Building\n",
    "1. Logistic Regression\n",
    "2. Decision Tree\n",
    "3. Random Forest\n",
    "4. XGBoost"
   ]
  },
  {
   "cell_type": "code",
   "execution_count": 30,
   "id": "523ce00b",
   "metadata": {},
   "outputs": [],
   "source": [
    "# Define search space\n",
    "def define_search_space(trial, model_name):\n",
    "    search_spaces = {\n",
    "        \"Logistic Regression\": lambda: {\n",
    "            \"C\": trial.suggest_float(\"C\", 1e-4, 1e2, log=True),\n",
    "            \"solver\": trial.suggest_categorical(\"solver\", [\"liblinear\", \"saga\"]),\n",
    "            \"max_iter\": trial.suggest_int(\"max_iter\", 500, 2000),\n",
    "        },\n",
    "        \"Decision Tree\": lambda: {\n",
    "            \"max_depth\": trial.suggest_int(\"max_depth\", 3, 20),\n",
    "            \"min_samples_split\": trial.suggest_int(\"min_samples_split\", 2, 32),\n",
    "            \"min_samples_leaf\": trial.suggest_int(\"min_samples_leaf\", 1, 32),\n",
    "            \"criterion\": trial.suggest_categorical(\"criterion\", [\"gini\", \"entropy\"]),\n",
    "        },\n",
    "        \"Random Forest\": lambda: {\n",
    "            \"n_estimators\": trial.suggest_int(\"n_estimators\", 50, 1000),\n",
    "            \"max_depth\": trial.suggest_int(\"max_depth\", 5, 50),\n",
    "            \"min_samples_split\": trial.suggest_int(\"min_samples_split\", 2, 16),\n",
    "            \"min_samples_leaf\": trial.suggest_int(\"min_samples_leaf\", 1, 16),\n",
    "        },\n",
    "        \"XGBoost\": lambda: {\n",
    "            \"n_estimators\": trial.suggest_int(\"n_estimators\", 50, 1000),\n",
    "            \"max_depth\": trial.suggest_int(\"max_depth\", 3, 10),\n",
    "            \"learning_rate\": trial.suggest_float(\"learning_rate\", 0.01, 0.3),\n",
    "            \"subsample\": trial.suggest_float(\"subsample\", 0.5, 1.0),\n",
    "            \"colsample_bytree\": trial.suggest_float(\"colsample_bytree\", 0.5, 1.0),\n",
    "        }\n",
    "    }\n",
    "\n",
    "    if model_name not in search_spaces:\n",
    "        raise ValueError(f\"No search space defined for model: {model_name}\")\n",
    "\n",
    "    return search_spaces[model_name]()"
   ]
  },
  {
   "cell_type": "code",
   "execution_count": 31,
   "id": "a3ea4bc7",
   "metadata": {},
   "outputs": [],
   "source": [
    "# Get fixed params\n",
    "def get_fixed_params(model_name):\n",
    "    fixed = {'random_state': 42}\n",
    "    if model_name in [\"Random Forest\", \"XGBoost\"]:\n",
    "        fixed['n_jobs'] = -1\n",
    "    if model_name == \"XGBoost\":\n",
    "        fixed['use_label_encoder'] = False\n",
    "        fixed['eval_metric'] = 'logloss'\n",
    "    return fixed"
   ]
  },
  {
   "cell_type": "code",
   "execution_count": 32,
   "id": "de2e9f93",
   "metadata": {},
   "outputs": [],
   "source": [
    "# Build Pipeline\n",
    "def build_pipeline(model_class, params):\n",
    "    model = model_class(**params)\n",
    "    return Pipeline([\n",
    "        ('scaler', StandardScaler()),\n",
    "        ('smote', SMOTE(random_state=42)),\n",
    "        ('classifier', model)\n",
    "    ])"
   ]
  },
  {
   "cell_type": "code",
   "execution_count": 33,
   "id": "69b8b37a",
   "metadata": {},
   "outputs": [],
   "source": [
    "# Objective Function\n",
    "def objective(trial, model_class, model_name):\n",
    "    params = define_search_space(trial, model_name)\n",
    "    params.update(get_fixed_params(model_name))\n",
    "\n",
    "    pipeline = build_pipeline(model_class, params)\n",
    "    score = cross_val_score(pipeline, X_train_raw, y_train, n_jobs=-1, cv=3, scoring='roc_auc')\n",
    "    return score.mean()"
   ]
  },
  {
   "cell_type": "code",
   "execution_count": 34,
   "id": "4ddaa67e",
   "metadata": {},
   "outputs": [],
   "source": [
    "# Evaluation metric\n",
    "def print_eval_report(model_name, y_test, y_pred, y_prob):\n",
    "    \"\"\"Prints the classification report and AUC-ROC score for a given model.\"\"\"\n",
    "    print(f\"--- Final Evaluation Results for: {model_name} (After Hyperparameter Tuning) ---\")\n",
    "    print(\"Classification Report:\")\n",
    "    print(classification_report(y_test, y_pred))\n",
    "    print(f\"AUC-ROC Score on Test Set: {roc_auc_score(y_test, y_prob):.4f}\")\n",
    "    print(\"=\" * 60 + \"\\n\")"
   ]
  },
  {
   "cell_type": "code",
   "execution_count": 35,
   "id": "d8b46c0b",
   "metadata": {},
   "outputs": [
    {
     "name": "stderr",
     "output_type": "stream",
     "text": [
      "[I 2025-06-19 11:22:38,524] A new study created in memory with name: no-name-8e20787d-0a05-4e7d-b82a-4593d1ebafb5\n"
     ]
    },
    {
     "name": "stdout",
     "output_type": "stream",
     "text": [
      "🔍 Tuning model: Logistic Regression\n"
     ]
    },
    {
     "name": "stderr",
     "output_type": "stream",
     "text": [
      "[I 2025-06-19 11:22:41,562] Trial 0 finished with value: 0.8404703805872966 and parameters: {'C': 1.1242830821603595, 'solver': 'saga', 'max_iter': 1658}. Best is trial 0 with value: 0.8404703805872966.\n",
      "[I 2025-06-19 11:22:43,656] Trial 1 finished with value: 0.8343272800200636 and parameters: {'C': 0.0002193291691417605, 'solver': 'saga', 'max_iter': 1217}. Best is trial 0 with value: 0.8404703805872966.\n",
      "[I 2025-06-19 11:22:45,577] Trial 2 finished with value: 0.840459222925387 and parameters: {'C': 10.147749045798413, 'solver': 'liblinear', 'max_iter': 1239}. Best is trial 0 with value: 0.8404703805872966.\n",
      "[I 2025-06-19 11:22:47,784] Trial 3 finished with value: 0.8333387448051363 and parameters: {'C': 0.00012872355545814738, 'solver': 'saga', 'max_iter': 1762}. Best is trial 0 with value: 0.8404703805872966.\n",
      "[I 2025-06-19 11:22:47,843] Trial 4 finished with value: 0.8404716045108694 and parameters: {'C': 2.1974025366253263, 'solver': 'saga', 'max_iter': 1712}. Best is trial 4 with value: 0.8404716045108694.\n",
      "[I 2025-06-19 11:22:47,888] Trial 5 finished with value: 0.8405502545252889 and parameters: {'C': 0.05150547576511394, 'solver': 'liblinear', 'max_iter': 1273}. Best is trial 5 with value: 0.8405502545252889.\n",
      "[I 2025-06-19 11:22:47,935] Trial 6 finished with value: 0.8331237338771401 and parameters: {'C': 0.00010965909497991051, 'solver': 'saga', 'max_iter': 1936}. Best is trial 5 with value: 0.8405502545252889.\n",
      "[I 2025-06-19 11:22:47,992] Trial 7 finished with value: 0.8404703805872966 and parameters: {'C': 1.0511020849029113, 'solver': 'saga', 'max_iter': 1936}. Best is trial 5 with value: 0.8405502545252889.\n",
      "[I 2025-06-19 11:22:48,038] Trial 8 finished with value: 0.8375935861903901 and parameters: {'C': 0.0009699572300544269, 'solver': 'saga', 'max_iter': 1424}. Best is trial 5 with value: 0.8405502545252889.\n",
      "[I 2025-06-19 11:22:48,094] Trial 9 finished with value: 0.8404577640379269 and parameters: {'C': 5.700233956761814, 'solver': 'saga', 'max_iter': 1038}. Best is trial 5 with value: 0.8405502545252889.\n",
      "[I 2025-06-19 11:22:48,140] Trial 10 finished with value: 0.8404689266724077 and parameters: {'C': 0.009211520260265126, 'solver': 'liblinear', 'max_iter': 509}. Best is trial 5 with value: 0.8405502545252889.\n",
      "[I 2025-06-19 11:22:48,184] Trial 11 finished with value: 0.8405466194272808 and parameters: {'C': 0.05392313539780976, 'solver': 'liblinear', 'max_iter': 836}. Best is trial 5 with value: 0.8405502545252889.\n",
      "[I 2025-06-19 11:22:48,228] Trial 12 finished with value: 0.8405738434983903 and parameters: {'C': 0.038112363976784705, 'solver': 'liblinear', 'max_iter': 815}. Best is trial 12 with value: 0.8405738434983903.\n",
      "[I 2025-06-19 11:22:48,272] Trial 13 finished with value: 0.8405709151567574 and parameters: {'C': 0.043496571484023146, 'solver': 'liblinear', 'max_iter': 813}. Best is trial 12 with value: 0.8405738434983903.\n",
      "[I 2025-06-19 11:22:48,316] Trial 14 finished with value: 0.8402080008807777 and parameters: {'C': 0.005799263245338484, 'solver': 'liblinear', 'max_iter': 714}. Best is trial 12 with value: 0.8405738434983903.\n",
      "[I 2025-06-19 11:22:48,360] Trial 15 finished with value: 0.8404800793617463 and parameters: {'C': 0.3318042891412169, 'solver': 'liblinear', 'max_iter': 919}. Best is trial 12 with value: 0.8405738434983903.\n",
      "[I 2025-06-19 11:22:48,404] Trial 16 finished with value: 0.8404616527469632 and parameters: {'C': 94.69793175077648, 'solver': 'liblinear', 'max_iter': 504}. Best is trial 12 with value: 0.8405738434983903.\n",
      "[I 2025-06-19 11:22:48,449] Trial 17 finished with value: 0.8404006660279576 and parameters: {'C': 0.007929941157143535, 'solver': 'liblinear', 'max_iter': 664}. Best is trial 12 with value: 0.8405738434983903.\n",
      "[I 2025-06-19 11:22:48,494] Trial 18 finished with value: 0.8405529286343225 and parameters: {'C': 0.10466690278482611, 'solver': 'liblinear', 'max_iter': 1050}. Best is trial 12 with value: 0.8405738434983903.\n",
      "[I 2025-06-19 11:22:48,549] Trial 19 finished with value: 0.8382130582976193 and parameters: {'C': 0.0013827148084461988, 'solver': 'liblinear', 'max_iter': 759}. Best is trial 12 with value: 0.8405738434983903.\n",
      "[I 2025-06-19 11:22:48,594] Trial 20 finished with value: 0.840505812223685 and parameters: {'C': 0.2015069629728722, 'solver': 'liblinear', 'max_iter': 981}. Best is trial 12 with value: 0.8405738434983903.\n",
      "[I 2025-06-19 11:22:48,639] Trial 21 finished with value: 0.84056728503132 and parameters: {'C': 0.028151634112430716, 'solver': 'liblinear', 'max_iter': 1118}. Best is trial 12 with value: 0.8405738434983903.\n",
      "[I 2025-06-19 11:22:48,695] Trial 22 finished with value: 0.8405315786504773 and parameters: {'C': 0.022512672625934777, 'solver': 'liblinear', 'max_iter': 1125}. Best is trial 12 with value: 0.8405738434983903.\n",
      "[I 2025-06-19 11:22:48,740] Trial 23 finished with value: 0.8379841975731103 and parameters: {'C': 0.0012460788039856657, 'solver': 'liblinear', 'max_iter': 911}. Best is trial 12 with value: 0.8405738434983903.\n",
      "[I 2025-06-19 11:22:48,786] Trial 24 finished with value: 0.840520407935569 and parameters: {'C': 0.02201689078063306, 'solver': 'liblinear', 'max_iter': 1464}. Best is trial 12 with value: 0.8405738434983903.\n"
     ]
    },
    {
     "name": "stdout",
     "output_type": "stream",
     "text": [
      "✅ Best Parameters for Logistic Regression: {'C': 0.038112363976784705, 'solver': 'liblinear', 'max_iter': 815, 'random_state': 42}\n"
     ]
    },
    {
     "name": "stderr",
     "output_type": "stream",
     "text": [
      "[I 2025-06-19 11:22:50,296] A new study created in memory with name: no-name-737a8d82-53f3-4382-be5e-b03a9470b573\n",
      "[I 2025-06-19 11:22:50,347] Trial 0 finished with value: 0.7972199888969113 and parameters: {'max_depth': 3, 'min_samples_split': 5, 'min_samples_leaf': 12, 'criterion': 'entropy'}. Best is trial 0 with value: 0.7972199888969113.\n",
      "[I 2025-06-19 11:22:50,393] Trial 1 finished with value: 0.8148743480047586 and parameters: {'max_depth': 13, 'min_samples_split': 16, 'min_samples_leaf': 26, 'criterion': 'gini'}. Best is trial 1 with value: 0.8148743480047586.\n",
      "[I 2025-06-19 11:22:50,434] Trial 2 finished with value: 0.7975943362107375 and parameters: {'max_depth': 3, 'min_samples_split': 5, 'min_samples_leaf': 29, 'criterion': 'gini'}. Best is trial 1 with value: 0.8148743480047586.\n"
     ]
    },
    {
     "name": "stdout",
     "output_type": "stream",
     "text": [
      "--- Final Evaluation Results for: Logistic Regression (After Hyperparameter Tuning) ---\n",
      "Classification Report:\n",
      "              precision    recall  f1-score   support\n",
      "\n",
      "           0       0.91      0.73      0.81      1033\n",
      "           1       0.51      0.79      0.62       374\n",
      "\n",
      "    accuracy                           0.75      1407\n",
      "   macro avg       0.71      0.76      0.72      1407\n",
      "weighted avg       0.80      0.75      0.76      1407\n",
      "\n",
      "AUC-ROC Score on Test Set: 0.8361\n",
      "============================================================\n",
      "\n",
      "🔍 Tuning model: Decision Tree\n"
     ]
    },
    {
     "name": "stderr",
     "output_type": "stream",
     "text": [
      "[I 2025-06-19 11:22:50,494] Trial 3 finished with value: 0.8029931890601731 and parameters: {'max_depth': 10, 'min_samples_split': 14, 'min_samples_leaf': 10, 'criterion': 'gini'}. Best is trial 1 with value: 0.8148743480047586.\n",
      "[I 2025-06-19 11:22:50,542] Trial 4 finished with value: 0.8173350712087762 and parameters: {'max_depth': 14, 'min_samples_split': 7, 'min_samples_leaf': 32, 'criterion': 'gini'}. Best is trial 4 with value: 0.8173350712087762.\n",
      "[I 2025-06-19 11:22:50,588] Trial 5 finished with value: 0.8055109123334857 and parameters: {'max_depth': 20, 'min_samples_split': 18, 'min_samples_leaf': 20, 'criterion': 'entropy'}. Best is trial 4 with value: 0.8173350712087762.\n",
      "[I 2025-06-19 11:22:50,635] Trial 6 finished with value: 0.8043055731292045 and parameters: {'max_depth': 18, 'min_samples_split': 29, 'min_samples_leaf': 19, 'criterion': 'gini'}. Best is trial 4 with value: 0.8173350712087762.\n",
      "[I 2025-06-19 11:22:50,681] Trial 7 finished with value: 0.8171889407012588 and parameters: {'max_depth': 7, 'min_samples_split': 29, 'min_samples_leaf': 21, 'criterion': 'gini'}. Best is trial 4 with value: 0.8173350712087762.\n",
      "[I 2025-06-19 11:22:50,718] Trial 8 finished with value: 0.7975943362107375 and parameters: {'max_depth': 3, 'min_samples_split': 19, 'min_samples_leaf': 12, 'criterion': 'gini'}. Best is trial 4 with value: 0.8173350712087762.\n",
      "[I 2025-06-19 11:22:50,755] Trial 9 finished with value: 0.8162432188808849 and parameters: {'max_depth': 4, 'min_samples_split': 22, 'min_samples_leaf': 7, 'criterion': 'gini'}. Best is trial 4 with value: 0.8173350712087762.\n",
      "[I 2025-06-19 11:22:50,813] Trial 10 finished with value: 0.8175797042896739 and parameters: {'max_depth': 15, 'min_samples_split': 9, 'min_samples_leaf': 32, 'criterion': 'entropy'}. Best is trial 10 with value: 0.8175797042896739.\n",
      "[I 2025-06-19 11:22:50,872] Trial 11 finished with value: 0.8175797042896739 and parameters: {'max_depth': 15, 'min_samples_split': 10, 'min_samples_leaf': 32, 'criterion': 'entropy'}. Best is trial 10 with value: 0.8175797042896739.\n",
      "[I 2025-06-19 11:22:50,931] Trial 12 finished with value: 0.8104054516583563 and parameters: {'max_depth': 16, 'min_samples_split': 10, 'min_samples_leaf': 26, 'criterion': 'entropy'}. Best is trial 10 with value: 0.8175797042896739.\n",
      "[I 2025-06-19 11:22:50,991] Trial 13 finished with value: 0.8172667723178648 and parameters: {'max_depth': 11, 'min_samples_split': 11, 'min_samples_leaf': 32, 'criterion': 'entropy'}. Best is trial 10 with value: 0.8175797042896739.\n",
      "[I 2025-06-19 11:22:51,060] Trial 14 finished with value: 0.7345701347323331 and parameters: {'max_depth': 16, 'min_samples_split': 2, 'min_samples_leaf': 3, 'criterion': 'entropy'}. Best is trial 10 with value: 0.8175797042896739.\n",
      "[I 2025-06-19 11:22:51,130] Trial 15 finished with value: 0.807734011943079 and parameters: {'max_depth': 15, 'min_samples_split': 10, 'min_samples_leaf': 24, 'criterion': 'entropy'}. Best is trial 10 with value: 0.8175797042896739.\n",
      "[I 2025-06-19 11:22:51,200] Trial 16 finished with value: 0.8155080796960595 and parameters: {'max_depth': 18, 'min_samples_split': 13, 'min_samples_leaf': 29, 'criterion': 'entropy'}. Best is trial 10 with value: 0.8175797042896739.\n",
      "[I 2025-06-19 11:22:51,260] Trial 17 finished with value: 0.8123958525420264 and parameters: {'max_depth': 9, 'min_samples_split': 23, 'min_samples_leaf': 15, 'criterion': 'entropy'}. Best is trial 10 with value: 0.8175797042896739.\n",
      "[I 2025-06-19 11:22:51,319] Trial 18 finished with value: 0.8168486770868495 and parameters: {'max_depth': 12, 'min_samples_split': 6, 'min_samples_leaf': 29, 'criterion': 'entropy'}. Best is trial 10 with value: 0.8175797042896739.\n",
      "[I 2025-06-19 11:22:51,378] Trial 19 finished with value: 0.8079223529209262 and parameters: {'max_depth': 18, 'min_samples_split': 10, 'min_samples_leaf': 23, 'criterion': 'entropy'}. Best is trial 10 with value: 0.8175797042896739.\n",
      "[I 2025-06-19 11:22:51,436] Trial 20 finished with value: 0.8159510804874381 and parameters: {'max_depth': 8, 'min_samples_split': 2, 'min_samples_leaf': 16, 'criterion': 'entropy'}. Best is trial 10 with value: 0.8175797042896739.\n",
      "[I 2025-06-19 11:22:51,496] Trial 21 finished with value: 0.8173350712087762 and parameters: {'max_depth': 14, 'min_samples_split': 8, 'min_samples_leaf': 32, 'criterion': 'gini'}. Best is trial 10 with value: 0.8175797042896739.\n",
      "[I 2025-06-19 11:22:51,557] Trial 22 finished with value: 0.8174316834647023 and parameters: {'max_depth': 14, 'min_samples_split': 7, 'min_samples_leaf': 32, 'criterion': 'entropy'}. Best is trial 10 with value: 0.8175797042896739.\n",
      "[I 2025-06-19 11:22:51,617] Trial 23 finished with value: 0.8130882465862145 and parameters: {'max_depth': 16, 'min_samples_split': 14, 'min_samples_leaf': 27, 'criterion': 'entropy'}. Best is trial 10 with value: 0.8175797042896739.\n",
      "[I 2025-06-19 11:22:51,677] Trial 24 finished with value: 0.8168486770868495 and parameters: {'max_depth': 12, 'min_samples_split': 4, 'min_samples_leaf': 29, 'criterion': 'entropy'}. Best is trial 10 with value: 0.8175797042896739.\n",
      "[I 2025-06-19 11:22:51,729] A new study created in memory with name: no-name-6c6a6c5c-9ccc-4cc9-a509-5601cc0ca117\n"
     ]
    },
    {
     "name": "stdout",
     "output_type": "stream",
     "text": [
      "✅ Best Parameters for Decision Tree: {'max_depth': 15, 'min_samples_split': 9, 'min_samples_leaf': 32, 'criterion': 'entropy', 'random_state': 42}\n",
      "--- Final Evaluation Results for: Decision Tree (After Hyperparameter Tuning) ---\n",
      "Classification Report:\n",
      "              precision    recall  f1-score   support\n",
      "\n",
      "           0       0.88      0.76      0.82      1033\n",
      "           1       0.52      0.72      0.61       374\n",
      "\n",
      "    accuracy                           0.75      1407\n",
      "   macro avg       0.70      0.74      0.71      1407\n",
      "weighted avg       0.79      0.75      0.76      1407\n",
      "\n",
      "AUC-ROC Score on Test Set: 0.8268\n",
      "============================================================\n",
      "\n",
      "🔍 Tuning model: Random Forest\n"
     ]
    },
    {
     "name": "stderr",
     "output_type": "stream",
     "text": [
      "[I 2025-06-19 11:22:52,355] Trial 0 finished with value: 0.8417570531890458 and parameters: {'n_estimators': 193, 'max_depth': 34, 'min_samples_split': 8, 'min_samples_leaf': 15}. Best is trial 0 with value: 0.8417570531890458.\n",
      "[I 2025-06-19 11:22:53,617] Trial 1 finished with value: 0.8417031181837217 and parameters: {'n_estimators': 422, 'max_depth': 39, 'min_samples_split': 15, 'min_samples_leaf': 13}. Best is trial 0 with value: 0.8417570531890458.\n",
      "[I 2025-06-19 11:22:56,570] Trial 2 finished with value: 0.8407038517246631 and parameters: {'n_estimators': 936, 'max_depth': 35, 'min_samples_split': 10, 'min_samples_leaf': 10}. Best is trial 0 with value: 0.8417570531890458.\n",
      "[I 2025-06-19 11:22:59,305] Trial 3 finished with value: 0.8366960904044737 and parameters: {'n_estimators': 948, 'max_depth': 41, 'min_samples_split': 13, 'min_samples_leaf': 3}. Best is trial 0 with value: 0.8417570531890458.\n",
      "[I 2025-06-19 11:23:00,152] Trial 4 finished with value: 0.8401684353353609 and parameters: {'n_estimators': 282, 'max_depth': 33, 'min_samples_split': 4, 'min_samples_leaf': 10}. Best is trial 0 with value: 0.8417570531890458.\n",
      "[I 2025-06-19 11:23:02,451] Trial 5 finished with value: 0.8369480614822221 and parameters: {'n_estimators': 755, 'max_depth': 19, 'min_samples_split': 14, 'min_samples_leaf': 3}. Best is trial 0 with value: 0.8417570531890458.\n",
      "[I 2025-06-19 11:23:03,968] Trial 6 finished with value: 0.8425978643991505 and parameters: {'n_estimators': 494, 'max_depth': 8, 'min_samples_split': 5, 'min_samples_leaf': 14}. Best is trial 6 with value: 0.8425978643991505.\n",
      "[I 2025-06-19 11:23:06,589] Trial 7 finished with value: 0.8417677496350916 and parameters: {'n_estimators': 865, 'max_depth': 18, 'min_samples_split': 5, 'min_samples_leaf': 13}. Best is trial 6 with value: 0.8425978643991505.\n",
      "[I 2025-06-19 11:23:09,442] Trial 8 finished with value: 0.834261454239139 and parameters: {'n_estimators': 926, 'max_depth': 31, 'min_samples_split': 2, 'min_samples_leaf': 3}. Best is trial 6 with value: 0.8425978643991505.\n",
      "[I 2025-06-19 11:23:10,573] Trial 9 finished with value: 0.841913970009227 and parameters: {'n_estimators': 384, 'max_depth': 30, 'min_samples_split': 11, 'min_samples_leaf': 15}. Best is trial 6 with value: 0.8425978643991505.\n",
      "[I 2025-06-19 11:23:12,354] Trial 10 finished with value: 0.8427613219517958 and parameters: {'n_estimators': 643, 'max_depth': 6, 'min_samples_split': 7, 'min_samples_leaf': 7}. Best is trial 10 with value: 0.8427613219517958.\n",
      "[I 2025-06-19 11:23:14,098] Trial 11 finished with value: 0.8419302980999714 and parameters: {'n_estimators': 628, 'max_depth': 5, 'min_samples_split': 7, 'min_samples_leaf': 6}. Best is trial 10 with value: 0.8427613219517958.\n",
      "[I 2025-06-19 11:23:15,650] Trial 12 finished with value: 0.841923803343966 and parameters: {'n_estimators': 562, 'max_depth': 5, 'min_samples_split': 6, 'min_samples_leaf': 7}. Best is trial 10 with value: 0.8427613219517958.\n",
      "[I 2025-06-19 11:23:17,613] Trial 13 finished with value: 0.8396087770221499 and parameters: {'n_estimators': 644, 'max_depth': 14, 'min_samples_split': 2, 'min_samples_leaf': 8}. Best is trial 10 with value: 0.8427613219517958.\n",
      "[I 2025-06-19 11:23:17,852] Trial 14 finished with value: 0.8404072064793695 and parameters: {'n_estimators': 55, 'max_depth': 11, 'min_samples_split': 9, 'min_samples_leaf': 11}. Best is trial 10 with value: 0.8427613219517958.\n",
      "[I 2025-06-19 11:23:20,180] Trial 15 finished with value: 0.8376699062049043 and parameters: {'n_estimators': 740, 'max_depth': 50, 'min_samples_split': 4, 'min_samples_leaf': 5}. Best is trial 10 with value: 0.8427613219517958.\n",
      "[I 2025-06-19 11:23:21,754] Trial 16 finished with value: 0.8272486105936334 and parameters: {'n_estimators': 438, 'max_depth': 24, 'min_samples_split': 7, 'min_samples_leaf': 1}. Best is trial 10 with value: 0.8427613219517958.\n",
      "[I 2025-06-19 11:23:23,297] Trial 17 finished with value: 0.8418110289370274 and parameters: {'n_estimators': 510, 'max_depth': 10, 'min_samples_split': 4, 'min_samples_leaf': 12}. Best is trial 10 with value: 0.8427613219517958.\n",
      "[I 2025-06-19 11:23:25,505] Trial 18 finished with value: 0.8421857731241701 and parameters: {'n_estimators': 755, 'max_depth': 23, 'min_samples_split': 12, 'min_samples_leaf': 16}. Best is trial 10 with value: 0.8427613219517958.\n",
      "[I 2025-06-19 11:23:26,591] Trial 19 finished with value: 0.8415280035167528 and parameters: {'n_estimators': 345, 'max_depth': 10, 'min_samples_split': 9, 'min_samples_leaf': 9}. Best is trial 10 with value: 0.8427613219517958.\n",
      "[I 2025-06-19 11:23:28,219] Trial 20 finished with value: 0.8376036800527314 and parameters: {'n_estimators': 513, 'max_depth': 16, 'min_samples_split': 6, 'min_samples_leaf': 5}. Best is trial 10 with value: 0.8427613219517958.\n",
      "[I 2025-06-19 11:23:30,646] Trial 21 finished with value: 0.8418872982240974 and parameters: {'n_estimators': 770, 'max_depth': 24, 'min_samples_split': 12, 'min_samples_leaf': 15}. Best is trial 10 with value: 0.8427613219517958.\n",
      "[I 2025-06-19 11:23:32,760] Trial 22 finished with value: 0.842189887162737 and parameters: {'n_estimators': 665, 'max_depth': 22, 'min_samples_split': 16, 'min_samples_leaf': 16}. Best is trial 10 with value: 0.8427613219517958.\n",
      "[I 2025-06-19 11:23:34,567] Trial 23 finished with value: 0.841790079245141 and parameters: {'n_estimators': 631, 'max_depth': 5, 'min_samples_split': 16, 'min_samples_leaf': 13}. Best is trial 10 with value: 0.8427613219517958.\n",
      "[I 2025-06-19 11:23:36,300] Trial 24 finished with value: 0.841993694449395 and parameters: {'n_estimators': 570, 'max_depth': 13, 'min_samples_split': 8, 'min_samples_leaf': 16}. Best is trial 10 with value: 0.8427613219517958.\n"
     ]
    },
    {
     "name": "stdout",
     "output_type": "stream",
     "text": [
      "✅ Best Parameters for Random Forest: {'n_estimators': 643, 'max_depth': 6, 'min_samples_split': 7, 'min_samples_leaf': 7, 'random_state': 42, 'n_jobs': -1}\n"
     ]
    },
    {
     "name": "stderr",
     "output_type": "stream",
     "text": [
      "[I 2025-06-19 11:23:38,011] A new study created in memory with name: no-name-f57a5a3b-7e82-4d93-9a98-37ed0fd305a9\n"
     ]
    },
    {
     "name": "stdout",
     "output_type": "stream",
     "text": [
      "--- Final Evaluation Results for: Random Forest (After Hyperparameter Tuning) ---\n",
      "Classification Report:\n",
      "              precision    recall  f1-score   support\n",
      "\n",
      "           0       0.90      0.74      0.81      1033\n",
      "           1       0.52      0.78      0.63       374\n",
      "\n",
      "    accuracy                           0.75      1407\n",
      "   macro avg       0.71      0.76      0.72      1407\n",
      "weighted avg       0.80      0.75      0.76      1407\n",
      "\n",
      "AUC-ROC Score on Test Set: 0.8415\n",
      "============================================================\n",
      "\n",
      "🔍 Tuning model: XGBoost\n"
     ]
    },
    {
     "name": "stderr",
     "output_type": "stream",
     "text": [
      "[I 2025-06-19 11:23:38,526] Trial 0 finished with value: 0.8255980606505421 and parameters: {'n_estimators': 425, 'max_depth': 4, 'learning_rate': 0.08487880948078366, 'subsample': 0.6788444533605646, 'colsample_bytree': 0.9848149890582852}. Best is trial 0 with value: 0.8255980606505421.\n",
      "[I 2025-06-19 11:23:39,303] Trial 1 finished with value: 0.7984482627083143 and parameters: {'n_estimators': 974, 'max_depth': 3, 'learning_rate': 0.2993518212821555, 'subsample': 0.5343768963446041, 'colsample_bytree': 0.5453541776763261}. Best is trial 0 with value: 0.8255980606505421.\n",
      "[I 2025-06-19 11:23:39,749] Trial 2 finished with value: 0.8085239803330145 and parameters: {'n_estimators': 146, 'max_depth': 8, 'learning_rate': 0.17414882202003412, 'subsample': 0.8061685182183425, 'colsample_bytree': 0.8466252346508308}. Best is trial 0 with value: 0.8255980606505421.\n",
      "[I 2025-06-19 11:23:41,389] Trial 3 finished with value: 0.7883197176391729 and parameters: {'n_estimators': 934, 'max_depth': 7, 'learning_rate': 0.20277957162444893, 'subsample': 0.8025976722265329, 'colsample_bytree': 0.683857170971859}. Best is trial 0 with value: 0.8255980606505421.\n",
      "[I 2025-06-19 11:23:42,830] Trial 4 finished with value: 0.8303688562129546 and parameters: {'n_estimators': 950, 'max_depth': 6, 'learning_rate': 0.016023368272626293, 'subsample': 0.9326217977449311, 'colsample_bytree': 0.9254555381407529}. Best is trial 4 with value: 0.8303688562129546.\n",
      "[I 2025-06-19 11:23:43,812] Trial 5 finished with value: 0.8007288121174471 and parameters: {'n_estimators': 540, 'max_depth': 7, 'learning_rate': 0.11829151742618794, 'subsample': 0.7668985884698134, 'colsample_bytree': 0.642742903540479}. Best is trial 4 with value: 0.8303688562129546.\n",
      "[I 2025-06-19 11:23:44,499] Trial 6 finished with value: 0.8034659281852029 and parameters: {'n_estimators': 811, 'max_depth': 4, 'learning_rate': 0.17521236982920224, 'subsample': 0.7399608237992314, 'colsample_bytree': 0.5154780010111994}. Best is trial 4 with value: 0.8303688562129546.\n",
      "[I 2025-06-19 11:23:45,101] Trial 7 finished with value: 0.837119117790817 and parameters: {'n_estimators': 869, 'max_depth': 3, 'learning_rate': 0.0458092216537721, 'subsample': 0.9423367498404405, 'colsample_bytree': 0.6090836973496742}. Best is trial 7 with value: 0.837119117790817.\n",
      "[I 2025-06-19 11:23:45,830] Trial 8 finished with value: 0.79463748375833 and parameters: {'n_estimators': 584, 'max_depth': 5, 'learning_rate': 0.2742831132286808, 'subsample': 0.8019732851432091, 'colsample_bytree': 0.8557415077031272}. Best is trial 7 with value: 0.837119117790817.\n",
      "[I 2025-06-19 11:23:46,108] Trial 9 finished with value: 0.8380293855883223 and parameters: {'n_estimators': 355, 'max_depth': 3, 'learning_rate': 0.08468209647631596, 'subsample': 0.765474505233587, 'colsample_bytree': 0.5816059944676595}. Best is trial 9 with value: 0.8380293855883223.\n",
      "[I 2025-06-19 11:23:46,553] Trial 10 finished with value: 0.8171175154883237 and parameters: {'n_estimators': 106, 'max_depth': 10, 'learning_rate': 0.11248712820393508, 'subsample': 0.6049613461216827, 'colsample_bytree': 0.7482313317738855}. Best is trial 9 with value: 0.8380293855883223.\n",
      "[I 2025-06-19 11:23:46,840] Trial 11 finished with value: 0.8445284714187308 and parameters: {'n_estimators': 345, 'max_depth': 3, 'learning_rate': 0.028373949017577418, 'subsample': 0.9950092310311949, 'colsample_bytree': 0.5927351504340981}. Best is trial 11 with value: 0.8445284714187308.\n",
      "[I 2025-06-19 11:23:47,114] Trial 12 finished with value: 0.842149602439429 and parameters: {'n_estimators': 336, 'max_depth': 3, 'learning_rate': 0.04673467836410533, 'subsample': 0.8777689293194451, 'colsample_bytree': 0.5798158120819952}. Best is trial 11 with value: 0.8445284714187308.\n",
      "[I 2025-06-19 11:23:47,505] Trial 13 finished with value: 0.8448635005824547 and parameters: {'n_estimators': 277, 'max_depth': 5, 'learning_rate': 0.011957813939441259, 'subsample': 0.8907296127525246, 'colsample_bytree': 0.7350796540961219}. Best is trial 13 with value: 0.8448635005824547.\n",
      "[I 2025-06-19 11:23:47,843] Trial 14 finished with value: 0.8447257827191219 and parameters: {'n_estimators': 233, 'max_depth': 5, 'learning_rate': 0.01754901870953664, 'subsample': 0.9669654171301748, 'colsample_bytree': 0.7059183077960235}. Best is trial 13 with value: 0.8448635005824547.\n",
      "[I 2025-06-19 11:23:48,140] Trial 15 finished with value: 0.8342043422933695 and parameters: {'n_estimators': 221, 'max_depth': 5, 'learning_rate': 0.07059811369364509, 'subsample': 0.876844219467998, 'colsample_bytree': 0.750507487369839}. Best is trial 13 with value: 0.8448635005824547.\n",
      "[I 2025-06-19 11:23:49,092] Trial 16 finished with value: 0.8381421789531874 and parameters: {'n_estimators': 664, 'max_depth': 6, 'learning_rate': 0.013460852869595565, 'subsample': 0.9977571095758903, 'colsample_bytree': 0.7311878627687791}. Best is trial 13 with value: 0.8448635005824547.\n",
      "[I 2025-06-19 11:23:49,390] Trial 17 finished with value: 0.8138086517694383 and parameters: {'n_estimators': 214, 'max_depth': 5, 'learning_rate': 0.21925428707798963, 'subsample': 0.8920752017378328, 'colsample_bytree': 0.7933645697509057}. Best is trial 13 with value: 0.8448635005824547.\n",
      "[I 2025-06-19 11:23:50,550] Trial 18 finished with value: 0.8018619860289721 and parameters: {'n_estimators': 450, 'max_depth': 9, 'learning_rate': 0.12594227903004593, 'subsample': 0.9404870714721529, 'colsample_bytree': 0.6796926038089472}. Best is trial 13 with value: 0.8448635005824547.\n",
      "[I 2025-06-19 11:23:50,972] Trial 19 finished with value: 0.8284022652809172 and parameters: {'n_estimators': 247, 'max_depth': 6, 'learning_rate': 0.06661407066383404, 'subsample': 0.8446386389422649, 'colsample_bytree': 0.8144070247881526}. Best is trial 13 with value: 0.8448635005824547.\n",
      "[I 2025-06-19 11:23:51,597] Trial 20 finished with value: 0.8299179095081081 and parameters: {'n_estimators': 678, 'max_depth': 4, 'learning_rate': 0.045756596082512424, 'subsample': 0.6932953890450221, 'colsample_bytree': 0.6963922968021345}. Best is trial 13 with value: 0.8448635005824547.\n",
      "[I 2025-06-19 11:23:51,993] Trial 21 finished with value: 0.8447184021842773 and parameters: {'n_estimators': 306, 'max_depth': 5, 'learning_rate': 0.011441325556771548, 'subsample': 0.9942870168899339, 'colsample_bytree': 0.6491062925288622}. Best is trial 13 with value: 0.8448635005824547.\n",
      "[I 2025-06-19 11:23:52,132] Trial 22 finished with value: 0.8427954715575998 and parameters: {'n_estimators': 60, 'max_depth': 5, 'learning_rate': 0.01824763479451756, 'subsample': 0.957805539125467, 'colsample_bytree': 0.6454027176653472}. Best is trial 13 with value: 0.8448635005824547.\n",
      "[I 2025-06-19 11:23:52,437] Trial 23 finished with value: 0.8414097183409238 and parameters: {'n_estimators': 273, 'max_depth': 4, 'learning_rate': 0.043216172830190164, 'subsample': 0.9040580238640437, 'colsample_bytree': 0.7199231465976075}. Best is trial 13 with value: 0.8448635005824547.\n",
      "[I 2025-06-19 11:23:53,065] Trial 24 finished with value: 0.8177770762923844 and parameters: {'n_estimators': 441, 'max_depth': 6, 'learning_rate': 0.09762825609010135, 'subsample': 0.9970118800392059, 'colsample_bytree': 0.7858140993096218}. Best is trial 13 with value: 0.8448635005824547.\n",
      "e:\\Program\\Anaconda\\envs\\kaggle\\Lib\\site-packages\\xgboost\\training.py:183: UserWarning: [11:23:53] WARNING: C:\\actions-runner\\_work\\xgboost\\xgboost\\src\\learner.cc:738: \n",
      "Parameters: { \"use_label_encoder\" } are not used.\n",
      "\n",
      "  bst.update(dtrain, iteration=i, fobj=obj)\n"
     ]
    },
    {
     "name": "stdout",
     "output_type": "stream",
     "text": [
      "✅ Best Parameters for XGBoost: {'n_estimators': 277, 'max_depth': 5, 'learning_rate': 0.011957813939441259, 'subsample': 0.8907296127525246, 'colsample_bytree': 0.7350796540961219, 'random_state': 42, 'n_jobs': -1, 'use_label_encoder': False, 'eval_metric': 'logloss'}\n",
      "--- Final Evaluation Results for: XGBoost (After Hyperparameter Tuning) ---\n",
      "Classification Report:\n",
      "              precision    recall  f1-score   support\n",
      "\n",
      "           0       0.90      0.77      0.83      1033\n",
      "           1       0.54      0.75      0.63       374\n",
      "\n",
      "    accuracy                           0.76      1407\n",
      "   macro avg       0.72      0.76      0.73      1407\n",
      "weighted avg       0.80      0.76      0.77      1407\n",
      "\n",
      "AUC-ROC Score on Test Set: 0.8467\n",
      "============================================================\n",
      "\n"
     ]
    }
   ],
   "source": [
    "# Model tuning & Training\n",
    "models_to_tune = {\n",
    "    \"Logistic Regression\": LogisticRegression,\n",
    "    \"Decision Tree\": DecisionTreeClassifier,\n",
    "    \"Random Forest\": RandomForestClassifier,\n",
    "    \"XGBoost\": XGBClassifier\n",
    "}\n",
    "\n",
    "best_pipelines = {}\n",
    "\n",
    "for model_name, model_class in models_to_tune.items():\n",
    "    print(f\"🔍 Tuning model: {model_name}\")\n",
    "    study = optuna.create_study(direction=\"maximize\")\n",
    "    study.optimize(partial(objective, model_class=model_class, model_name=model_name), n_trials=25)\n",
    "\n",
    "    best_params = study.best_params\n",
    "    best_params.update(get_fixed_params(model_name))\n",
    "    print(f\"✅ Best Parameters for {model_name}: {best_params}\")\n",
    "\n",
    "    final_pipeline = build_pipeline(model_class, best_params)\n",
    "    final_pipeline.fit(X_train_raw, y_train)\n",
    "    best_pipelines[model_name] = final_pipeline\n",
    "\n",
    "    y_pred = final_pipeline.predict(X_test_raw)\n",
    "    y_prob = final_pipeline.predict_proba(X_test_raw)[:, 1]\n",
    "\n",
    "    print_eval_report(model_name, y_test, y_pred, y_prob)"
   ]
  }
 ],
 "metadata": {
  "kernelspec": {
   "display_name": "kaggle",
   "language": "python",
   "name": "python3"
  },
  "language_info": {
   "codemirror_mode": {
    "name": "ipython",
    "version": 3
   },
   "file_extension": ".py",
   "mimetype": "text/x-python",
   "name": "python",
   "nbconvert_exporter": "python",
   "pygments_lexer": "ipython3",
   "version": "3.12.9"
  }
 },
 "nbformat": 4,
 "nbformat_minor": 5
}
